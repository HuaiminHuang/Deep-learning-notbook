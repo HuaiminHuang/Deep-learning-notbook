{
 "cells": [
  {
   "cell_type": "markdown",
   "id": "7445b26b-51d0-4a57-9805-181991719b19",
   "metadata": {},
   "source": [
    "# Build a minGPT"
   ]
  },
  {
   "cell_type": "code",
   "execution_count": 1,
   "id": "221f77bc-afbe-420c-bc59-8594542d8c49",
   "metadata": {},
   "outputs": [
    {
     "data": {
      "text/plain": [
       "<torch._C.Generator at 0x1ffde586210>"
      ]
     },
     "execution_count": 1,
     "metadata": {},
     "output_type": "execute_result"
    }
   ],
   "source": [
    "# 导入相关的包\n",
    "import torch\n",
    "import torch.nn as nn\n",
    "import torch.nn.functional as F\n",
    "from torch.utils.data import Dataset\n",
    "from torch.utils.data import DataLoader\n",
    "from dataclasses import dataclass\n",
    "import math\n",
    "torch.manual_seed(1024)"
   ]
  },
  {
   "cell_type": "code",
   "execution_count": 2,
   "id": "9f617952-00b5-4c12-ba6d-5b146353c70b",
   "metadata": {},
   "outputs": [],
   "source": [
    "import os\n",
    "os.environ['CUDA_LAUNCH_BLOCKING'] = \"1\"  # 同步报告错误\n",
    "os.environ['TORCH_USE_CUDA_DSA'] = \"1\"    # 启用设备端断言\n",
    "torch.cuda.empty_cache()      # 释放未用的显存块\n",
    "torch.cuda.reset_peak_memory_stats()  # 重置峰值统计\n",
    "torch.cuda.synchronize()      # 等待GPU完成所有任务"
   ]
  },
  {
   "cell_type": "code",
   "execution_count": 3,
   "id": "fc099df3-8066-44d7-9144-3299d194fea3",
   "metadata": {},
   "outputs": [],
   "source": [
    "# 自定义一些GPT的参数\n",
    "class GPTConfig:\n",
    "    block_size: int = 512 #文本的最大长度 max_seq\n",
    "    batch_size: int = 4 #12\n",
    "    n_layer: int = 2 #12\n",
    "    n_head: int = 12 #12\n",
    "    n_embd: int =768 #768 hidden_dim or hidden_size-->emb-size\n",
    "    hidden_dim = n_embd\n",
    "    # 为了tie_embding_weight\n",
    "    dropout: float = 0.1\n",
    "    head_size: int = n_embd // n_head\n",
    "    # 使用了gpt2的官方tokenizer\n",
    "    vocab_size: int = 50257\n",
    "    "
   ]
  },
  {
   "cell_type": "code",
   "execution_count": 4,
   "id": "59294944-0db1-4568-9b8d-c0d53a1850f4",
   "metadata": {},
   "outputs": [],
   "source": [
    "# 定义GPT的结构\n",
    "\n",
    "# 1.single head attention \n",
    "class SingleHeadAttention(nn.Module):\n",
    "    def __init__(self,config):\n",
    "        super().__init__()\n",
    "        self.query = nn.Linear(config.hidden_dim, config.head_size)\n",
    "        self.key = nn.Linear(config.hidden_dim, config.head_size)\n",
    "        self.value = nn.Linear(config.hidden_dim, config.head_size)\n",
    "        self.head_size = config.head_size\n",
    "        \n",
    "        # 尝试register——buffer注册实现sttention_masked\n",
    "        # 因为不用计算梯度，节省计算开销\n",
    "        self.register_buffer(\n",
    "            \"attention_mask\", \n",
    "            # tril 是下三角的意思以及blok_size = 512\n",
    "            torch.tril(\n",
    "                torch.ones(config.block_size, config.block_size)\n",
    "            )\n",
    "        )\n",
    "        self.dropout = nn.Dropout(config.dropout)\n",
    "\n",
    "    def forward(self, x):\n",
    "        batch_size, seq_len, hidden_dim = x.size()\n",
    "        k = self.key(x)\n",
    "        q = self.query(x)\n",
    "        v = self.value(x)\n",
    "        weight = q @ k.transpose(-2, -1)   # @ 是 torch.matmul 的简化写法\n",
    "        # 一定要在 softmax 前除以 sqrt(head_size)\n",
    "        weight = weight.masked_fill(\n",
    "            self.attention_mask[:seq_len, :seq_len] == 0, \n",
    "            float('-inf')\n",
    "        ) / math.sqrt(self.head_size)  # 这里的 hidden_size 其实是 head_size，因为是单头\n",
    "        weight = F.softmax(weight, dim=-1)\n",
    "        weight = self.dropout(weight)\n",
    "        out = weight @ v\n",
    "        return out\n",
    "        "
   ]
  },
  {
   "cell_type": "code",
   "execution_count": 5,
   "id": "443e5df1-48db-457c-9c03-4fbe7dcf3a7f",
   "metadata": {},
   "outputs": [],
   "source": [
    "# 2.multi head attention\n",
    "class MultiHeadAttention(nn.Module):\n",
    "    def  __init__(self, config):\n",
    "        super().__init__()\n",
    "        self.heads = nn.ModuleList(\n",
    "            [\n",
    "                SingleHeadAttention(config)\n",
    "                for _ in range(config.n_head)\n",
    "            ]\n",
    "        )\n",
    "        self.proj = nn.Linear(config.hidden_dim, config.hidden_dim)\n",
    "        self.dropout = nn.Dropout(config.dropout)\n",
    "\n",
    "    def forward(self, x):\n",
    "        output = torch.cat(\n",
    "            [h(x) for h in self.heads], dim = -1\n",
    "        )\n",
    "        output = self.proj(output)\n",
    "        output = self.dropout(output)\n",
    "        return output"
   ]
  },
  {
   "cell_type": "code",
   "execution_count": 6,
   "id": "4101111c-7989-4b7a-9408-85445af84c01",
   "metadata": {},
   "outputs": [],
   "source": [
    "# feed forward (MLP)\n",
    "\n",
    "class Feedforward(nn.Module):\n",
    "    def __init__(self, config):\n",
    "        super().__init__()\n",
    "        self.net = nn.Sequential(\n",
    "            nn.Linear(config.hidden_dim, 4*config.hidden_dim), \n",
    "            nn.GELU(), \n",
    "            nn.Linear(4* config.hidden_dim, config.hidden_dim), \n",
    "            nn.Dropout(config.dropout)\n",
    "        )\n",
    "\n",
    "    def forward(self, x):\n",
    "        return self.net(x)\n",
    "        "
   ]
  },
  {
   "cell_type": "code",
   "execution_count": 7,
   "id": "e7332bcd-1e20-45fc-b5f7-3ccf38146245",
   "metadata": {},
   "outputs": [],
   "source": [
    "# block \n",
    "class Block(nn.Module):\n",
    "    def __init__(self, config):\n",
    "        super().__init__()\n",
    "        self.att = MultiHeadAttention(config)\n",
    "        self.ffn = Feedforward(config)\n",
    "        self.ln1 = nn.LayerNorm(config.n_embd)\n",
    "        self.ln2 = nn.LayerNorm(config.n_embd)\n",
    "\n",
    "    def forward(self, x):\n",
    "        x = x + self.att(self.ln1(x))\n",
    "        x = x + self.ffn(self.ln2(x))\n",
    "        return x"
   ]
  },
  {
   "cell_type": "code",
   "execution_count": 8,
   "id": "47e2642e-b1e0-4612-99a3-5a32752a9a9d",
   "metadata": {},
   "outputs": [],
   "source": [
    "# 5.GPT\n",
    "class GPT(nn.Module):\n",
    "    def __init__(self, config):\n",
    "        super().__init__()\n",
    "        # (embding, position, norm, mlp, block)\n",
    "        self.token_embding_table = nn.Embedding(config.vocab_size, config.n_embd)\n",
    "        self.position_embedding_table = nn.Embedding(config.block_size, config.n_embd)\n",
    "        self.blocks = nn.Sequential(\n",
    "            *[Block(config) for _ in range(config.n_layer)]\n",
    "        )\n",
    "        self.ln_final = nn.LayerNorm(config.n_embd)\n",
    "        self.lm_head = nn.Linear(config.n_embd, config.vocab_size, bias=False)\n",
    "        ## 现在的SLM模型会使用tie weight来减少参数\n",
    "        # linear 4-->8，weight实际上的shape （8*4）\n",
    "        self.apply(self._init_weight)\n",
    "        \n",
    "    def _init_weight(self, module):\n",
    "        # 错误检查\n",
    "        if isinstance(module, nn.Linear):\n",
    "            # 初始化为正态分布\n",
    "            torch.nn.init.normal_(module.weight, mean=0.0, std=0.02)\n",
    "            if module.bias is not None:\n",
    "                torch.nn.init.zeros_(module.bias)\n",
    "        elif isinstance(module, nn.Embedding):\n",
    "                torch.nn.init.normal_(module.weight, mean=0.0, std=0.02)\n",
    "\n",
    "    def forward(self, idx, targets=None):\n",
    "        # idx为输入token ids\n",
    "        # targets是 目标 ids\n",
    "        # shape 要相同\n",
    "        batch_size, seq_len =idx.size() # (batch_size, seq_len)\n",
    "        token_emb = self.token_embding_table(idx) #(batch_size, seq_len, n_embd)\n",
    "        pos_emb = self.position_embedding_table(\n",
    "            # 确保位置编码和输入的idx在同一个设备上\n",
    "            torch.arange(seq_len, device=idx.device)\n",
    "        )\n",
    "        # 经典题目为什么token_embd和positon_embd可以相加\n",
    "\n",
    "        x = token_emb + pos_emb # shpe is (batch_size, seq_len, n_embd)\n",
    "        x = self.blocks(x)\n",
    "        x = self.ln_final(x)\n",
    "        logits = self.lm_head(x) # shape is (batch_size, seq_len, vacab_size)\n",
    "        if targets is None:\n",
    "            loss = None\n",
    "        else:\n",
    "            batch, seq_len, vocab_size = logits.size()\n",
    "            logits = logits.view(batch*seq_len, vocab_size)\n",
    "            targets = targets.view(batch*seq_len)\n",
    "            loss = F.cross_entropy(logits, targets)\n",
    "        return logits, loss\n",
    "\n",
    "    def generate(self, idx, max_new_tokens):\n",
    "        # id shape is (batch, seq_len)\n",
    "        for _ in range(max_new_tokens):\n",
    "            idx_cond = idx if idx.size(1) <= confi .block_size else dix[:, -self.config.block_size:]\n",
    "            logits, _ =self(idx_cond) # shape is (batch, seq_len, vocab_size)\n",
    "            logits = self[:, -1, :]\n",
    "            probs = F.softmax(logits, dim=-1)\n",
    "            # 随机采样\n",
    "            idx_next = torch.multinomial(probs, num_sample=1)\n",
    "            idx = torch.cat((idx, idx_next), dim=1) # shape is (batch, seq_len+1)\n",
    "        return idx\n",
    "            "
   ]
  },
  {
   "cell_type": "code",
   "execution_count": 9,
   "id": "3c1280ff-5ddf-4c4f-ba03-4dd7ad36460e",
   "metadata": {},
   "outputs": [],
   "source": [
    "# !pip install tiktoken"
   ]
  },
  {
   "cell_type": "code",
   "execution_count": 10,
   "id": "aad438fd-78ac-4d3c-967f-a425b189d507",
   "metadata": {},
   "outputs": [],
   "source": [
    "# 写一个dataset 为了dataloader准备\n",
    "class MyDataset(Dataset):\n",
    "    def __init__(self, path, block_size=512):\n",
    "        import tiktoken\n",
    "        self.enc = tiktoken.get_encoding(\"gpt2\")\n",
    "        self.block_size = block_size #position 的最大长度\n",
    "\n",
    "        self.encoded_data = []\n",
    "        # 需要用特护符号分割文本 gpt2--> <|endoftext|>\n",
    "        self.eos_token = self.enc.encode(\n",
    "            \"<|endoftext|>\", \n",
    "            allowed_special={\"<|endoftext|>\"}\n",
    "        )[0]\n",
    "        \n",
    "        import json\n",
    "        self.encoded_data = []\n",
    "        raw_data = []\n",
    "        self.max_lines = 1000  #读取前面的一千行\n",
    "        \n",
    "        with open(path, 'r', encoding='utf-8') as f:\n",
    "            for i, line in enumerate(f):\n",
    "                if i>=self.max_lines:\n",
    "                    break\n",
    "                try:\n",
    "                    text = json.loads(line.strip())[\"text\"]\n",
    "                    raw_data.append(text)\n",
    "                except Exception as e:\n",
    "                    continue\n",
    "\n",
    "        full_encoded = []\n",
    "        for text in raw_data:\n",
    "            encoded_text = self.enc.encode(text) #list\n",
    "            full_encoded.extend(encoded_text + [self.eos_token])\n",
    "\n",
    "        # block_size is 512  将长文本分割成训练样本\n",
    "        for i in range(0, len(full_encoded), self.block_size):\n",
    "            # 多拿一个token作为目标\n",
    "            chunk = full_encoded[i: i+self.block_size+1] # 512-->513（实际）\n",
    "            # 如果不够使用eos_token填充\n",
    "            if len(chunk) < self.block_size + 1:\n",
    "                chunk = chunk + [self.eos_token]*(self.block_size + 1 -len(chunk))\n",
    "            self.encoded_data.append(chunk)\n",
    "                \n",
    "    def __len__(self):\n",
    "        return len(self.encoded_data)\n",
    "\n",
    "    def __getitem__(self, idx):\n",
    "        chunk = self.encoded_data[idx]\n",
    "        x = torch.tensor(chunk[:-1], dtype = torch.long)\n",
    "        y = torch.tensor(chunk[1:], dtype = torch.long)\n",
    "        return x, y\n",
    "\n",
    "    def encode(self, text):\n",
    "        '''将文本编码为 token IDs'''\n",
    "        return self.enc.encode(text)\n",
    "\n",
    "    def decode(self, ids):\n",
    "        '''将token IDs 解码为文本'''\n",
    "        return self.enc.decode(ids)\n",
    "            "
   ]
  },
  {
   "cell_type": "code",
   "execution_count": 11,
   "id": "acec0053-cb2c-48b9-8376-5a45cf4d4b14",
   "metadata": {},
   "outputs": [],
   "source": [
    "train_data = MyDataset('../data/seq-monkey-data/seq_monkey_small.jsonl')\n",
    "train_dataset, val_dataset = torch.utils.data.random_split(train_data, [0.9, 0.1])\n",
    "\n",
    "train_loader = DataLoader(train_dataset, batch_size=12, shuffle=True)\n",
    "val_loader = DataLoader(val_dataset, batch_size=12, shuffle=False)"
   ]
  },
  {
   "cell_type": "code",
   "execution_count": 12,
   "id": "69976ca6-cf3f-4399-88cc-8764342e5a4b",
   "metadata": {},
   "outputs": [
    {
     "name": "stdout",
     "output_type": "stream",
     "text": [
      "Total parameters:120.116736 M\n"
     ]
    }
   ],
   "source": [
    "model = GPT(GPTConfig())\n",
    "device = 'cuda' if torch.cuda.is_available() else 'cpu'\n",
    "model = model.to(device)\n",
    "\n",
    "# 打印模型一共有多少参数\n",
    "total_para = sum(p.numel() for p in model.parameters())\n",
    "print(f'Total parameters:{total_para / 1e6} M')\n",
    "\n",
    "optimizer = torch.optim.AdamW(model.parameters(), lr=3e-4)\n",
    "# 设置cosine学习率\n",
    "scheduler = torch.optim.lr_scheduler.CosineAnnealingLR(optimizer, T_max=1000)"
   ]
  },
  {
   "cell_type": "code",
   "execution_count": 13,
   "id": "deee2977-8a3f-484d-8a25-b555688c8231",
   "metadata": {},
   "outputs": [
    {
     "name": "stdout",
     "output_type": "stream",
     "text": [
      "torch.Size([12, 512]) torch.Size([12, 512])\n"
     ]
    }
   ],
   "source": [
    "for x, y in train_loader:\n",
    "    print(x.shape, y.shape)\n",
    "    break"
   ]
  },
  {
   "cell_type": "code",
   "execution_count": 14,
   "id": "5d9cbc65-8d95-4817-9c59-52be895ac9c6",
   "metadata": {},
   "outputs": [
    {
     "data": {
      "text/plain": [
       "'cuda'"
      ]
     },
     "execution_count": 14,
     "metadata": {},
     "output_type": "execute_result"
    }
   ],
   "source": [
    "device"
   ]
  },
  {
   "cell_type": "code",
   "execution_count": 15,
   "id": "e126c8a3-02eb-45a3-9be0-4c201bae86db",
   "metadata": {},
   "outputs": [
    {
     "name": "stdout",
     "output_type": "stream",
     "text": [
      "Epoch: 0, Batch: 0, Loss: 10.9697\n",
      "Epoch: 0, Batch: 100, Loss: 3.6738\n",
      "Epoch: 0, Batch: 200, Loss: 3.7228\n",
      "Epoch: 0, Train Loss: 3.9688, Val Loss: 3.4325\n",
      "Epoch: 1, Batch: 0, Loss: 3.3986\n",
      "Epoch: 1, Batch: 100, Loss: 3.3431\n",
      "Epoch: 1, Batch: 200, Loss: 3.2778\n",
      "Epoch: 1, Train Loss: 3.2875, Val Loss: 3.1650\n"
     ]
    }
   ],
   "source": [
    "# 训练循环(粘贴)\n",
    "def train(model, optimizer, scheduler, train_loader, val_loader, device, epoch):\n",
    "    model.train()\n",
    "    total_loss = 0\n",
    "    for batch_idx, (x, y) in enumerate(train_loader):\n",
    "        # 将数据移到设备上\n",
    "        x, y = x.to(device), y.to(device)\n",
    "        \n",
    "        # 前向传播\n",
    "        logits, loss = model(x, targets=y)\n",
    "        \n",
    "        # 反向传播\n",
    "        optimizer.zero_grad()\n",
    "        loss.backward()\n",
    "        optimizer.step()\n",
    "        # 调整学习率\n",
    "        scheduler.step()\n",
    "        \n",
    "        total_loss += loss.item()\n",
    "        \n",
    "        if batch_idx % 100 == 0:\n",
    "            print(f'Epoch: {epoch}, Batch: {batch_idx}, Loss: {loss.item():.4f}')\n",
    "    return total_loss\n",
    "\n",
    "def eval(model, val_loader, device):\n",
    "    # 验证\n",
    "    model.eval()\n",
    "    val_loss = 0\n",
    "    with torch.no_grad():\n",
    "        for x, y in val_loader:\n",
    "            x, y = x.to(device), y.to(device)\n",
    "            logits, loss = model(x, targets=y)\n",
    "            val_loss += loss.item()\n",
    "    return val_loss\n",
    "\n",
    "os.makedirs('checkpoints', exist_ok=True)\n",
    "\n",
    "for epoch in range(2):\n",
    "    train_loss = train(model, optimizer, scheduler, train_loader, val_loader, device, epoch)\n",
    "    val_loss = eval(model, val_loader, device)\n",
    "    print(f'Epoch: {epoch}, Train Loss: {train_loss/len(train_loader):.4f}, Val Loss: {val_loss/len(val_loader):.4f}')\n",
    "\n",
    "    # 保存模型\n",
    "    avg_val_loss = val_loss / len(val_loader)\n",
    "    checkpoint = {\n",
    "        'epoch': epoch,\n",
    "        'model_state_dict': model.state_dict(),\n",
    "        'optimizer_state_dict': optimizer.state_dict(),\n",
    "        'scheduler_state_dict': scheduler.state_dict(),\n",
    "        'val_loss': avg_val_loss,\n",
    "    }\n",
    "    # 保存每个epoch的模型\n",
    "    torch.save(checkpoint, f'checkpoints/model_epoch_{epoch}.pt')\n",
    "    "
   ]
  }
 ],
 "metadata": {
  "kernelspec": {
   "display_name": "Python 3 (ipykernel)",
   "language": "python",
   "name": "python3"
  },
  "language_info": {
   "codemirror_mode": {
    "name": "ipython",
    "version": 3
   },
   "file_extension": ".py",
   "mimetype": "text/x-python",
   "name": "python",
   "nbconvert_exporter": "python",
   "pygments_lexer": "ipython3",
   "version": "3.9.23"
  }
 },
 "nbformat": 4,
 "nbformat_minor": 5
}
