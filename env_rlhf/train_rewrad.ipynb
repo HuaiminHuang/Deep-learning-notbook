{
 "cells": [
  {
   "cell_type": "code",
   "execution_count": 1,
   "id": "4cd07580",
   "metadata": {
    "scrolled": true
   },
   "outputs": [
    {
     "name": "stdout",
     "output_type": "stream",
     "text": [
      "Looking in indexes: https://pypi.tuna.tsinghua.edu.cn/simple\n",
      "Requirement already satisfied: accelerate in c:\\users\\hhm18\\miniconda3\\envs\\env_drl\\lib\\site-packages (1.10.1)\n",
      "Requirement already satisfied: datasets in c:\\users\\hhm18\\miniconda3\\envs\\env_drl\\lib\\site-packages (4.0.0)\n",
      "Requirement already satisfied: transformers in c:\\users\\hhm18\\miniconda3\\envs\\env_drl\\lib\\site-packages (4.56.0)\n",
      "Requirement already satisfied: peft in c:\\users\\hhm18\\miniconda3\\envs\\env_drl\\lib\\site-packages (0.17.1)\n",
      "Requirement already satisfied: numpy<3.0.0,>=1.17 in c:\\users\\hhm18\\miniconda3\\envs\\env_drl\\lib\\site-packages (from accelerate) (1.26.3)\n",
      "Requirement already satisfied: packaging>=20.0 in c:\\users\\hhm18\\miniconda3\\envs\\env_drl\\lib\\site-packages (from accelerate) (25.0)\n",
      "Requirement already satisfied: psutil in c:\\users\\hhm18\\miniconda3\\envs\\env_drl\\lib\\site-packages (from accelerate) (5.9.0)\n",
      "Requirement already satisfied: pyyaml in c:\\users\\hhm18\\miniconda3\\envs\\env_drl\\lib\\site-packages (from accelerate) (6.0.2)\n",
      "Requirement already satisfied: torch>=2.0.0 in c:\\users\\hhm18\\miniconda3\\envs\\env_drl\\lib\\site-packages (from accelerate) (2.3.1+cu118)\n",
      "Requirement already satisfied: huggingface_hub>=0.21.0 in c:\\users\\hhm18\\miniconda3\\envs\\env_drl\\lib\\site-packages (from accelerate) (0.34.4)\n",
      "Requirement already satisfied: safetensors>=0.4.3 in c:\\users\\hhm18\\miniconda3\\envs\\env_drl\\lib\\site-packages (from accelerate) (0.6.2)\n",
      "Requirement already satisfied: filelock in c:\\users\\hhm18\\miniconda3\\envs\\env_drl\\lib\\site-packages (from datasets) (3.13.1)\n",
      "Requirement already satisfied: pyarrow>=15.0.0 in c:\\users\\hhm18\\miniconda3\\envs\\env_drl\\lib\\site-packages (from datasets) (21.0.0)\n",
      "Requirement already satisfied: dill<0.3.9,>=0.3.0 in c:\\users\\hhm18\\miniconda3\\envs\\env_drl\\lib\\site-packages (from datasets) (0.3.8)\n",
      "Requirement already satisfied: pandas in c:\\users\\hhm18\\miniconda3\\envs\\env_drl\\lib\\site-packages (from datasets) (2.3.2)\n",
      "Requirement already satisfied: requests>=2.32.2 in c:\\users\\hhm18\\miniconda3\\envs\\env_drl\\lib\\site-packages (from datasets) (2.32.5)\n",
      "Requirement already satisfied: tqdm>=4.66.3 in c:\\users\\hhm18\\miniconda3\\envs\\env_drl\\lib\\site-packages (from datasets) (4.67.1)\n",
      "Requirement already satisfied: xxhash in c:\\users\\hhm18\\miniconda3\\envs\\env_drl\\lib\\site-packages (from datasets) (3.5.0)\n",
      "Requirement already satisfied: multiprocess<0.70.17 in c:\\users\\hhm18\\miniconda3\\envs\\env_drl\\lib\\site-packages (from datasets) (0.70.16)\n",
      "Requirement already satisfied: fsspec<=2025.3.0,>=2023.1.0 in c:\\users\\hhm18\\miniconda3\\envs\\env_drl\\lib\\site-packages (from fsspec[http]<=2025.3.0,>=2023.1.0->datasets) (2024.6.1)\n",
      "Requirement already satisfied: aiohttp!=4.0.0a0,!=4.0.0a1 in c:\\users\\hhm18\\miniconda3\\envs\\env_drl\\lib\\site-packages (from fsspec[http]<=2025.3.0,>=2023.1.0->datasets) (3.12.15)\n",
      "Requirement already satisfied: regex!=2019.12.17 in c:\\users\\hhm18\\miniconda3\\envs\\env_drl\\lib\\site-packages (from transformers) (2025.7.34)\n",
      "Requirement already satisfied: tokenizers<=0.23.0,>=0.22.0 in c:\\users\\hhm18\\miniconda3\\envs\\env_drl\\lib\\site-packages (from transformers) (0.22.0)\n",
      "Requirement already satisfied: typing-extensions>=3.7.4.3 in c:\\users\\hhm18\\miniconda3\\envs\\env_drl\\lib\\site-packages (from huggingface_hub>=0.21.0->accelerate) (4.12.2)\n",
      "Requirement already satisfied: aiohappyeyeballs>=2.5.0 in c:\\users\\hhm18\\miniconda3\\envs\\env_drl\\lib\\site-packages (from aiohttp!=4.0.0a0,!=4.0.0a1->fsspec[http]<=2025.3.0,>=2023.1.0->datasets) (2.6.1)\n",
      "Requirement already satisfied: aiosignal>=1.4.0 in c:\\users\\hhm18\\miniconda3\\envs\\env_drl\\lib\\site-packages (from aiohttp!=4.0.0a0,!=4.0.0a1->fsspec[http]<=2025.3.0,>=2023.1.0->datasets) (1.4.0)\n",
      "Requirement already satisfied: async-timeout<6.0,>=4.0 in c:\\users\\hhm18\\miniconda3\\envs\\env_drl\\lib\\site-packages (from aiohttp!=4.0.0a0,!=4.0.0a1->fsspec[http]<=2025.3.0,>=2023.1.0->datasets) (4.0.3)\n",
      "Requirement already satisfied: attrs>=17.3.0 in c:\\users\\hhm18\\miniconda3\\envs\\env_drl\\lib\\site-packages (from aiohttp!=4.0.0a0,!=4.0.0a1->fsspec[http]<=2025.3.0,>=2023.1.0->datasets) (24.3.0)\n",
      "Requirement already satisfied: frozenlist>=1.1.1 in c:\\users\\hhm18\\miniconda3\\envs\\env_drl\\lib\\site-packages (from aiohttp!=4.0.0a0,!=4.0.0a1->fsspec[http]<=2025.3.0,>=2023.1.0->datasets) (1.7.0)\n",
      "Requirement already satisfied: multidict<7.0,>=4.5 in c:\\users\\hhm18\\miniconda3\\envs\\env_drl\\lib\\site-packages (from aiohttp!=4.0.0a0,!=4.0.0a1->fsspec[http]<=2025.3.0,>=2023.1.0->datasets) (6.6.4)\n",
      "Requirement already satisfied: propcache>=0.2.0 in c:\\users\\hhm18\\miniconda3\\envs\\env_drl\\lib\\site-packages (from aiohttp!=4.0.0a0,!=4.0.0a1->fsspec[http]<=2025.3.0,>=2023.1.0->datasets) (0.3.2)\n",
      "Requirement already satisfied: yarl<2.0,>=1.17.0 in c:\\users\\hhm18\\miniconda3\\envs\\env_drl\\lib\\site-packages (from aiohttp!=4.0.0a0,!=4.0.0a1->fsspec[http]<=2025.3.0,>=2023.1.0->datasets) (1.20.1)\n",
      "Requirement already satisfied: idna>=2.0 in c:\\users\\hhm18\\miniconda3\\envs\\env_drl\\lib\\site-packages (from yarl<2.0,>=1.17.0->aiohttp!=4.0.0a0,!=4.0.0a1->fsspec[http]<=2025.3.0,>=2023.1.0->datasets) (3.7)\n",
      "Requirement already satisfied: charset_normalizer<4,>=2 in c:\\users\\hhm18\\miniconda3\\envs\\env_drl\\lib\\site-packages (from requests>=2.32.2->datasets) (3.3.2)\n",
      "Requirement already satisfied: urllib3<3,>=1.21.1 in c:\\users\\hhm18\\miniconda3\\envs\\env_drl\\lib\\site-packages (from requests>=2.32.2->datasets) (2.5.0)\n",
      "Requirement already satisfied: certifi>=2017.4.17 in c:\\users\\hhm18\\miniconda3\\envs\\env_drl\\lib\\site-packages (from requests>=2.32.2->datasets) (2025.8.3)\n",
      "Requirement already satisfied: sympy in c:\\users\\hhm18\\miniconda3\\envs\\env_drl\\lib\\site-packages (from torch>=2.0.0->accelerate) (1.13.3)\n",
      "Requirement already satisfied: networkx in c:\\users\\hhm18\\miniconda3\\envs\\env_drl\\lib\\site-packages (from torch>=2.0.0->accelerate) (3.2.1)\n",
      "Requirement already satisfied: jinja2 in c:\\users\\hhm18\\miniconda3\\envs\\env_drl\\lib\\site-packages (from torch>=2.0.0->accelerate) (3.1.4)\n",
      "Requirement already satisfied: mkl<=2021.4.0,>=2021.1.1 in c:\\users\\hhm18\\miniconda3\\envs\\env_drl\\lib\\site-packages (from torch>=2.0.0->accelerate) (2021.4.0)\n",
      "Requirement already satisfied: intel-openmp==2021.* in c:\\users\\hhm18\\miniconda3\\envs\\env_drl\\lib\\site-packages (from mkl<=2021.4.0,>=2021.1.1->torch>=2.0.0->accelerate) (2021.4.0)\n",
      "Requirement already satisfied: tbb==2021.* in c:\\users\\hhm18\\miniconda3\\envs\\env_drl\\lib\\site-packages (from mkl<=2021.4.0,>=2021.1.1->torch>=2.0.0->accelerate) (2021.11.0)\n",
      "Requirement already satisfied: colorama in c:\\users\\hhm18\\miniconda3\\envs\\env_drl\\lib\\site-packages (from tqdm>=4.66.3->datasets) (0.4.6)\n",
      "Requirement already satisfied: MarkupSafe>=2.0 in c:\\users\\hhm18\\miniconda3\\envs\\env_drl\\lib\\site-packages (from jinja2->torch>=2.0.0->accelerate) (2.1.5)\n",
      "Requirement already satisfied: python-dateutil>=2.8.2 in c:\\users\\hhm18\\miniconda3\\envs\\env_drl\\lib\\site-packages (from pandas->datasets) (2.9.0.post0)\n",
      "Requirement already satisfied: pytz>=2020.1 in c:\\users\\hhm18\\miniconda3\\envs\\env_drl\\lib\\site-packages (from pandas->datasets) (2025.2)\n",
      "Requirement already satisfied: tzdata>=2022.7 in c:\\users\\hhm18\\miniconda3\\envs\\env_drl\\lib\\site-packages (from pandas->datasets) (2025.2)\n",
      "Requirement already satisfied: six>=1.5 in c:\\users\\hhm18\\miniconda3\\envs\\env_drl\\lib\\site-packages (from python-dateutil>=2.8.2->pandas->datasets) (1.17.0)\n",
      "Requirement already satisfied: mpmath<1.4,>=1.1.0 in c:\\users\\hhm18\\miniconda3\\envs\\env_drl\\lib\\site-packages (from sympy->torch>=2.0.0->accelerate) (1.3.0)\n"
     ]
    }
   ],
   "source": [
    "!pip install accelerate datasets transformers peft"
   ]
  },
  {
   "cell_type": "code",
   "execution_count": 15,
   "id": "be921b05",
   "metadata": {},
   "outputs": [],
   "source": [
    "import os, torch\n",
    "from datasets import load_dataset\n",
    "from transformers import AutoModelForSequenceClassification, AutoTokenizer\n",
    "from trl import (\n",
    "    ModelConfig,\n",
    "    RewardConfig,\n",
    "    RewardTrainer,\n",
    "    ScriptArguments,\n",
    "    get_kbit_device_map,\n",
    "    get_peft_config,\n",
    "    get_quantization_config,\n",
    "    setup_chat_format,\n",
    ")\n",
    "\n",
    "# 🚫 禁用 trackio / wandb 等日志\n",
    "os.environ[\"DISABLE_TRACKIO\"] = \"1\"\n",
    "os.environ[\"WANDB_DISABLED\"] = \"true\"\n"
   ]
  },
  {
   "cell_type": "code",
   "execution_count": 3,
   "id": "1669c8a9",
   "metadata": {},
   "outputs": [
    {
     "name": "stdout",
     "output_type": "stream",
     "text": [
      "trl version:  0.22.2\n",
      "transformers version:  4.56.0\n",
      "torch veion:  2.3.1+cu118\n"
     ]
    }
   ],
   "source": [
    "import trl\n",
    "import transformers\n",
    "import torch\n",
    "print(\"trl version: \", trl.__version__)\n",
    "print(\"transformers version: \", transformers.__version__)\n",
    "print(\"torch veion: \", torch.__version__)"
   ]
  },
  {
   "cell_type": "code",
   "execution_count": 22,
   "id": "880c74f8",
   "metadata": {},
   "outputs": [],
   "source": [
    "model_path = \"C:/Users/hhm18/Desktop/深度学习/env_DRL/model/QwenQwen2.5-0.5B-Instruct\"\n",
    "save_path = \"C:/Users/hhm18/Desktop/深度学习/env_DRL/model/trainedppo\"\n",
    "reward_model_path = \"C:/Users/hhm18/Desktop/深度学习/env_DRL/model/reward\"\n",
    "\n",
    "training_args = RewardConfig(\n",
    "    output_dir=reward_model_path,\n",
    "    per_device_train_batch_size=4,\n",
    "    num_train_epochs=1,\n",
    "    learning_rate=1e-5,\n",
    "    gradient_checkpointing=True,\n",
    "    eval_strategy=\"steps\",\n",
    "    eval_steps=50,\n",
    "    max_length=1024,\n",
    "    logging_strategy=\"no\",             # 🚫 关闭日志\n",
    "    # eval_strategy=\"no\",                # 🚫 不做 eval（想做就改成 \"steps\"）\n",
    "    save_strategy=\"no\",                # 🚫 不自动保存 checkpoint\n",
    "    report_to=\"none\"                   # 🚫 禁用所有集成\n",
    ")\n",
    "\n",
    "model_args = ModelConfig(\n",
    "    model_name_or_path=model_path,   # 基座模型\n",
    "    trust_remote_code=True,\n",
    "    use_peft=False  # 如果要用LoRA再改True\n",
    ")\n"
   ]
  },
  {
   "cell_type": "code",
   "execution_count": 5,
   "id": "c483fbd6",
   "metadata": {},
   "outputs": [
    {
     "name": "stderr",
     "output_type": "stream",
     "text": [
      "Some weights of Qwen2ForSequenceClassification were not initialized from the model checkpoint at C:/Users/hhm18/Desktop/深度学习/env_DRL/model/QwenQwen2.5-0.5B-Instruct and are newly initialized: ['score.weight']\n",
      "You should probably TRAIN this model on a down-stream task to be able to use it for predictions and inference.\n"
     ]
    }
   ],
   "source": [
    "# 加载模型和tokenizer\n",
    "torch_dtype = (\n",
    "    model_args.torch_dtype if model_args.torch_dtype in [\"auto\", None] else getattr(torch, model_args.torch_dtype)\n",
    ")\n",
    "\n",
    "quantization_config = get_quantization_config(model_args)\n",
    "\n",
    "model_kwargs = dict(\n",
    "    revision=model_args.model_revision,\n",
    "    device_map=get_kbit_device_map() if quantization_config is not None else None,\n",
    "    quantization_config=quantization_config,\n",
    "    use_cache=False if training_args.gradient_checkpointing else True,\n",
    "    torch_dtype=torch_dtype,\n",
    ")\n",
    "\n",
    "model = AutoModelForSequenceClassification.from_pretrained(\n",
    "    model_args.model_name_or_path,\n",
    "    num_labels=1,\n",
    "    trust_remote_code=model_args.trust_remote_code,\n",
    "    **model_kwargs\n",
    ")\n",
    "\n",
    "tokenizer = AutoTokenizer.from_pretrained(\n",
    "    model_args.model_name_or_path, trust_remote_code=model_args.trust_remote_code, use_fast=True\n",
    ")\n"
   ]
  },
  {
   "cell_type": "code",
   "execution_count": 6,
   "id": "a06a430e",
   "metadata": {},
   "outputs": [],
   "source": [
    "# 对齐 pad_token\n",
    "tokenizer.pad_token = tokenizer.eos_token\n",
    "model.config.pad_token_id = tokenizer.pad_token_id\n",
    "\n",
    "# 如果是 base 模型，给它加上 chat 模板\n",
    "if tokenizer.chat_template is None:\n",
    "    model, tokenizer = setup_chat_format(model, tokenizer)"
   ]
  },
  {
   "cell_type": "code",
   "execution_count": 7,
   "id": "4c29d238",
   "metadata": {},
   "outputs": [
    {
     "data": {
      "text/plain": [
       "('<|im_end|>', 151645)"
      ]
     },
     "execution_count": 7,
     "metadata": {},
     "output_type": "execute_result"
    }
   ],
   "source": [
    "tokenizer.pad_token, model.config.pad_token_id"
   ]
  },
  {
   "cell_type": "code",
   "execution_count": 8,
   "id": "027910d3",
   "metadata": {},
   "outputs": [
    {
     "data": {
      "text/plain": [
       "torch.Size([1, 896])"
      ]
     },
     "execution_count": 8,
     "metadata": {},
     "output_type": "execute_result"
    }
   ],
   "source": [
    "model.score.weight.shape"
   ]
  },
  {
   "cell_type": "code",
   "execution_count": 9,
   "id": "abc6f61a",
   "metadata": {},
   "outputs": [
    {
     "name": "stdout",
     "output_type": "stream",
     "text": [
      "DatasetDict({\n",
      "    train: Dataset({\n",
      "        features: ['chosen', 'rejected'],\n",
      "        num_rows: 52421\n",
      "    })\n",
      "    test: Dataset({\n",
      "        features: ['chosen', 'rejected'],\n",
      "        num_rows: 2749\n",
      "    })\n",
      "})\n"
     ]
    }
   ],
   "source": [
    "from datasets import load_dataset\n",
    "\n",
    "data_path = \"C:/Users/hhm18/Desktop/深度学习/env_DRL/data\"\n",
    "dataset = load_dataset(data_path,\n",
    "                       data_files={\n",
    "                            \"train\": \"train.jsonl.gz\",\n",
    "                            \"test\": \"test.jsonl.gz\"\n",
    "                       })\n",
    "print(dataset)"
   ]
  },
  {
   "cell_type": "code",
   "execution_count": 10,
   "id": "6a4b4ee7",
   "metadata": {},
   "outputs": [
    {
     "data": {
      "text/plain": [
       "(Dataset({\n",
       "     features: ['chosen', 'rejected'],\n",
       "     num_rows: 100\n",
       " }),\n",
       " Dataset({\n",
       "     features: ['chosen', 'rejected'],\n",
       "     num_rows: 50\n",
       " }))"
      ]
     },
     "execution_count": 10,
     "metadata": {},
     "output_type": "execute_result"
    }
   ],
   "source": [
    "train_dataset = dataset[\"train\"].select(range(100))\n",
    "eval_dataset = dataset[\"test\"].select(range(50))\n",
    "train_dataset, eval_dataset"
   ]
  },
  {
   "cell_type": "code",
   "execution_count": 20,
   "id": "1cec650c",
   "metadata": {},
   "outputs": [],
   "source": [
    "trainer = RewardTrainer(\n",
    "    model=model,\n",
    "    processing_class=tokenizer,\n",
    "    args=training_args,\n",
    "    train_dataset=train_dataset,\n",
    "    eval_dataset=eval_dataset,\n",
    "    peft_config=get_peft_config(model_args),\n",
    ")\n"
   ]
  },
  {
   "cell_type": "code",
   "execution_count": 21,
   "id": "7f2e5c7f",
   "metadata": {},
   "outputs": [
    {
     "name": "stderr",
     "output_type": "stream",
     "text": [
      "The tokenizer has new PAD/BOS/EOS tokens that differ from the model config and generation config. The model config and generation config were aligned accordingly, being updated with the tokenizer's values. Updated tokens: {'bos_token_id': None}.\n",
      "You're using a Qwen2TokenizerFast tokenizer. Please note that with a fast tokenizer, using the `__call__` method is faster than using a method to encode the text followed by a call to the `pad` method to get a padded encoding.\n",
      "C:\\Users\\hhm18\\miniconda3\\envs\\env_DRL\\lib\\site-packages\\transformers\\integrations\\sdpa_attention.py:83: UserWarning: 1Torch was not compiled with flash attention. (Triggered internally at C:\\actions-runner\\_work\\pytorch\\pytorch\\builder\\windows\\pytorch\\aten\\src\\ATen\\native\\transformers\\cuda\\sdp_utils.cpp:455.)\n",
      "  attn_output = torch.nn.functional.scaled_dot_product_attention(\n"
     ]
    },
    {
     "data": {
      "text/html": [
       "\n",
       "    <div>\n",
       "      \n",
       "      <progress value='25' max='25' style='width:300px; height:20px; vertical-align: middle;'></progress>\n",
       "      [25/25 05:11, Epoch 1/1]\n",
       "    </div>\n",
       "    <table border=\"1\" class=\"dataframe\">\n",
       "  <thead>\n",
       " <tr style=\"text-align: left;\">\n",
       "      <th>Step</th>\n",
       "      <th>Training Loss</th>\n",
       "      <th>Validation Loss</th>\n",
       "    </tr>\n",
       "  </thead>\n",
       "  <tbody>\n",
       "  </tbody>\n",
       "</table><p>"
      ],
      "text/plain": [
       "<IPython.core.display.HTML object>"
      ]
     },
     "metadata": {},
     "output_type": "display_data"
    },
    {
     "data": {
      "text/plain": [
       "TrainOutput(global_step=25, training_loss=0.9132211303710938, metrics={'train_runtime': 318.3071, 'train_samples_per_second': 0.314, 'train_steps_per_second': 0.079, 'total_flos': 0.0, 'train_loss': 0.9132211303710938, 'epoch': 1.0})"
      ]
     },
     "execution_count": 21,
     "metadata": {},
     "output_type": "execute_result"
    }
   ],
   "source": [
    "trainer.train()"
   ]
  },
  {
   "cell_type": "code",
   "execution_count": null,
   "id": "3e45a2df",
   "metadata": {},
   "outputs": [],
   "source": [
    "trainer.save_model(training_args.output_dir)"
   ]
  }
 ],
 "metadata": {
  "kernelspec": {
   "display_name": "Python 3 (ipykernel)",
   "language": "python",
   "name": "python3"
  },
  "language_info": {
   "codemirror_mode": {
    "name": "ipython",
    "version": 3
   },
   "file_extension": ".py",
   "mimetype": "text/x-python",
   "name": "python",
   "nbconvert_exporter": "python",
   "pygments_lexer": "ipython3",
   "version": "3.9.23"
  }
 },
 "nbformat": 4,
 "nbformat_minor": 5
}
