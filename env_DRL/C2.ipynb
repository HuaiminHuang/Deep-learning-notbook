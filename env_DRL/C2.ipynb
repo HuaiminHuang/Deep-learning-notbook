{
 "cells": [
  {
   "cell_type": "markdown",
   "id": "107ca953",
   "metadata": {},
   "source": [
    "# render和图像保存"
   ]
  },
  {
   "cell_type": "code",
   "execution_count": 1,
   "id": "1f0e6354",
   "metadata": {},
   "outputs": [],
   "source": [
    "import gymnasium as gym\n",
    "import time"
   ]
  },
  {
   "cell_type": "markdown",
   "id": "4878ce3d",
   "metadata": {},
   "source": [
    "## 1.mode1 = \"Human\""
   ]
  },
  {
   "cell_type": "code",
   "execution_count": 2,
   "id": "3781edf6",
   "metadata": {},
   "outputs": [
    {
     "name": "stdout",
     "output_type": "stream",
     "text": [
      "1\n",
      "1\n",
      "0\n",
      "1\n",
      "1\n",
      "0\n",
      "0\n",
      "1\n",
      "1\n",
      "0\n",
      "1\n",
      "1\n",
      "0\n",
      "total scores: 13.0\n"
     ]
    }
   ],
   "source": [
    "env_name = \"CartPole-v1\"\n",
    "env = gym.make(env_name, render_mode = \"human\")\n",
    "state = env.reset()\n",
    "\n",
    "done = False\n",
    "score = 0\n",
    "total_reward = 0\n",
    "\n",
    "while not done:\n",
    "    env.render()\n",
    "    action = env.action_space.sample()\n",
    "    print(action)\n",
    "    observation, reward, done, truncated, info = env.step(action)\n",
    "    score += reward\n",
    "    done = done or truncated\n",
    "    time.sleep(0.2)\n",
    "env.close()\n",
    "print(f\"total scores: {score}\")"
   ]
  },
  {
   "cell_type": "markdown",
   "id": "44d92acd",
   "metadata": {},
   "source": [
    "## 2.mode = \"rgb_array\" 以及 render save"
   ]
  },
  {
   "cell_type": "code",
   "execution_count": 12,
   "id": "cee30b4d",
   "metadata": {},
   "outputs": [
    {
     "name": "stdout",
     "output_type": "stream",
     "text": [
      "total scores: 27.0\n",
      " frames lens is:27and shape is:(400, 600, 3)\n"
     ]
    }
   ],
   "source": [
    "env_name = \"CartPole-v1\"\n",
    "env = gym.make(env_name, render_mode = \"rgb_array\")\n",
    "state = env.reset()\n",
    "\n",
    "done = False\n",
    "total_reward = 0\n",
    "\n",
    "frames = []\n",
    "while not done:\n",
    "    frames.append(env.render())\n",
    "    action = env.action_space.sample()\n",
    "    # print(action)\n",
    "    observation, reward, done, truncated, info = env.step(action)\n",
    "    total_reward += reward\n",
    "    done = done or truncated\n",
    "    time.sleep(0.5)\n",
    "env.close()\n",
    "print(f\" total scores: {total_reward}\\n frames lens is:{len(frames)} and shape is:{frames[0].shape}\")"
   ]
  },
  {
   "cell_type": "code",
   "execution_count": 14,
   "id": "5e9d9778",
   "metadata": {},
   "outputs": [],
   "source": [
    "!pip install matplotlib"
   ]
  },
  {
   "cell_type": "code",
   "execution_count": 15,
   "id": "2c26f3db",
   "metadata": {},
   "outputs": [],
   "source": [
    "import matplotlib.pyplot as plt\n",
    "from matplotlib import animation"
   ]
  },
  {
   "cell_type": "code",
   "execution_count": 34,
   "id": "37a9212a",
   "metadata": {},
   "outputs": [],
   "source": [
    "def display_frames_to_video(frames):\n",
    "    plt.figure(\n",
    "        figsize=(frames[0].shape[0]/72, frames[1].shape[1]/72), dpi=72)\n",
    "    patch = plt.imshow(frames[0])\n",
    "    plt.axis(\"off\")\n",
    "\n",
    "    def animate(i):\n",
    "        patch.set_data(frames[i])\n",
    "    \n",
    "    anim = animation.FuncAnimation(\n",
    "        plt.gcf(), animate, frames=range(len(frames)), interval=50\n",
    "    )\n",
    "    # anim.save('cartpole.mp4', writer='ffmpeg', fps=20)\n",
    "    anim.save('cartpole.gif', writer='pillow', fps=20)"
   ]
  },
  {
   "cell_type": "code",
   "execution_count": 35,
   "id": "1f5044b0",
   "metadata": {},
   "outputs": [
    {
     "data": {
      "image/png": "[encoded data removed]",
      "text/plain": [
       "<Figure size 400x600 with 1 Axes>"
      ]
     },
     "metadata": {},
     "output_type": "display_data"
    }
   ],
   "source": [
    "display_frames_to_video(frames)"
   ]
  }
 ],
 "metadata": {
  "kernelspec": {
   "display_name": "Python 3 (ipykernel)",
   "language": "python",
   "name": "python3"
  },
  "language_info": {
   "codemirror_mode": {
    "name": "ipython",
    "version": 3
   },
   "file_extension": ".py",
   "mimetype": "text/x-python",
   "name": "python",
   "nbconvert_exporter": "python",
   "pygments_lexer": "ipython3",
   "version": "3.9.23"
  }
 },
 "nbformat": 4,
 "nbformat_minor": 5
}
