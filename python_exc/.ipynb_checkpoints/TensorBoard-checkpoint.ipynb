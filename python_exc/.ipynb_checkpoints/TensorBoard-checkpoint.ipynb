{
 "cells": [
  {
   "cell_type": "markdown",
   "id": "0fecc526-41cb-41a8-99f9-68b289d80e8a",
   "metadata": {},
   "source": [
    "# TensorBoard 的使用"
   ]
  },
  {
   "cell_type": "code",
   "execution_count": 1,
   "id": "d00dd156-2ad4-4602-996a-9de87f22d695",
   "metadata": {},
   "outputs": [],
   "source": [
    "#!pip install tensorboard"
   ]
  },
  {
   "cell_type": "code",
   "execution_count": 2,
   "id": "b43e536a-a241-4395-812f-2c5e8b06b7e2",
   "metadata": {},
   "outputs": [
    {
     "name": "stdout",
     "output_type": "stream",
     "text": [
      "2.20.0\n"
     ]
    },
    {
     "name": "stderr",
     "output_type": "stream",
     "text": [
      "TensorFlow installation not found - running with reduced feature set.\n"
     ]
    }
   ],
   "source": [
    "# 验证版本号\n",
    "!tensorboard --version"
   ]
  },
  {
   "cell_type": "code",
   "execution_count": 3,
   "id": "c7527612-49f7-470d-a2bc-3592cf9555d3",
   "metadata": {},
   "outputs": [
    {
     "name": "stdout",
     "output_type": "stream",
     "text": [
      "TensorBoard 版本: 2.20.0\n"
     ]
    }
   ],
   "source": [
    "import tensorboard\n",
    "print(\"TensorBoard 版本:\", tensorboard.__version__)"
   ]
  },
  {
   "cell_type": "code",
   "execution_count": 4,
   "id": "bb3187d2-fea7-489c-bf6f-f37266fe2cf3",
   "metadata": {},
   "outputs": [],
   "source": [
    "import torch\n",
    "import torch.nn as nn\n",
    "from torch.utils.tensorboard import SummaryWriter\n",
    "import numpy as np\n",
    "\n",
    "# 使用\n",
    "# 创建SunmmeryWriter实例（自动生成时间戳的目录）\n",
    "writer = SummaryWriter('runs/experment_1')\n",
    "\n",
    "\n",
    "# 创建模型\n",
    "class SimpleModel(nn.Module):\n",
    "    def __init__(self):\n",
    "        super().__init__()\n",
    "        self.fc = nn.Linear(10,5)\n",
    "\n",
    "    def forward(self, x):\n",
    "        return self.fc(x)"
   ]
  },
  {
   "cell_type": "code",
   "execution_count": 5,
   "id": "7ef2e8f1-194b-4e8b-962d-6d55da38c682",
   "metadata": {},
   "outputs": [
    {
     "name": "stdout",
     "output_type": "stream",
     "text": [
      "TensorBoard日志生成完成!\n"
     ]
    }
   ],
   "source": [
    "#记录数据\n",
    "model = SimpleModel()\n",
    "for step in range(100):\n",
    "    writer.add_scalar('Loss/train', np.sin(step*0.1), step)\n",
    "    writer.add_scalar('Accuracy/train', np.cos(step*0.1), step)\n",
    "\n",
    "    # 记录直方图\n",
    "    writer.add_histogram('Weight/fc', model.fc.weight, step)\n",
    "\n",
    "    # 记录图像（例子）\n",
    "    # 记录图像 (示例)\n",
    "    if step % 10 == 0:\n",
    "        dummy_img = torch.rand(3, 64, 64)  # 随机图像\n",
    "        writer.add_image('Sample_image', dummy_img, step, dataformats='CHW')\n",
    "\n",
    "    # 记录模型结构\n",
    "    if step == 0:\n",
    "        dummy_input = torch.rand(1, 10)\n",
    "        writer.add_graph(model, dummy_input)\n",
    "\n",
    "# 确保数据写入磁盘\n",
    "writer.flush()\n",
    "writer.close()  # 结束时关闭\n",
    "print(\"TensorBoard日志生成完成!\")"
   ]
  },
  {
   "cell_type": "code",
   "execution_count": 7,
   "id": "6ed8195e-05e3-4d31-ace0-b5e8b32be193",
   "metadata": {},
   "outputs": [
    {
     "data": {
      "text/html": [
       "\n",
       "      <iframe id=\"tensorboard-frame-cb65e3bb2eb9fcd6\" width=\"100%\" height=\"800\" frameborder=\"0\">\n",
       "      </iframe>\n",
       "      <script>\n",
       "        (function() {\n",
       "          const frame = document.getElementById(\"tensorboard-frame-cb65e3bb2eb9fcd6\");\n",
       "          const url = new URL(\"/\", window.location);\n",
       "          const port = 6007;\n",
       "          if (port) {\n",
       "            url.port = port;\n",
       "          }\n",
       "          frame.src = url;\n",
       "        })();\n",
       "      </script>\n",
       "    "
      ],
      "text/plain": [
       "<IPython.core.display.HTML object>"
      ]
     },
     "metadata": {},
     "output_type": "display_data"
    }
   ],
   "source": [
    "# 加载 TensorBoard 扩展\n",
    "%reload_ext tensorboard\n",
    "\n",
    "# 启动tensorboard\n",
    "%tensorboard --logdir runs --port 6007"
   ]
  },
  {
   "cell_type": "markdown",
   "id": "980cba73-336a-47dd-8539-4a334d5917ef",
   "metadata": {},
   "source": [
    "# 一个完整实例（MLP）"
   ]
  },
  {
   "cell_type": "code",
   "execution_count": 7,
   "id": "5557182b-ccf1-464e-840d-fa0ed5176a77",
   "metadata": {},
   "outputs": [],
   "source": [
    "# help(torch.optim.Adam)"
   ]
  },
  {
   "cell_type": "code",
   "execution_count": 8,
   "id": "ecaa7804-ab42-4d6f-8eb7-857aac5ef3b0",
   "metadata": {},
   "outputs": [
    {
     "name": "stdout",
     "output_type": "stream",
     "text": [
      "Using device :cuda\n"
     ]
    }
   ],
   "source": [
    "import torch\n",
    "import torch.nn as nn\n",
    "import torchvision\n",
    "import torchvision.transforms as transforms\n",
    "from torch.utils.tensorboard import SummaryWriter\n",
    "\n",
    "# 检测设备\n",
    "device = torch.device('cuda' if torch.cuda.is_available() else 'cpu')\n",
    "print(f'Using device :{device}')\n",
    "\n",
    "# 准备数据集\n",
    "transform = transforms.Compose(\n",
    "    [transforms.ToTensor(), transforms.Normalize((0.5), (0.5))]\n",
    ")\n",
    "\n",
    "train_set = torchvision.datasets.MNIST(root='./data', train=True, transform=transform, download=False)\n",
    "train_loader = torch.utils.data.DataLoader(train_set, batch_size=64, shuffle=True)\n",
    "\n",
    "# 创建模型\n",
    "model = nn.Sequential(\n",
    "    nn.Flatten(),\n",
    "    nn.Linear(784, 128),\n",
    "    nn.ReLU(),\n",
    "    nn.Linear(128, 10)\n",
    ").to(device)\n",
    "\n",
    "# 初始化TensorBoard\n",
    "writer = SummaryWriter('runs/MNIST_experiment')\n",
    "\n",
    "# 记录数据模型结构\n",
    "image, _ = next(iter(train_loader))\n",
    "writer.add_graph(model, image.to(device))\n",
    "\n",
    "# 训练样本\n",
    "criterion = nn.CrossEntropyLoss()\n",
    "optimizer = torch.optim.Adam(model.parameters(), lr=1e-3)\n",
    "total_step = 0\n",
    "\n",
    "for epoch in range(5):\n",
    "    for i, (images, labels) in enumerate(train_loader):\n",
    "        # 移动到GPU\n",
    "        images = images.to(device)\n",
    "        labels = labels.to(device)\n",
    "        \n",
    "        # 前向传播\n",
    "        outputs = model(images)\n",
    "        loss = criterion(outputs, labels)\n",
    "\n",
    "        # 反向传播\n",
    "        optimizer.zero_grad()\n",
    "        loss.backward()\n",
    "        optimizer.step()\n",
    "\n",
    "        # 计算精度\n",
    "        _, predicted = torch.max(outputs.data, 1)\n",
    "        accuracy = (predicted == labels).sum().item() / labels.size(0)\n",
    "\n",
    "        # 记录标量\n",
    "        if i % 100 == 0:\n",
    "            writer.add_scalar('Loss/train', loss.item(), total_step)\n",
    "            writer.add_scalar('Accuracy/train', accuracy, total_step)\n",
    "\n",
    "            # 记录标量\n",
    "            img_grid = torchvision.utils.make_grid(images[:16].cpu())\n",
    "            writer.add_image('Input_images', img_grid, total_step)\n",
    "\n",
    "        # 记录权重和梯度\n",
    "        if i % 200 == 0:\n",
    "            for name, param in model.named_parameters():\n",
    "                writer.add_histogram(f'weights/{name}', param, total_step)\n",
    "                if param.grad is not None:\n",
    "                    writer.add_histogram(f'grads/{name}', param.grad, total_step)\n",
    "        \n",
    "        total_step += 1\n",
    "\n",
    "# 关闭writer\n",
    "writer.close()"
   ]
  },
  {
   "cell_type": "code",
   "execution_count": 8,
   "id": "cfc04762-e70f-41d8-b671-3b68babdee49",
   "metadata": {},
   "outputs": [
    {
     "data": {
      "text/plain": [
       "Reusing TensorBoard on port 6007 (pid 12556), started 1 day, 9:51:03 ago. (Use '!kill 12556' to kill it.)"
      ]
     },
     "metadata": {},
     "output_type": "display_data"
    },
    {
     "data": {
      "text/html": [
       "\n",
       "      <iframe id=\"tensorboard-frame-ea8dfa37a2b9fa3c\" width=\"100%\" height=\"800\" frameborder=\"0\">\n",
       "      </iframe>\n",
       "      <script>\n",
       "        (function() {\n",
       "          const frame = document.getElementById(\"tensorboard-frame-ea8dfa37a2b9fa3c\");\n",
       "          const url = new URL(\"/\", window.location);\n",
       "          const port = 6007;\n",
       "          if (port) {\n",
       "            url.port = port;\n",
       "          }\n",
       "          frame.src = url;\n",
       "        })();\n",
       "      </script>\n",
       "    "
      ],
      "text/plain": [
       "<IPython.core.display.HTML object>"
      ]
     },
     "metadata": {},
     "output_type": "display_data"
    }
   ],
   "source": [
    "%tensorboard --logdir runs/mnist_experiment --port 6007"
   ]
  },
  {
   "cell_type": "code",
   "execution_count": 14,
   "id": "3334479d-0e23-44e0-81cb-2e53aba68c70",
   "metadata": {},
   "outputs": [],
   "source": [
    "!netstat -ano | findstr \":6007\""
   ]
  },
  {
   "cell_type": "code",
   "execution_count": 13,
   "id": "6a3144ec-721e-4884-b5d7-ef747665bc39",
   "metadata": {},
   "outputs": [
    {
     "name": "stderr",
     "output_type": "stream",
     "text": [
      "错误: 没有找到进程 \"21400\"。\n"
     ]
    }
   ],
   "source": [
    "!taskkill /PID 21400 /F"
   ]
  }
 ],
 "metadata": {
  "kernelspec": {
   "display_name": "Python 3 (ipykernel)",
   "language": "python",
   "name": "python3"
  },
  "language_info": {
   "codemirror_mode": {
    "name": "ipython",
    "version": 3
   },
   "file_extension": ".py",
   "mimetype": "text/x-python",
   "name": "python",
   "nbconvert_exporter": "python",
   "pygments_lexer": "ipython3",
   "version": "3.9.23"
  }
 },
 "nbformat": 4,
 "nbformat_minor": 5
}
