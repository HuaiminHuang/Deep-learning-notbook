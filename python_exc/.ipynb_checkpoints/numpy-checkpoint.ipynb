{
 "cells": [
  {
   "cell_type": "markdown",
   "id": "161693b4-8b06-499e-97b4-f716b200f704",
   "metadata": {},
   "source": [
    "# 1 ndarray\n",
    "## 1.1特性：  \n",
    "多维性--支持多维数组（0维度、一维、二维等更高维）  \n",
    "同质性：所有元素类型必须一致（dtype来指定）  \n",
    "高效性：基于连续内存块模块，支持向量化运算"
   ]
  },
  {
   "cell_type": "code",
   "execution_count": 1,
   "id": "d51cea13-1e81-4b06-a13c-e48ec9a35320",
   "metadata": {},
   "outputs": [],
   "source": [
    "import numpy as np"
   ]
  },
  {
   "cell_type": "code",
   "execution_count": 6,
   "id": "eefe1866-1437-496d-978e-81331707abc2",
   "metadata": {},
   "outputs": [
    {
     "name": "stdout",
     "output_type": "stream",
     "text": [
      "5 维度： 0\n",
      "[1 2 3] 维度： 1\n"
     ]
    }
   ],
   "source": [
    "arr1 = np.array(5)\n",
    "arr2 = np.array([1,2,3])\n",
    "print(arr1, \"维度：\", arr1.ndim)\n",
    "print(arr2, \"维度：\", arr2.ndim)"
   ]
  },
  {
   "cell_type": "code",
   "execution_count": 9,
   "id": "c4f0ee06-c2b2-4106-be2e-af367e2ae2f2",
   "metadata": {},
   "outputs": [
    {
     "name": "stdout",
     "output_type": "stream",
     "text": [
      "['1' '你好'] 维度： 1\n",
      "[1.  1.5] 维度： 1\n"
     ]
    }
   ],
   "source": [
    "#同质性(保大)\n",
    "arr3 = np.array([1, \"你好\"])\n",
    "arr4 = np.array([1, 1.5])\n",
    "print(arr3, \"维度：\", arr3.ndim) #变为字符串\n",
    "print(arr4, \"维度：\", arr4.ndim) #变为float"
   ]
  },
  {
   "cell_type": "markdown",
   "id": "81813d4a-3eec-4735-8220-955ad5a428aa",
   "metadata": {},
   "source": [
    "## 1.2属性"
   ]
  },
  {
   "cell_type": "code",
   "execution_count": 19,
   "id": "beae65d0-941e-4b97-a411-906c928bc055",
   "metadata": {},
   "outputs": [
    {
     "name": "stdout",
     "output_type": "stream",
     "text": [
      "数组的形状 () 元素的个数 1 数据类型 int32\n"
     ]
    }
   ],
   "source": [
    "arr = np.array(1)\n",
    "print('数组的形状', arr.shape,'元素的个数', arr.size, '数据类型', arr.dtype)"
   ]
  },
  {
   "cell_type": "code",
   "execution_count": 20,
   "id": "f43be026-4a91-4d21-990b-950cf5ba3935",
   "metadata": {},
   "outputs": [
    {
     "name": "stdout",
     "output_type": "stream",
     "text": [
      "数组的形状 (2,) 元素的个数 2 数据类型 int32\n"
     ]
    }
   ],
   "source": [
    "arr = np.array([1,2])\n",
    "print('数组的形状', arr.shape,'元素的个数', arr.size, '数据类型', arr.dtype)\n"
   ]
  },
  {
   "cell_type": "code",
   "execution_count": 23,
   "id": "bcafd9d0-cf28-4896-843d-691fbb8d7fe4",
   "metadata": {},
   "outputs": [
    {
     "name": "stdout",
     "output_type": "stream",
     "text": [
      "数组的形状 (2, 3) 元素的个数 6 数据类型 float64\n",
      "数组的形状 (3, 2) 元素的个数 6 数据类型 float64\n"
     ]
    }
   ],
   "source": [
    "arr = np.array([[1,1,1],[1,1,1.1]])\n",
    "print('数组的形状', arr.shape,'元素的个数', arr.size, '数据类型', arr.dtype)\n",
    "arr_t = arr.T\n",
    "print('数组的形状', arr_t.shape,'元素的个数', arr_t.size, '数据类型', arr_t.dtype)"
   ]
  },
  {
   "cell_type": "markdown",
   "id": "d39bc459-88d0-4d21-bbb9-99df4dcb2e7d",
   "metadata": {},
   "source": [
    "## 2.1ndarray的创建"
   ]
  },
  {
   "cell_type": "code",
   "execution_count": 35,
   "id": "1da7e279-305f-483b-9f65-f9d46b6d7bee",
   "metadata": {},
   "outputs": [
    {
     "name": "stdout",
     "output_type": "stream",
     "text": [
      "[ 1.  2.  3.  4.  5.  6.  7.  8.  9. 10. 11. 12.]  维度： 1  个数： 12\n"
     ]
    }
   ],
   "source": [
    "# num_list = [i for i in range(1,12)]\n",
    "num_list = np.arange(1,13).tolist()\n",
    "# print(num_list)\n",
    "arr = np.array(num_list, dtype = np.float64)\n",
    "print(arr,\" 维度：\",arr.ndim,\" 个数：\",arr.size)"
   ]
  },
  {
   "cell_type": "code",
   "execution_count": 37,
   "id": "8257a9e9-eb70-41fc-899f-9e2d461c6803",
   "metadata": {},
   "outputs": [
    {
     "name": "stdout",
     "output_type": "stream",
     "text": [
      "[ 1.  2.  3.  4.  5.  6.  7.  8.  9. 10. 11. 12.]\n",
      "[  1.   2.   3.   4.   5.   6.   7.   8. 100.  10.  11.  12.]\n",
      "[ 1.  2.  3.  4.  5.  6.  7.  8.  9. 10. 11. 12.]\n"
     ]
    }
   ],
   "source": [
    "arr_c = np.copy(arr) #复制操作\n",
    "print(arr_c)\n",
    "arr_c[8] = 100 #修改值\n",
    "print(arr_c)\n",
    "print(arr)"
   ]
  },
  {
   "cell_type": "code",
   "execution_count": 43,
   "id": "4965b4ed-bb9e-4d1d-9675-3a4c2d51906c",
   "metadata": {},
   "outputs": [
    {
     "name": "stdout",
     "output_type": "stream",
     "text": [
      "[[[0. 0. 0.]\n",
      "  [0. 0. 0.]]\n",
      "\n",
      " [[0. 0. 0.]\n",
      "  [0. 0. 0.]]] 维度 3\n",
      "[[[1. 1.]\n",
      "  [1. 1.]]\n",
      "\n",
      " [[1. 1.]\n",
      "  [1. 1.]]] 维度 3\n"
     ]
    }
   ],
   "source": [
    "#全零 全一\n",
    "arr0 = np.zeros((2,2,3))\n",
    "print(arr0, '维度', arr0.ndim)\n",
    "arr_1 = np.ones((2,2,2))\n",
    "print(arr_1, '维度', arr_1.ndim)"
   ]
  },
  {
   "cell_type": "code",
   "execution_count": 48,
   "id": "d32be0b3-36f2-4ded-8622-8a4a523b1c75",
   "metadata": {},
   "outputs": [
    {
     "name": "stdout",
     "output_type": "stream",
     "text": [
      "[[1.35391748e-311 6.22522714e-322 0.00000000e+000 0.00000000e+000]\n",
      " [1.29060531e-306 1.16095484e-028 4.82149350e+151 9.00495268e+130]\n",
      " [1.49923067e-152 3.03837572e+180 8.47811497e+136 8.88789474e+247]\n",
      " [1.33733641e+160 8.03272539e-096 6.80183313e+199 1.75300433e+243]\n",
      " [4.82149358e+151 1.04914410e-153 9.78750380e+199 6.97843734e+252]]\n"
     ]
    }
   ],
   "source": [
    "#空数组\n",
    "arr_empty = np.empty((5,4)) #类似的可以指定类型 int、float等\n",
    "print(arr_empty)"
   ]
  },
  {
   "cell_type": "code",
   "execution_count": 55,
   "id": "fcac862b-b3d3-41d9-adf0-8d3b7ddc4668",
   "metadata": {},
   "outputs": [
    {
     "name": "stdout",
     "output_type": "stream",
     "text": [
      "[[114514 114514]\n",
      " [114514 114514]] \n",
      " [[1 1]\n",
      " [1 1]]\n"
     ]
    }
   ],
   "source": [
    "# 自定义填充 \n",
    "arr_full = np.full((2,2),114514)\n",
    "arr_like = np.ones_like(arr_full) # 获取和某个定义好的数组同款形状\n",
    "print(arr_full, \"\\n\",arr_like)"
   ]
  },
  {
   "cell_type": "code",
   "execution_count": 58,
   "id": "4c46c6d8-d120-435c-b2b9-d41cd2cd9cd8",
   "metadata": {},
   "outputs": [
    {
     "name": "stdout",
     "output_type": "stream",
     "text": [
      "[ 1.   3.5  6.   8.5 11.  13.5 16.  18.5 21.  23.5 26.  28.5 31.  33.5\n",
      " 36.  38.5 41.  43.5 46.  48.5 51.  53.5 56.  58.5 61.  63.5 66.  68.5\n",
      " 71.  73.5 76.  78.5 81.  83.5 86.  88.5 91.  93.5 96.  98.5]\n"
     ]
    }
   ],
   "source": [
    "# 等差生成\n",
    "arr_step = np.arange(1,100,2.5)\n",
    "print(arr_step)"
   ]
  },
  {
   "cell_type": "code",
   "execution_count": 63,
   "id": "f81d5ef8-525c-4962-bcb5-e531f46cafb7",
   "metadata": {},
   "outputs": [
    {
     "name": "stdout",
     "output_type": "stream",
     "text": [
      "[  1.    25.75  50.5   75.25 100.  ]\n"
     ]
    }
   ],
   "source": [
    "#等间隔数列\n",
    "arr = np.linspace(1, 100, 5)\n",
    "print(arr)"
   ]
  },
  {
   "cell_type": "code",
   "execution_count": 72,
   "id": "05c29233-de80-44bf-ad80-6e8d5be2f165",
   "metadata": {},
   "outputs": [
    {
     "name": "stdout",
     "output_type": "stream",
     "text": [
      "[ 1.  4. 16.] [1.e+00 1.e+10 1.e+20]\n"
     ]
    }
   ],
   "source": [
    "# 对数间隔\n",
    "arr = np.logspace(0,4,3,base=2)#默认base为10\n",
    "arr0 = np.logspace(0,20,3)\n",
    "print(arr,arr0)"
   ]
  },
  {
   "cell_type": "code",
   "execution_count": 98,
   "id": "fbcc86cf-4e4a-4570-96b2-5041d2ded0cf",
   "metadata": {},
   "outputs": [
    {
     "name": "stdout",
     "output_type": "stream",
     "text": [
      "[[1. 0. 0. 0.]\n",
      " [0. 1. 0. 0.]\n",
      " [0. 0. 1. 0.]\n",
      " [0. 0. 0. 1.]] \n",
      "和\n",
      " [[1. 0. 0. 0. 0.]\n",
      " [0. 1. 0. 0. 0.]\n",
      " [0. 0. 1. 0. 0.]\n",
      " [0. 0. 0. 1. 0.]\n",
      " [0. 0. 0. 0. 1.]]\n"
     ]
    }
   ],
   "source": [
    "# 单位矩阵 对角矩阵\n",
    "arr1 = np.eye(4,4)\n",
    "arr2 = np.diag(np.ones(5))\n",
    "print(arr1, \"\\n和\\n\", arr2)"
   ]
  },
  {
   "cell_type": "code",
   "execution_count": 104,
   "id": "c3e13ed1-26a3-435c-8543-a5df6904f58b",
   "metadata": {},
   "outputs": [
    {
     "name": "stdout",
     "output_type": "stream",
     "text": [
      "[[0.13348251 0.16930354 0.96959508]\n",
      " [0.07323097 0.12628257 0.08728429]] \n",
      " [[ 7.76693448 10.0278553  17.06061651  7.74598246]\n",
      " [ 8.07026394  3.13669818  7.1619559  18.14766115]\n",
      " [11.22700719  2.95624429  1.11893705 14.46005817]\n",
      " [17.52848023  9.24841265  4.65116204 17.2491872 ]] \n",
      " [[78 86]\n",
      " [24 30]\n",
      " [99 40]\n",
      " [12 95]\n",
      " [78 86]]\n"
     ]
    }
   ],
   "source": [
    "#随机数\n",
    "\n",
    "#[0,1]的均匀分布float\n",
    "arr1 = np.random.rand(2, 3)\n",
    "#指定范围float\n",
    "arr2 = np.random.uniform(1,20,(4,4))\n",
    "#指定范围的整数\n",
    "arr3 = np.random.randint(1,100,(5,2))\n",
    "print(arr1,\"\\n\",arr2,\"\\n\",arr3)"
   ]
  },
  {
   "cell_type": "code",
   "execution_count": 108,
   "id": "a742d324-d0a6-4984-9c27-5de66c363d32",
   "metadata": {},
   "outputs": [
    {
     "name": "stdout",
     "output_type": "stream",
     "text": [
      "[ 0.10229237  0.69130028  0.72541104 -0.44631532  0.05802014 -0.34166462\n",
      " -0.44189449 -0.42617427 -0.6269162   0.50157217]\n"
     ]
    }
   ],
   "source": [
    "#随机正态分布\n",
    "arr = np.random.randn(10,)\n",
    "print(arr)"
   ]
  },
  {
   "cell_type": "code",
   "execution_count": 122,
   "id": "5c0abd64-fad9-438e-9b98-2db2532ad875",
   "metadata": {},
   "outputs": [
    {
     "name": "stdout",
     "output_type": "stream",
     "text": [
      "[[2 2 1]\n",
      " [1 2 1]\n",
      " [2 2 1]]\n"
     ]
    }
   ],
   "source": [
    "# 设置随机种子 (加上数字固定随机数)\n",
    "np.random.seed(10)\n",
    "arr = np.random.randint(1,4,(3,3))\n",
    "print(arr)"
   ]
  },
  {
   "cell_type": "markdown",
   "id": "834c52c6-9848-44f0-bf9e-b913d14b5b07",
   "metadata": {},
   "source": [
    "## 2.2索引和切片"
   ]
  },
  {
   "cell_type": "code",
   "execution_count": 123,
   "id": "adb67fd2-57fa-4c35-92d9-473148167178",
   "metadata": {},
   "outputs": [
    {
     "name": "stdout",
     "output_type": "stream",
     "text": [
      "[[30  9 74  1 41]\n",
      " [37 17 12 55 89]\n",
      " [63 34 73 79 50]\n",
      " [52 55 78 70 14]\n",
      " [26 14 93 87 31]]\n"
     ]
    }
   ],
   "source": [
    "# 以二维矩阵举例\n",
    "arr = np.random.randint(1, 100, (5, 5))\n",
    "print(arr)"
   ]
  },
  {
   "cell_type": "code",
   "execution_count": 131,
   "id": "93e73326-ab1e-422a-86ac-ae54efdc8f18",
   "metadata": {},
   "outputs": [
    {
     "name": "stdout",
     "output_type": "stream",
     "text": [
      "74\n",
      "[ 1 55 79 70 87]\n",
      "[12 55]\n",
      "[63 34 50]\n"
     ]
    }
   ],
   "source": [
    "print(arr[0,2]) #索引第一行第三列\n",
    "print(arr[:,3]) #取第四列\n",
    "print(arr[1,2:4]) #取第二行的第三和第四列元素\n",
    "print(arr[2][(arr[2]>30) & (arr[2]<70)]) #找出第三行大于30且小于70的元素"
   ]
  },
  {
   "cell_type": "markdown",
   "id": "0504306e-2acd-4a43-9b99-c14c2e4a7c26",
   "metadata": {},
   "source": [
    "## 2.3 ndarry的运算"
   ]
  },
  {
   "cell_type": "markdown",
   "id": "b90b2b02-b272-418c-9a1c-a70368a871f9",
   "metadata": {},
   "source": [
    "numpy可以直接进行加减乘除运算，原生python不支持"
   ]
  },
  {
   "cell_type": "code",
   "execution_count": 132,
   "id": "14fee808-bf07-4d63-b15f-d8c6ad25fa58",
   "metadata": {},
   "outputs": [
    {
     "name": "stdout",
     "output_type": "stream",
     "text": [
      "[5 7 9] [-3 -3 -3] [1 4 9]\n"
     ]
    }
   ],
   "source": [
    "a = np.array([1,2,3])\n",
    "b = np.array([4,5,6])\n",
    "print(a+b, a-b, a**2)"
   ]
  },
  {
   "cell_type": "code",
   "execution_count": 137,
   "id": "fc4d4fc1-3171-42f2-bed7-5c7972073673",
   "metadata": {},
   "outputs": [
    {
     "name": "stdout",
     "output_type": "stream",
     "text": [
      "[[5 6 7]\n",
      " [6 7 8]\n",
      " [7 8 9]]\n"
     ]
    },
    {
     "data": {
      "text/plain": [
       "'其中执行的是\\na1 2 3    4 4 4\\n 1 2 3  + 5 5 5 \\n 1 2 3    6 6 6'"
      ]
     },
     "execution_count": 137,
     "metadata": {},
     "output_type": "execute_result"
    }
   ],
   "source": [
    "# 广播机制\n",
    "# 维度相同或者维度为1\n",
    "a = np.array([1,2,3])\n",
    "b = np.array([[4],[5],[6]])\n",
    "print(a+b)\n",
    "#其中执行的是  \n",
    "#1 2 3    4 4 4  \n",
    "#1 2 3  + 5 5 5   \n",
    "#1 2 3    6 6 6  "
   ]
  },
  {
   "cell_type": "markdown",
   "id": "d6a7e71e-cc4e-47da-941b-5e4f9a986f63",
   "metadata": {},
   "source": []
  },
  {
   "cell_type": "code",
   "execution_count": null,
   "id": "a3106a0c-1d06-4637-b7c6-077f362cad47",
   "metadata": {},
   "outputs": [],
   "source": [
    "# 矩阵运算\n",
    "a = np.array([1,2,3])\n",
    "b = np.array([4,5,6])"
   ]
  }
 ],
 "metadata": {
  "kernelspec": {
   "display_name": "Python 3 (ipykernel)",
   "language": "python",
   "name": "python3"
  },
  "language_info": {
   "codemirror_mode": {
    "name": "ipython",
    "version": 3
   },
   "file_extension": ".py",
   "mimetype": "text/x-python",
   "name": "python",
   "nbconvert_exporter": "python",
   "pygments_lexer": "ipython3",
   "version": "3.9.23"
  }
 },
 "nbformat": 4,
 "nbformat_minor": 5
}
