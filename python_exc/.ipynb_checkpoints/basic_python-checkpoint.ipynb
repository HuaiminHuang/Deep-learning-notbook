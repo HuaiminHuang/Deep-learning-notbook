{
 "cells": [
  {
   "cell_type": "markdown",
   "id": "91661852-6e35-4107-84a3-a0d1acbeb50b",
   "metadata": {},
   "source": [
    "# Python基础语法部分\n",
    "## 1.1python中的更多print（）使用"
   ]
  },
  {
   "cell_type": "code",
   "execution_count": 1,
   "id": "5d0d2ee0-65f7-4a68-8741-404f898b1ef3",
   "metadata": {},
   "outputs": [
    {
     "name": "stdout",
     "output_type": "stream",
     "text": [
      "hello world\n"
     ]
    }
   ],
   "source": [
    "print('hello world')"
   ]
  },
  {
   "cell_type": "markdown",
   "id": "ba159443-8fb5-45de-bcd5-27dd0537a301",
   "metadata": {},
   "source": [
    "加号拼接字符串"
   ]
  },
  {
   "cell_type": "code",
   "execution_count": 2,
   "id": "d4cdb955-3ad7-4358-952c-261737c08181",
   "metadata": {},
   "outputs": [
    {
     "name": "stdout",
     "output_type": "stream",
     "text": [
      "你好 这是一行代码\n"
     ]
    }
   ],
   "source": [
    "print('你好' + ' 这是一行代码')"
   ]
  },
  {
   "cell_type": "markdown",
   "id": "d8a5171d-7c65-4066-b201-18817d6d0547",
   "metadata": {},
   "source": [
    "转义字符“\\”用法"
   ]
  },
  {
   "cell_type": "code",
   "execution_count": 3,
   "id": "9676b301-8d3d-4441-8966-415dbf6545e4",
   "metadata": {},
   "outputs": [
    {
     "ename": "SyntaxError",
     "evalue": "invalid syntax (4056099542.py, line 1)",
     "output_type": "error",
     "traceback": [
      "\u001b[1;36m  Cell \u001b[1;32mIn[3], line 1\u001b[1;36m\u001b[0m\n\u001b[1;33m    print('Let's go')\u001b[0m\n\u001b[1;37m               ^\u001b[0m\n\u001b[1;31mSyntaxError\u001b[0m\u001b[1;31m:\u001b[0m invalid syntax\n"
     ]
    }
   ],
   "source": [
    "print('Let's go')"
   ]
  },
  {
   "cell_type": "code",
   "execution_count": 4,
   "id": "26671f4a-5051-4b8d-ba28-19e4a8970dd8",
   "metadata": {},
   "outputs": [
    {
     "name": "stdout",
     "output_type": "stream",
     "text": [
      "Let's go\n"
     ]
    }
   ],
   "source": [
    "print('Let\\'s go')"
   ]
  },
  {
   "cell_type": "markdown",
   "id": "458cdc5e-41fa-4833-af3c-70bb0c61bfff",
   "metadata": {},
   "source": [
    "换行符\\n"
   ]
  },
  {
   "cell_type": "code",
   "execution_count": 5,
   "id": "f8f860df-810d-4c82-9a8b-ee711a194501",
   "metadata": {},
   "outputs": [
    {
     "name": "stdout",
     "output_type": "stream",
     "text": [
      "君不见,\n",
      "黄河之水天上来奔流到海不复回\n"
     ]
    }
   ],
   "source": [
    "print('君不见,\\n黄河之水天上来奔流到海不复回')"
   ]
  },
  {
   "cell_type": "markdown",
   "id": "5c3a0682-1af1-4bf3-8996-4c65600a9ca0",
   "metadata": {},
   "source": [
    "三引号\"\"\" 内容 \"\"\"(自动识别字符换行)"
   ]
  },
  {
   "cell_type": "code",
   "execution_count": 6,
   "id": "5389f7a7-be70-4cca-8bde-de87a4822089",
   "metadata": {},
   "outputs": [
    {
     "name": "stdout",
     "output_type": "stream",
     "text": [
      "\n",
      "    君不见，黄河之水天上来，奔流到海不复回。\n",
      "　　君不见，高堂明镜悲白发，朝如青丝暮成雪！\n",
      "　　人生得意须尽欢，莫使金樽空对月。\n",
      "　　天生我材必有用，千金散尽还复来。\n",
      "　　烹羊宰牛且为乐，会须一饮三百杯。\n",
      "　　岑夫子，丹丘生，将进酒，杯莫停。\n",
      "　　与君歌一曲，请君为我倾耳听。\n",
      "　　钟鼓馔玉不足贵，但愿长醉不复醒。\n",
      "　　古来圣贤皆寂寞，惟有饮者留其名。\n",
      "　　陈王昔时宴平乐，斗酒十千恣欢谑。\n",
      "　　主人何为言少钱，径须沽取对君酌。\n",
      "　　五花马、千金裘，呼儿将出换美酒，与尔同销万古愁！\n"
     ]
    }
   ],
   "source": [
    "print(\n",
    "    \"\"\"\n",
    "    君不见，黄河之水天上来，奔流到海不复回。\n",
    "　　君不见，高堂明镜悲白发，朝如青丝暮成雪！\n",
    "　　人生得意须尽欢，莫使金樽空对月。\n",
    "　　天生我材必有用，千金散尽还复来。\n",
    "　　烹羊宰牛且为乐，会须一饮三百杯。\n",
    "　　岑夫子，丹丘生，将进酒，杯莫停。\n",
    "　　与君歌一曲，请君为我倾耳听。\n",
    "　　钟鼓馔玉不足贵，但愿长醉不复醒。\n",
    "　　古来圣贤皆寂寞，惟有饮者留其名。\n",
    "　　陈王昔时宴平乐，斗酒十千恣欢谑。\n",
    "　　主人何为言少钱，径须沽取对君酌。\n",
    "　　五花马、千金裘，呼儿将出换美酒，与尔同销万古愁！\"\"\"\n",
    ")"
   ]
  },
  {
   "cell_type": "markdown",
   "id": "6b7ab1e7-9625-4221-8966-fc78dc4bd065",
   "metadata": {},
   "source": [
    "## 1.2赋值"
   ]
  },
  {
   "cell_type": "code",
   "execution_count": 7,
   "id": "78b301a1-1d97-4d0e-ac30-a5dd028c56b3",
   "metadata": {},
   "outputs": [
    {
     "name": "stdout",
     "output_type": "stream",
     "text": [
      "good morning！张三\n",
      "早上好！李四\n"
     ]
    }
   ],
   "source": [
    "greet = \"早上好！\"\n",
    "greet_before = greet\n",
    "greet = \"good morning！\"\n",
    "print(greet + \"张三\")\n",
    "print(greet_before + \"李四\")"
   ]
  },
  {
   "cell_type": "markdown",
   "id": "e15f8099-a385-4eb4-b134-f45b7fce0961",
   "metadata": {},
   "source": [
    "## 1.3命名的约定  \n",
    "命名使用下划线\"_\"、英文字符、非数字开头  \n",
    "(大小驼峰)$\\rightarrow$UserName  或者user_name  "
   ]
  },
  {
   "cell_type": "markdown",
   "id": "cb5955b2-d176-4a99-9eec-b8fb65af5c9b",
   "metadata": {},
   "source": [
    "## 1.4数据类型"
   ]
  },
  {
   "cell_type": "markdown",
   "id": "71551597-5991-448b-a6ef-68917ebe8baf",
   "metadata": {},
   "source": [
    "常见数据类型有：  \n",
    "字符串str、整型int、浮点float、布尔型bool、空值类型NoneType等"
   ]
  },
  {
   "cell_type": "code",
   "execution_count": 8,
   "id": "48831c48-743e-4a28-905a-6d7a5dbe5b74",
   "metadata": {},
   "outputs": [
    {
     "data": {
      "text/plain": [
       "6"
      ]
     },
     "execution_count": 8,
     "metadata": {},
     "output_type": "execute_result"
    }
   ],
   "source": [
    "len('hello!')"
   ]
  },
  {
   "cell_type": "markdown",
   "id": "3a00d6ab-e386-4817-8724-e9db41d2a163",
   "metadata": {},
   "source": [
    "索引字符"
   ]
  },
  {
   "cell_type": "code",
   "execution_count": 9,
   "id": "a5537c13-0d8a-41a2-b4f5-f2e743b9980e",
   "metadata": {},
   "outputs": [
    {
     "data": {
      "text/plain": [
       "'l'"
      ]
     },
     "execution_count": 9,
     "metadata": {},
     "output_type": "execute_result"
    }
   ],
   "source": [
    "\"hello\"[3]"
   ]
  },
  {
   "cell_type": "markdown",
   "id": "75a0eb4b-7205-435d-9eae-52a76f674abc",
   "metadata": {},
   "source": [
    "布尔值只返回（真/假）"
   ]
  },
  {
   "cell_type": "code",
   "execution_count": 10,
   "id": "4e20b38c-d809-4de9-97a0-9b1941a59e53",
   "metadata": {},
   "outputs": [
    {
     "data": {
      "text/plain": [
       "True"
      ]
     },
     "execution_count": 10,
     "metadata": {},
     "output_type": "execute_result"
    }
   ],
   "source": [
    "a = len('hello')\n",
    "b = len('你好')\n",
    "#a == b\n",
    "a == b+3"
   ]
  },
  {
   "cell_type": "code",
   "execution_count": 11,
   "id": "44fb1ae8-1625-437f-bbf2-dd8694631844",
   "metadata": {},
   "outputs": [
    {
     "name": "stdout",
     "output_type": "stream",
     "text": [
      "<class 'int'> <class 'bool'>\n"
     ]
    }
   ],
   "source": [
    "a = type(6)\n",
    "b = type(1 == 2)\n",
    "print(a,b)"
   ]
  },
  {
   "cell_type": "markdown",
   "id": "a6206d37-a1aa-4d11-a1be-0b183f3424f9",
   "metadata": {},
   "source": [
    "## 2.1 input的使用"
   ]
  },
  {
   "cell_type": "code",
   "execution_count": 13,
   "id": "b0c3ac82-56f1-43b5-a37a-d29ad7fefe98",
   "metadata": {},
   "outputs": [
    {
     "name": "stdin",
     "output_type": "stream",
     "text": [
      "请输入您的体重（kg）： 70\n",
      "请输入您的身高（m）： 1.8\n"
     ]
    },
    {
     "ename": "TypeError",
     "evalue": "unsupported operand type(s) for ** or pow(): 'str' and 'int'",
     "output_type": "error",
     "traceback": [
      "\u001b[1;31m---------------------------------------------------------------------------\u001b[0m",
      "\u001b[1;31mTypeError\u001b[0m                                 Traceback (most recent call last)",
      "Cell \u001b[1;32mIn[13], line 4\u001b[0m\n\u001b[0;32m      2\u001b[0m user_weight \u001b[38;5;241m=\u001b[39m \u001b[38;5;28minput\u001b[39m(\u001b[38;5;124m\"\u001b[39m\u001b[38;5;124m请输入您的体重（kg）：\u001b[39m\u001b[38;5;124m\"\u001b[39m)\n\u001b[0;32m      3\u001b[0m user_hight \u001b[38;5;241m=\u001b[39m \u001b[38;5;28minput\u001b[39m(\u001b[38;5;124m\"\u001b[39m\u001b[38;5;124m请输入您的身高（m）：\u001b[39m\u001b[38;5;124m\"\u001b[39m)\n\u001b[1;32m----> 4\u001b[0m user_BMI \u001b[38;5;241m=\u001b[39m user_weight\u001b[38;5;241m/\u001b[39m\u001b[43m(\u001b[49m\u001b[43muser_hight\u001b[49m\u001b[43m)\u001b[49m\u001b[38;5;241;43m*\u001b[39;49m\u001b[38;5;241;43m*\u001b[39;49m\u001b[38;5;241;43m2\u001b[39;49m\n",
      "\u001b[1;31mTypeError\u001b[0m: unsupported operand type(s) for ** or pow(): 'str' and 'int'"
     ]
    }
   ],
   "source": [
    "# BMI的小应用 （BMI = 体重/身高**2）\n",
    "user_weight = input(\"请输入您的体重（kg）：\")\n",
    "user_hight = input(\"请输入您的身高（m）：\")\n",
    "user_BMI = user_weight/(user_hight)**2"
   ]
  },
  {
   "cell_type": "markdown",
   "id": "6f2beb68-90f7-4b2d-b640-44ad39cfb351",
   "metadata": {},
   "source": [
    "因为input函数储存类型为字符串，计算需要改为整型或者浮点型"
   ]
  },
  {
   "cell_type": "code",
   "execution_count": 14,
   "id": "6231e9c1-968c-4ef5-8d1c-8fdcde39b05d",
   "metadata": {},
   "outputs": [
    {
     "name": "stdin",
     "output_type": "stream",
     "text": [
      "请输入您的体重（kg）： 70\n",
      "请输入您的身高（m）： 1.8\n"
     ]
    },
    {
     "name": "stdout",
     "output_type": "stream",
     "text": [
      "您的BMI为21.604938271604937\n"
     ]
    }
   ],
   "source": [
    "# BMI的小应用 （BMI = 体重/身高**2）\n",
    "user_weight = input(\"请输入您的体重（kg）：\")\n",
    "user_hight = input(\"请输入您的身高（m）：\")\n",
    "user_BMI = float(user_weight)/float(user_hight)**2\n",
    "print(\"您的BMI为\"+str(user_BMI))"
   ]
  },
  {
   "cell_type": "markdown",
   "id": "92186ab7-7b54-4b97-8b71-d602d9773640",
   "metadata": {},
   "source": [
    "## 2.2 条件语句"
   ]
  },
  {
   "cell_type": "code",
   "execution_count": 15,
   "id": "75095327-b4f6-4021-bf25-c2506fdaefac",
   "metadata": {},
   "outputs": [
    {
     "name": "stdin",
     "output_type": "stream",
     "text": [
      "请输入成绩 59\n"
     ]
    },
    {
     "name": "stdout",
     "output_type": "stream",
     "text": [
      "继续努力\n"
     ]
    }
   ],
   "source": [
    "score = float(input('请输入成绩'))\n",
    "if score >= 90:\n",
    "    print('恭喜你被评为优秀')\n",
    "elif score >= 60:\n",
    "    print('还不错')\n",
    "elif score < 60:\n",
    "    print('继续努力')\n",
    "\n"
   ]
  },
  {
   "cell_type": "markdown",
   "id": "54554802-0c37-4ece-a07c-0199d274f58b",
   "metadata": {},
   "source": [
    "连接符（not > and > or）"
   ]
  },
  {
   "cell_type": "code",
   "execution_count": 16,
   "id": "2d247aae-8c6f-4999-a895-7625123cc4a8",
   "metadata": {},
   "outputs": [
    {
     "data": {
      "text/plain": [
       "True"
      ]
     },
     "execution_count": 16,
     "metadata": {},
     "output_type": "execute_result"
    }
   ],
   "source": [
    "x = 10\n",
    "not(x > 5 and (x < 10 or x == 12))"
   ]
  },
  {
   "cell_type": "markdown",
   "id": "6da3b2c8-8cd5-442c-8534-c929bf2b869d",
   "metadata": {},
   "source": [
    "## 2.3 列表"
   ]
  },
  {
   "cell_type": "markdown",
   "id": "affdbc66-bacf-476e-ad6d-a83d071d0a68",
   "metadata": {},
   "source": [
    "定义：num_list = [\"a\", \"b\"] 添加使用list.append(\"c\")"
   ]
  },
  {
   "cell_type": "markdown",
   "id": "4a78b31f-9449-4d3e-b697-5ffa2f4c3edb",
   "metadata": {},
   "source": [
    "列表和一般的数据类型有一定区别："
   ]
  },
  {
   "cell_type": "code",
   "execution_count": 17,
   "id": "aa9e8630-c069-4afc-8147-76c16a3f0a4d",
   "metadata": {},
   "outputs": [
    {
     "name": "stdout",
     "output_type": "stream",
     "text": [
      "HELLO-hello\n",
      "HELLO\n"
     ]
    }
   ],
   "source": [
    "s = \"hello\"\n",
    "print(s.upper()+\"-\"+s)\n",
    "s = s.upper()\n",
    "print(s)"
   ]
  },
  {
   "cell_type": "code",
   "execution_count": 18,
   "id": "3e49cc9f-e142-4ec2-8872-663e841fb89e",
   "metadata": {},
   "outputs": [
    {
     "name": "stdout",
     "output_type": "stream",
     "text": [
      "['iphone', 666, True]\n",
      "['iphone', True]\n",
      "2\n"
     ]
    },
    {
     "ename": "IndexError",
     "evalue": "list index out of range",
     "output_type": "error",
     "traceback": [
      "\u001b[1;31m---------------------------------------------------------------------------\u001b[0m",
      "\u001b[1;31mIndexError\u001b[0m                                Traceback (most recent call last)",
      "Cell \u001b[1;32mIn[18], line 9\u001b[0m\n\u001b[0;32m      7\u001b[0m \u001b[38;5;28mprint\u001b[39m(num_list)\n\u001b[0;32m      8\u001b[0m \u001b[38;5;28mprint\u001b[39m(\u001b[38;5;28mlen\u001b[39m(num_list))\n\u001b[1;32m----> 9\u001b[0m \u001b[38;5;28mprint\u001b[39m(\u001b[43mnum_list\u001b[49m\u001b[43m[\u001b[49m\u001b[38;5;241;43m2\u001b[39;49m\u001b[43m]\u001b[49m)\n",
      "\u001b[1;31mIndexError\u001b[0m: list index out of range"
     ]
    }
   ],
   "source": [
    "num_list = []\n",
    "num_list.append('iphone')\n",
    "num_list.append(666)\n",
    "num_list.append(True)\n",
    "print(num_list)\n",
    "num_list.remove(666)\n",
    "print(num_list)\n",
    "print(len(num_list))\n",
    "print(num_list[2])"
   ]
  },
  {
   "cell_type": "code",
   "execution_count": 19,
   "id": "a5548c21-10a4-479c-96a5-360dac58a1e7",
   "metadata": {},
   "outputs": [
    {
     "name": "stdout",
     "output_type": "stream",
     "text": [
      "[1, 3, 56, -1]\n",
      "-1\n",
      "[-1, 1, 3, 56]\n"
     ]
    }
   ],
   "source": [
    "num_list = [1, 3, 56, -1]\n",
    "print(num_list)\n",
    "print(min(num_list))\n",
    "print(sorted(num_list))"
   ]
  },
  {
   "cell_type": "markdown",
   "id": "89b586f4-0e1b-482a-843e-00e6f215575d",
   "metadata": {},
   "source": [
    "## 2.4 字典"
   ]
  },
  {
   "cell_type": "markdown",
   "id": "7444723d-6fb6-4dd8-8159-c411793ecb9f",
   "metadata": {},
   "source": [
    "contacts = {\"小明\":\"2021154\",  \"小红\":\"2021137\"  } 查找键（key）例如查找小明的学号：contacts[\"小明\"]\n",
    "  *注意作为key的数据类型不可变"
   ]
  },
  {
   "cell_type": "code",
   "execution_count": 20,
   "id": "781eb670-7a08-4e29-84e0-f22a1497fcec",
   "metadata": {},
   "outputs": [
    {
     "data": {
      "text/plain": [
       "'2021154'"
      ]
     },
     "execution_count": 20,
     "metadata": {},
     "output_type": "execute_result"
    }
   ],
   "source": [
    "contacts = {\"小明\":\"2021154\",  \"小红\":\"2021137\"}\n",
    "contacts[\"小明\"]"
   ]
  },
  {
   "cell_type": "markdown",
   "id": "85607753-2f85-4703-9ec8-df4f798c1138",
   "metadata": {},
   "source": [
    "增删查改操作"
   ]
  },
  {
   "cell_type": "code",
   "execution_count": 26,
   "id": "291cb1a2-cb75-44c9-821b-2e79716e9085",
   "metadata": {},
   "outputs": [
    {
     "name": "stdout",
     "output_type": "stream",
     "text": [
      "{'小明': '2021154', '小红': '2021137', '芳芳': '2021198'}\n",
      "{'小明': '2021154', '芳芳': '2021198'}\n",
      "{'小明': '2021136', '芳芳': '2021198'}\n"
     ]
    }
   ],
   "source": [
    "contacts = {\"小明\":\"2021154\",  \"小红\":\"2021137\"}\n",
    "contacts[\"芳芳\"] = \"2021198\" #增添\n",
    "print(contacts)\n",
    "del contacts[\"小红\"] #删除\n",
    "print(contacts)\n",
    "\"小明\" in contacts #查找 \n",
    "contacts[\"小明\"] = \"2021136\" #修改\n",
    "print(contacts)"
   ]
  },
  {
   "cell_type": "markdown",
   "id": "95d58fac-942b-4686-88ba-117f4380dec6",
   "metadata": {},
   "source": [
    "## 3.1循环语句（for、while）"
   ]
  },
  {
   "cell_type": "code",
   "execution_count": 30,
   "id": "40b0ab95-d495-44e9-9033-5298e4cca891",
   "metadata": {},
   "outputs": [
    {
     "name": "stdout",
     "output_type": "stream",
     "text": [
      "5050\n"
     ]
    }
   ],
   "source": [
    "#求和公式\n",
    "total = 0\n",
    "for i in range(1,101):\n",
    "    total += i\n",
    "print(total)"
   ]
  },
  {
   "cell_type": "code",
   "execution_count": 41,
   "id": "6ac3dae9-f2ea-4df4-ae32-379c49a25109",
   "metadata": {},
   "outputs": [
    {
     "name": "stdin",
     "output_type": "stream",
     "text": [
      "（求均值程序，按q终止程序）请输入您需要求的均值所有数字： q\n"
     ]
    },
    {
     "name": "stdout",
     "output_type": "stream",
     "text": [
      "平均值计算为：0\n"
     ]
    }
   ],
   "source": [
    "#求用户输入的数字均值\n",
    "user_input = input(\"（求均值程序，按q终止程序）请输入您需要求的均值所有数字：\")\n",
    "total = 0\n",
    "count = 0\n",
    "while user_input != \"q\":\n",
    "    total += float(user_input)\n",
    "    count +=1\n",
    "    user_input = input(\"请继续输入数字（按q终止）：\")\n",
    "if count == 0:\n",
    "    avg = 0\n",
    "else:\n",
    "    avg = total/count\n",
    "print(\"平均值计算为：\" + str(avg))\n"
   ]
  },
  {
   "cell_type": "markdown",
   "id": "a5fd9f8c-bdaa-42f3-981c-8b6558f2234b",
   "metadata": {},
   "source": [
    "## 3.2 格式化字符串"
   ]
  },
  {
   "cell_type": "markdown",
   "id": "ce9f1872-697c-4aed-ad51-73923dcfb279",
   "metadata": {},
   "source": [
    "群发消息替换人命等内容时可以考虑for、format"
   ]
  },
  {
   "cell_type": "code",
   "execution_count": 61,
   "id": "18a47399-0c58-4ae5-8a12-b17e124ed7c6",
   "metadata": {},
   "outputs": [
    {
     "name": "stdout",
     "output_type": "stream",
     "text": [
      "小红虎年好,并祝小红虎年平安顺遂！\n",
      "小绿虎年好,并祝小绿虎年平安顺遂！\n",
      "小蓝虎年好,并祝小蓝虎年平安顺遂！\n"
     ]
    }
   ],
   "source": [
    "contacts = [\"小红\", \"小绿\", \"小蓝\"]\n",
    "for name in contacts:\n",
    "    message_content = name +\"虎年好,\"\\\n",
    "                    + \"并祝\" + name +\"虎年平安顺遂！\" \n",
    "    print(message_content) #如果有一个发送消息的函数就可以实现群发短信的功能"
   ]
  },
  {
   "cell_type": "code",
   "execution_count": 60,
   "id": "b10e731c-42aa-4a8e-952c-39e0e6166baa",
   "metadata": {},
   "outputs": [
    {
     "name": "stdout",
     "output_type": "stream",
     "text": [
      "小红虎年年好\n",
      "小绿虎年年好\n",
      "小蓝虎年年好\n",
      "小红兔年年好\n",
      "小绿兔年年好\n",
      "小蓝兔年年好\n"
     ]
    }
   ],
   "source": [
    "contacts_name = [\"小红\", \"小绿\", \"小蓝\"]\n",
    "contacts_year = [\"虎年\", \"兔年\"]\n",
    "for year in contacts_year:\n",
    "    for name in contacts_name:\n",
    "        message_content = f\"{name}{year}年好\"\n",
    "        print(message_content)"
   ]
  },
  {
   "cell_type": "code",
   "execution_count": 63,
   "id": "ff65310a-edb6-401b-aff1-2c42de1d1ffc",
   "metadata": {},
   "outputs": [
    {
     "name": "stdout",
     "output_type": "stream",
     "text": [
      "小明兔年年好\n"
     ]
    }
   ],
   "source": [
    "name = \"小明\"\n",
    "year = \"兔年\"\n",
    "message_content = \"{}{}年好\".format(name, year)\n",
    "print(message_content)"
   ]
  },
  {
   "cell_type": "markdown",
   "id": "4cd8c9e7-54b9-4edd-acee-4a72d669905d",
   "metadata": {},
   "source": [
    "或者在format()里面指定好对应位置message_content = \"{reciver_name}{current_year}年好\".format(reciver_name = name, current_year = year)"
   ]
  },
  {
   "cell_type": "markdown",
   "id": "484dfadf-42ef-4db3-bf27-d31e72de455b",
   "metadata": {},
   "source": [
    "## 3.3 函数的定义"
   ]
  },
  {
   "cell_type": "markdown",
   "id": "2c65909a-323a-4abf-b2fd-b19bc2cd32a3",
   "metadata": {},
   "source": [
    "我们定义一个计算球体面积的函数"
   ]
  },
  {
   "cell_type": "code",
   "execution_count": 68,
   "id": "d2847190-6725-4940-84c7-d33d073bfdde",
   "metadata": {},
   "outputs": [
    {
     "name": "stdout",
     "output_type": "stream",
     "text": [
      "求得的体积为4.1866666666666665\n"
     ]
    }
   ],
   "source": [
    "#球体的面积\n",
    "def calculate_ball_area(pi, R):\n",
    "    area = 4/3*pi*R**3\n",
    "    return area\n",
    "    \n",
    "ball_1 = calculate_ball_area(3.14, 1)\n",
    "print(\"求得的体积为\"+str(ball_1))"
   ]
  },
  {
   "cell_type": "code",
   "execution_count": 76,
   "id": "564146b2-c0a2-46e3-9142-2fa9f6374a3f",
   "metadata": {},
   "outputs": [
    {
     "name": "stdout",
     "output_type": "stream",
     "text": [
      "您的BMI为：21.60属于正常\n"
     ]
    }
   ],
   "source": [
    "# BMI计算器\n",
    "def calculate_BMI(weight, hight):\n",
    "    BMI = weight/hight**2\n",
    "    if BMI<=18.5:\n",
    "        category = \"偏瘦\"\n",
    "    elif BMI<=25:\n",
    "        category = \"正常\"\n",
    "    elif BMI<=30:\n",
    "        category = \"偏胖\"\n",
    "    else:\n",
    "        category = \"肥胖\"\n",
    "    print(f\"您的BMI为：{BMI:.2f}属于{category}\")\n",
    "    return BMI\n",
    "##测试\n",
    "my_BMI = calculate_BMI(70, 1.8)\n"
   ]
  },
  {
   "cell_type": "markdown",
   "id": "0aeb148b-6d1b-4217-b442-794a499cb869",
   "metadata": {},
   "source": [
    "## 3.4引入模块"
   ]
  },
  {
   "cell_type": "code",
   "execution_count": 82,
   "id": "e696da2d-2604-4aa5-a4e9-cd0180007db9",
   "metadata": {},
   "outputs": [
    {
     "name": "stdout",
     "output_type": "stream",
     "text": [
      "5\n",
      "12.5\n"
     ]
    }
   ],
   "source": [
    "#基本语法（三种）\n",
    "import statistics\n",
    "print(statistics.mean(range(1,10)))\n",
    "print(statistics.median(range(1,25)))"
   ]
  },
  {
   "cell_type": "code",
   "execution_count": 84,
   "id": "69dd4187-ba7f-4c74-9ca0-7b27cbc1895b",
   "metadata": {},
   "outputs": [
    {
     "name": "stdout",
     "output_type": "stream",
     "text": [
      "5\n",
      "12.5\n"
     ]
    }
   ],
   "source": [
    "from statistics import mean, median\n",
    "print(mean(range(1,10)))\n",
    "print(median(range(1,25)))"
   ]
  },
  {
   "cell_type": "code",
   "execution_count": 85,
   "id": "2b577e29-22c4-4e96-9020-599d9ce6f31c",
   "metadata": {},
   "outputs": [
    {
     "name": "stdout",
     "output_type": "stream",
     "text": [
      "5\n",
      "12.5\n"
     ]
    }
   ],
   "source": [
    "from statistics import*  #库里所有函数引用有可能造成同名函数的混乱\n",
    "print(mean(range(1,10)))\n",
    "print(median(range(1,25)))"
   ]
  },
  {
   "cell_type": "code",
   "execution_count": 87,
   "id": "fe572461-b444-422b-880b-89453a9f4ee0",
   "metadata": {},
   "outputs": [],
   "source": [
    "# 还有一些其他的需下载的库\n",
    "import pandas\n",
    "import numpy"
   ]
  },
  {
   "cell_type": "markdown",
   "id": "038d40a2-1643-40ea-8644-cc1a005472fe",
   "metadata": {},
   "source": [
    "## 4.1面向对象的编程"
   ]
  },
  {
   "cell_type": "markdown",
   "id": "946d10dc-6b36-4391-a418-99a3e294c99e",
   "metadata": {},
   "source": [
    "创建class类，例如我们创建一个可爱猫猫的类"
   ]
  },
  {
   "cell_type": "code",
   "execution_count": 96,
   "id": "13d08168-31f3-4710-bdc4-4d7861d607dc",
   "metadata": {},
   "outputs": [
    {
     "name": "stdout",
     "output_type": "stream",
     "text": [
      "这里有一只black色的小猫叫Dio，它今年5岁了\n",
      "发现这里还有一只叫Jojo小猫是white色的，它3岁了\n"
     ]
    }
   ],
   "source": [
    "class CuteCat: #注意，类名不能有下划线，统一使用驼峰命名\n",
    "    def __init__(self, cat_name, cat_color, cat_age):\n",
    "        self.name = cat_name\n",
    "        self.color = cat_color\n",
    "        self.age = cat_age\n",
    "#这样我们就创建好一个带有基本属性的类了\n",
    "#测试一下\n",
    "cat_1 = CuteCat(\"Dio\", \"black\", 5)\n",
    "cat_2 = CuteCat(\"Jojo\", \"white\", 3)\n",
    "# print(cat_1.name + \"&\" + cat_2.name)\n",
    "# print(cat_1.age, \"&\",  cat_2.age)\n",
    "print(f\"这里有一只{cat_1.color}色的小猫叫{cat_1.name}，它今年{cat_1.age}岁了\")\n",
    "print(f\"发现这里还有一只叫{cat_2.name}小猫是{cat_2.color}色的，它{cat_2.age}岁了\")"
   ]
  },
  {
   "cell_type": "markdown",
   "id": "397f7f69-d82d-43e8-8d3e-1c7b535b1966",
   "metadata": {},
   "source": [
    "类不仅包含这类事物的主要属性，并且有对应的特征行为动作。  \n",
    "并且类下面可以嵌套创建子类，同时可能产生子类不同的属性和行为动作。"
   ]
  },
  {
   "cell_type": "code",
   "execution_count": 116,
   "id": "344edf62-8b3d-4405-be67-87b32ccc36d3",
   "metadata": {},
   "outputs": [
    {
     "name": "stdout",
     "output_type": "stream",
     "text": [
      "学生：张三 学号：123 班级：初一（2）班\n",
      "语文:85\n",
      "数学:99\n",
      "英语:75\n"
     ]
    }
   ],
   "source": [
    "# 考虑创建学生类\n",
    "class Student:\n",
    "    def __init__(self, name, student_id, student_class):\n",
    "        self.name = name\n",
    "        self.student_id = student_id\n",
    "        self.student_class = student_class\n",
    "        self.grades = {\"语文\":0, \"数学\":0, \"英语\":0}\n",
    "        \n",
    "    def set_grades(self, grades, coures):\n",
    "        if coures in self.grades:\n",
    "            self.grades[coures] = grades\n",
    "        else: \n",
    "            print(\"该科目不存在\")\n",
    "        \n",
    "    def print_scores(self):\n",
    "        print(f\"学生：{self.name} 学号：{self.student_id} 班级：{self.student_class}\")\n",
    "        for coures in self.grades:\n",
    "            print(f\"{coures}:{self.grades[coures]}\")\n",
    "            \n",
    "zhangsan = Student(\"张三\", \"123\", \"初一（2）班\")\n",
    "zhangsan.set_grades(85, \"语文\")\n",
    "zhangsan.set_grades(99, \"数学\")\n",
    "zhangsan.set_grades(75, \"英语\")\n",
    "zhangsan.print_scores()\n",
    "# print(zhangsan.name)\n",
    "# print(zhangsan.grades)\n",
    "\n",
    "        "
   ]
  },
  {
   "cell_type": "code",
   "execution_count": 130,
   "id": "a9203248-0d3f-4ae3-ba69-d1e5d824d157",
   "metadata": {},
   "outputs": [
    {
     "name": "stdout",
     "output_type": "stream",
     "text": [
      "员工姓名：张三 员工号：212542\n",
      "张三的月薪为： 15800\n",
      "员工姓名：赵四 员工号：254582\n",
      "赵四的月薪为： 6720\n"
     ]
    }
   ],
   "source": [
    "# 类继承练习：人力系统\n",
    "# -员工分为两类全职员工FullTimeEmployee、兼职员工c\n",
    "# 都具备打印信息 print_info 的方法（姓名、工号）\n",
    "#-全职有月薪（monthly_salary）的属性，\n",
    "#兼职有日新（daily_salary）、每月工作天数（work_days）的属性\n",
    "#全职和兼职都有计算月薪的方法，但是计算过程不一样\n",
    "\n",
    "class Employee:\n",
    "    def __init__(self, name, employee_id):\n",
    "        self.name = name\n",
    "        self.id = employee_id\n",
    "\n",
    "    def print_info(self):\n",
    "        print(f\"员工姓名：{self.name} 员工号：{self.id}\")\n",
    "        \n",
    "class FullTimeEmployee(Employee):\n",
    "    def __init__(self, name, employee_id, monthly_salary):\n",
    "        super().__init__(name, employee_id)\n",
    "        self.monthly_salary = monthly_salary\n",
    "\n",
    "    def calculate_monthly_salary(self):\n",
    "        return self.monthly_salary\n",
    "        \n",
    "class  PartTimeEmployee(Employee):\n",
    "    def __init__(self, name, employee_id, daily_salary, work_days):\n",
    "        super().__init__(name, employee_id)\n",
    "        self.daily_salary = daily_salary\n",
    "        self.work_days = work_days\n",
    "        \n",
    "    def calculate_monthly_salary(self):\n",
    "        return self.work_days*self.daily_salary\n",
    "\n",
    "##测试\n",
    "zhangsan = FullTimeEmployee(\"张三\", 212542, 15800)\n",
    "zhaosi = PartTimeEmployee(\"赵四\", 254582, 280, 24)\n",
    "zhangsan.print_info()\n",
    "print(\"张三的月薪为：\", zhangsan.calculate_monthly_salary())\n",
    "zhaosi.print_info()\n",
    "print(\"赵四的月薪为：\", zhaosi.calculate_monthly_salary())  "
   ]
  },
  {
   "cell_type": "markdown",
   "id": "60411392-0cc3-4930-9935-7772a6644ec4",
   "metadata": {},
   "source": [
    "## 5.1文件的读取  \n",
    "读取文件位置：  \n",
    "1.绝对路径  \n",
    "2.相对路径"
   ]
  },
  {
   "cell_type": "code",
   "execution_count": 1,
   "id": "69bcc018-2060-4ccd-af22-8f3dce43a4d6",
   "metadata": {},
   "outputs": [],
   "source": [
    "#打开文件\n",
    "# f = open(\"user/demo/data.txt\", \"r\", encoding = \"utf-8\")   \n",
    "#       文件位置 ，模式 r-只读  w-只写   ，编码方式     \n",
    "# print(f.read())  全文读取，并且记录位置，占用内存 f.read(10)限制读入字节\n",
    "\n",
    "# print(f.readline())  单行读取，常用while循环读取\n",
    "## line = f.readline()\n",
    "## while line ！= \"\"\n",
    "##       print(line)\n",
    "##       line = f.readline()\n",
    "\n",
    "### readlines() 多行读取，返回数组\n",
    "### lines = f.readlines()\n",
    "### for line in readlines \n",
    "###     print(line)"
   ]
  },
  {
   "cell_type": "markdown",
   "id": "60457d73-c9df-4938-9390-33c0411877fc",
   "metadata": {},
   "source": [
    "文件的关闭"
   ]
  },
  {
   "cell_type": "code",
   "execution_count": 2,
   "id": "e572524c-b9f9-4fe2-83e2-0fa554f12d89",
   "metadata": {},
   "outputs": [],
   "source": [
    "# 文件不及时关闭占用大量内存\n",
    "# 方式一\n",
    "# f = open(\"user/demo/data.txt\", \"r\", encoding = \"utf-8\")     \n",
    "# print(f.read())  \n",
    "# f.close\n",
    "\n",
    "##方式二\n",
    "# with open(\"user/demo/data.txt\", \"r\", encoding = \"utf-8\") as f:\n",
    "#      print(f.read())  "
   ]
  },
  {
   "cell_type": "markdown",
   "id": "a9b9f174-2fa9-48b2-9b8a-80058b39b501",
   "metadata": {},
   "source": [
    "文件的读写"
   ]
  },
  {
   "cell_type": "code",
   "execution_count": 6,
   "id": "b3faeb98-a0e8-4082-8fa6-c128f7e56ee3",
   "metadata": {},
   "outputs": [
    {
     "ename": "SyntaxError",
     "evalue": "invalid syntax (2854282901.py, line 1)",
     "output_type": "error",
     "traceback": [
      "\u001b[1;36m  Cell \u001b[1;32mIn[6], line 1\u001b[1;36m\u001b[0m\n\u001b[1;33m    with open(\"./data.txt\", r+, encoding = \"utf-8\") as f:\u001b[0m\n\u001b[1;37m                              ^\u001b[0m\n\u001b[1;31mSyntaxError\u001b[0m\u001b[1;31m:\u001b[0m invalid syntax\n"
     ]
    }
   ],
   "source": [
    "with open(\"./data.txt\", r+, encoding = \"utf-8\") as f:\n",
    "    print(f.read)\n",
    "    f.write(\"你好\")\n",
    "#对于写入模式“w” 和添加“a”不能读取文件内容，“r+”更加灵活"
   ]
  },
  {
   "cell_type": "code",
   "execution_count": null,
   "id": "c6a87655-1334-4885-b5da-22e1e6de4c7f",
   "metadata": {},
   "outputs": [],
   "source": []
  }
 ],
 "metadata": {
  "kernelspec": {
   "display_name": "Python 3 (ipykernel)",
   "language": "python",
   "name": "python3"
  },
  "language_info": {
   "codemirror_mode": {
    "name": "ipython",
    "version": 3
   },
   "file_extension": ".py",
   "mimetype": "text/x-python",
   "name": "python",
   "nbconvert_exporter": "python",
   "pygments_lexer": "ipython3",
   "version": "3.9.23"
  }
 },
 "nbformat": 4,
 "nbformat_minor": 5
}
