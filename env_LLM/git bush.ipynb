{
 "cells": [
  {
   "cell_type": "markdown",
   "id": "f39af821",
   "metadata": {},
   "source": [
    "Git 的指令"
   ]
  }
 ],
 "metadata": {
  "language_info": {
   "name": "python"
  }
 },
 "nbformat": 4,
 "nbformat_minor": 5
}
