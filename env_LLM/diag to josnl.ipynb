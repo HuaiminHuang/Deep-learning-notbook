{
 "cells": [
  {
   "cell_type": "code",
   "execution_count": 1,
   "id": "8ead3373-6cf6-4307-afba-1a42597b4a7c",
   "metadata": {},
   "outputs": [],
   "source": [
    "# dialogoues-->jsonl\n",
    "import json, pathlib\n",
    "\n",
    "with open(\"dialogue.jsonl\", \"w\", encoding=\"utf-8\") as fout:\n",
    "    for line in pathlib.Path(\"C:/Users/hhm18/Downloads/tieba.dialogues\").open(encoding=\"utf-8\"):\n",
    "        q, r = line.rstrip(\"\\n\").split(\"\\t\")\n",
    "        fout.write(json.dumps({\"query\": q, \"response\": r}, ensure_ascii=False) + \"\\n\")\n"
   ]
  }
 ],
 "metadata": {
  "kernelspec": {
   "display_name": "Python 3 (ipykernel)",
   "language": "python",
   "name": "python3"
  },
  "language_info": {
   "codemirror_mode": {
    "name": "ipython",
    "version": 3
   },
   "file_extension": ".py",
   "mimetype": "text/x-python",
   "name": "python",
   "nbconvert_exporter": "python",
   "pygments_lexer": "ipython3",
   "version": "3.9.23"
  }
 },
 "nbformat": 4,
 "nbformat_minor": 5
}
