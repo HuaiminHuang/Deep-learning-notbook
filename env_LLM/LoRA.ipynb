{
 "cells": [
  {
   "cell_type": "markdown",
   "id": "7aca6548-4de5-4d73-8f55-f5503a74881b",
   "metadata": {},
   "source": [
    "# 背景\n",
    "在大语言模型（LLM）抑或是图文生成等方面，都需要大量的GPU显存来支撑。这背景下就诞生出了各种参数高效（Parameter-Efficient）的方法。  \n",
    "最受欢迎的就是**LoRA：《LoRA: Low-Rank Adaptation of Large Language Models》**。"
   ]
  },
  {
   "cell_type": "markdown",
   "id": "1fd3b9ba-890c-4638-a6ad-0cfac495f91c",
   "metadata": {},
   "source": [
    "## 原理\n",
    "对于一个大矩阵$W_0 \\in \\mathbb{R}^{n \\times m}$对他进行低秩分解得到两个小矩阵$A \\in \\mathbb{R}^{n \\times r}, B \\in \\mathbb{R}^{r \\times m}$\n",
    "在训练的过程中不改变$W_0$的参数，而去改变$A, B$的参数：\n",
    "$$W_{new} = W_0 + AB$$\n",
    "在训练计算的时候：\n",
    "$$h = W_0x + ABx = (W_0 + AB)x $$\n",
    "一般来说，AB会使用缩放因子$\\frac{\\alpha}{\\gamma}$进行缩放，我们最终写为：\n",
    "$$ h = W_0x + ABx = (W_0 + \\frac{\\alpha}{\\gamma}AB)x $$\n",
    "其中$r << \\min{(n,m)}$，甚至可以设置成1.\n",
    "![LoRA示意图](./LoRA.png)"
   ]
  },
  {
   "cell_type": "code",
   "execution_count": 1,
   "id": "96d6f9e3-d06a-4b39-9120-99ff51de547f",
   "metadata": {},
   "outputs": [],
   "source": [
    "import torch\n",
    "import torch\n",
    "from torch import nn\n",
    "from torch.nn import functional as F\n",
    "import math"
   ]
  },
  {
   "cell_type": "code",
   "execution_count": 2,
   "id": "e6048a71-6a6f-4cd4-a15f-834d80f09cef",
   "metadata": {},
   "outputs": [],
   "source": [
    "class LinearLoRALayer(nn.Module):\n",
    "    def __init__(self, \n",
    "                in_features, \n",
    "                out_features,\n",
    "                rank, \n",
    "                lora_alpha,\n",
    "                dropout, \n",
    "                merge = False\n",
    "                ):\n",
    "        super ().__init__()\n",
    "        self.in_features = in_features\n",
    "        self.out_features = out_features\n",
    "        self.rank= rank\n",
    "        self.lora_alpha = lora_alpha\n",
    "        self.dropout = dropout\n",
    "        self.merge = merge\n",
    "        \n",
    "        \n",
    "        self.linear = nn.Linear(in_features, out_features, bias=True)\n",
    "        # linear shape is (out_features, in_features)\n",
    "        # input x shape is (batch_size, seq_size, in_features)\n",
    "        # 计算过程是 x @ W^T (细节实现)，所以weight shape is (out_features, in_features)\n",
    "        \n",
    "        if rank > 0:\n",
    "            self.lora_a = nn.Parameter(torch.randn(out_features, rank)) # 高斯分布\n",
    "            nn.init.kaiming_uniform_(self.lora_a, a=0.01)\n",
    "            \n",
    "            self.lora_b = nn.Parameter(torch.randn(rank, in_features))\n",
    "            self.scale = self.lora_alpha / rank\n",
    "            \n",
    "            # linear需要设置为不可训练\n",
    "            self.linear.weight.requires_grad = False\n",
    "            self.linear.bias.requires_gradu = False\n",
    "            \n",
    "        self.dropout = nn.Dropout(dropout) if dropout > 0 else nn.Identity()\n",
    "\n",
    "\n",
    "        # merge 是bool类型，如果true则将lora的权重和linear的权重合并\n",
    "        # 那么会把 lora_a 和 lora_b 两个小矩阵的参数直接放到 linear.weight 中\n",
    "        if merge:\n",
    "            self.merge_weight()\n",
    "\n",
    "    def merge_weight(self, ):\n",
    "        if self.merge and self.rank > 0:\n",
    "            self.linear.weight.data += self.scale * (self.lora_a @ self.lora_b)\n",
    "    \n",
    "    def unmerge_weight(self, ):\n",
    "        if self.rank > 0:\n",
    "            self.linear.weight.data -= self.scale * (self.lora_a @ self.lora_b)\n",
    "                \n",
    "    def forward(self, x):\n",
    "        if rank > 0:\n",
    "            output_part1 = self.linear(x)\n",
    "            output_part2 = self.scale*(x @ (self.lora_a @ self.lora_b).T)\n",
    "            output = output_part1 + output_part2\n",
    "        else: \n",
    "            output = self.linear(x)\n",
    "            \n",
    "        output = self.dropout(output)\n",
    "        return output\n",
    "            "
   ]
  },
  {
   "cell_type": "code",
   "execution_count": 3,
   "id": "1c123195-e4d3-4508-bb2d-264f2a2284b9",
   "metadata": {},
   "outputs": [
    {
     "data": {
      "text/plain": [
       "torch.Size([32, 120, 768])"
      ]
     },
     "execution_count": 3,
     "metadata": {},
     "output_type": "execute_result"
    }
   ],
   "source": [
    "# 测试代码\n",
    "batch_size = 32\n",
    "seq_len = 120\n",
    "in_features = 768\n",
    "out_features = 512\n",
    "rank = 8\n",
    "lora_alpha = 16\n",
    "dropout = 0.1\n",
    "\n",
    "# Create a test input\n",
    "x = torch.randn(batch_size, seq_len, in_features)\n",
    "x.shape"
   ]
  },
  {
   "cell_type": "code",
   "execution_count": 4,
   "id": "51f0f835-7804-4d86-aab3-30a1cab610d1",
   "metadata": {},
   "outputs": [
    {
     "name": "stdout",
     "output_type": "stream",
     "text": [
      "Output shape(unmerge): torch.Size([32, 120, 512])\n"
     ]
    }
   ],
   "source": [
    "# no-merge\n",
    "lora_layer = LinearLoRALayer(\n",
    "    in_features=in_features,\n",
    "    out_features=out_features,\n",
    "    rank=rank,\n",
    "    lora_alpha=lora_alpha,\n",
    "    dropout=dropout,\n",
    "    merge=False\n",
    ")\n",
    "\n",
    "output = lora_layer(x)\n",
    "print(f\"Output shape(unmerge): {output.shape}\") #(b, s, out_features)"
   ]
  },
  {
   "cell_type": "code",
   "execution_count": 5,
   "id": "4ebce70a-589e-4df2-8f40-486e20c26ccc",
   "metadata": {},
   "outputs": [
    {
     "name": "stdout",
     "output_type": "stream",
     "text": [
      "Output shape (merged): torch.Size([32, 120, 512])\n"
     ]
    }
   ],
   "source": [
    "# Test merged mode\n",
    "lora_layer_merged = LinearLoRALayer(\n",
    "    in_features=in_features,\n",
    "    out_features=out_features,\n",
    "    rank=rank,\n",
    "    lora_alpha=lora_alpha,\n",
    "    dropout=dropout,\n",
    "    merge=True\n",
    ")\n",
    "\n",
    "# Forward pass with merged weights\n",
    "output_merged = lora_layer_merged(x)\n",
    "print(f\"Output shape (merged): {output_merged.shape}\")"
   ]
  },
  {
   "cell_type": "code",
   "execution_count": 6,
   "id": "e3c35c87-6656-49dc-bd95-81024574579a",
   "metadata": {},
   "outputs": [
    {
     "name": "stdout",
     "output_type": "stream",
     "text": [
      "Max difference after merge/unmerge cycle: 614.7224731445312\n"
     ]
    }
   ],
   "source": [
    "# Test weight merging/unmerging\n",
    "lora_layer.merge_weight()\n",
    "output_after_merge = lora_layer(x)\n",
    "lora_layer.unmerge_weight()\n",
    "output_after_unmerge = lora_layer(x)\n",
    "\n",
    "print(\"Max difference after merge/unmerge cycle:\", \n",
    "      torch.max(torch.abs(output - output_after_unmerge)).item())"
   ]
  }
 ],
 "metadata": {
  "kernelspec": {
   "display_name": "Python 3 (ipykernel)",
   "language": "python",
   "name": "python3"
  },
  "language_info": {
   "codemirror_mode": {
    "name": "ipython",
    "version": 3
   },
   "file_extension": ".py",
   "mimetype": "text/x-python",
   "name": "python",
   "nbconvert_exporter": "python",
   "pygments_lexer": "ipython3",
   "version": "3.9.23"
  }
 },
 "nbformat": 4,
 "nbformat_minor": 5
}
