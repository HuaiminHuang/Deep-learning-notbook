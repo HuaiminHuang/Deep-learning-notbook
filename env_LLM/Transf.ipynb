{
 "cells": [
  {
   "cell_type": "code",
   "execution_count": 3,
   "id": "86c3a72c-b212-456a-bb76-8d600fb9f437",
   "metadata": {},
   "outputs": [
    {
     "name": "stdout",
     "output_type": "stream",
     "text": [
      "✅ 已合并并输出 merged.jsonl\n"
     ]
    }
   ],
   "source": [
    "# merge_all_qa.py\n",
    "import yaml, json, pathlib, glob\n",
    "\n",
    "out_file = \"merged.jsonl\"\n",
    "with open(out_file, \"w\", encoding=\"utf-8\") as fout:\n",
    "    for yml_path in pathlib.Path(\"./dataset/chinese/\").glob(\"*.yml\"):\n",
    "        data = yaml.safe_load(yml_path.read_text(encoding=\"utf-8\"))\n",
    "        for conv in data[\"conversations\"]:\n",
    "            # 拆成一问一答\n",
    "            for q, r in zip(conv[::2], conv[1::2]):\n",
    "                fout.write(json.dumps({\"query\": q, \"response\": r}, ensure_ascii=False) + \"\\n\")\n",
    "\n",
    "print(f\"✅ 已合并并输出 {out_file}\")"
   ]
  },
  {
   "cell_type": "code",
   "execution_count": 6,
   "id": "9be1b6bf-24d8-43af-ac51-0eaa52688639",
   "metadata": {},
   "outputs": [],
   "source": [
    "src = pathlib.Path(\"./dataset/qingyun.csv\")        # 原始文件\n",
    "dst = pathlib.Path(\"./dataset/qingyun.jsonl\")  # 输出文件\n",
    "\n",
    "with src.open(encoding=\"utf-8\") as fin, dst.open(\"w\", encoding=\"utf-8\") as fout:\n",
    "    for line in fin:\n",
    "        line = line.rstrip(\"\\n\")\n",
    "        if \"|\" not in line:         # 跳过空行或格式异常\n",
    "            continue\n",
    "        q, r = line.split(\"|\", 1)   # 只按第一个 | 拆分\n",
    "        item = {\"query\": q.strip(), \"response\": r.strip()}\n",
    "        fout.write(json.dumps(item, ensure_ascii=False) + \"\\n\")"
   ]
  },
  {
   "cell_type": "code",
   "execution_count": null,
   "id": "88f86d50-c0f3-4763-be83-9726cb6ab929",
   "metadata": {},
   "outputs": [],
   "source": []
  }
 ],
 "metadata": {
  "kernelspec": {
   "display_name": "Python 3 (ipykernel)",
   "language": "python",
   "name": "python3"
  },
  "language_info": {
   "codemirror_mode": {
    "name": "ipython",
    "version": 3
   },
   "file_extension": ".py",
   "mimetype": "text/x-python",
   "name": "python",
   "nbconvert_exporter": "python",
   "pygments_lexer": "ipython3",
   "version": "3.9.23"
  }
 },
 "nbformat": 4,
 "nbformat_minor": 5
}
