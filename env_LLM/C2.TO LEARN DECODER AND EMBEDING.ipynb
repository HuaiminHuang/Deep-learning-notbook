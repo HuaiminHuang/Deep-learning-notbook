{
 "cells": [
  {
   "cell_type": "markdown",
   "id": "1dd0df03-c3cd-4e32-82e8-712d3e52c691",
   "metadata": {},
   "source": [
    "# C2\n",
    "\n",
    "## 1.Decode in LLM"
   ]
  },
  {
   "cell_type": "code",
   "execution_count": 1,
   "id": "b7f2d688-7107-402f-99c6-9f7c19c1c1d0",
   "metadata": {},
   "outputs": [],
   "source": [
    "import os\n",
    "os.environ[\"HF_ENDPOINT\"] = \"https://hf-mirror.com\""
   ]
  },
  {
   "cell_type": "code",
   "execution_count": 2,
   "id": "c706a72f-6c64-4594-9685-a742e154257f",
   "metadata": {
    "scrolled": true
   },
   "outputs": [
    {
     "name": "stdout",
     "output_type": "stream",
     "text": [
      "Looking in indexes: https://pypi.tuna.tsinghua.edu.cn/simple\n",
      "Requirement already satisfied: hf_xet in c:\\users\\hhm18\\miniconda3\\envs\\env_llm\\lib\\site-packages (1.1.7)\n"
     ]
    }
   ],
   "source": [
    "# 添加加速库\n",
    "!pip install -U hf_xet"
   ]
  },
  {
   "cell_type": "code",
   "execution_count": 3,
   "id": "e6f8c2b7-f4d8-45ee-969b-ceafff2484f0",
   "metadata": {
    "scrolled": true
   },
   "outputs": [],
   "source": [
    "# !pip install bitsandbytes"
   ]
  },
  {
   "cell_type": "code",
   "execution_count": 4,
   "id": "754c22e8-1442-4789-89b9-5116474a44ff",
   "metadata": {
    "scrolled": true
   },
   "outputs": [],
   "source": [
    "#pip install -U bitsandbytes"
   ]
  },
  {
   "cell_type": "code",
   "execution_count": 5,
   "id": "fcf9f6b3-fa68-440e-b554-6b3b1e3286a4",
   "metadata": {
    "scrolled": true
   },
   "outputs": [
    {
     "name": "stderr",
     "output_type": "stream",
     "text": [
      "C:\\Users\\hhm18\\miniconda3\\envs\\env_LLM\\lib\\site-packages\\requests\\__init__.py:86: RequestsDependencyWarning: Unable to find acceptable character detection dependency (chardet or charset_normalizer).\n",
      "  warnings.warn(\n"
     ]
    },
    {
     "data": {
      "application/vnd.jupyter.widget-view+json": {
       "model_id": "75405c2987a24e299396f53662f038ed",
       "version_major": 2,
       "version_minor": 0
      },
      "text/plain": [
       "Loading checkpoint shards:   0%|          | 0/2 [00:00<?, ?it/s]"
      ]
     },
     "metadata": {},
     "output_type": "display_data"
    }
   ],
   "source": [
    "from transformers import BitsAndBytesConfig, AutoModelForCausalLM\n",
    "import torch\n",
    "# 修改为半精度\n",
    "model_name = \"deepseek-ai/DeepSeek-R1-Distill-Qwen-7B\"\n",
    "\n",
    "bnb_config = BitsAndBytesConfig(\n",
    "    load_in_4bit=True,            # 或 load_in_8bit=True\n",
    "    bnb_4bit_compute_dtype=torch.float16,\n",
    "    bnb_4bit_use_double_quant=True,\n",
    ")\n",
    "model_DS = AutoModelForCausalLM.from_pretrained(\n",
    "    model_name,\n",
    "    quantization_config=bnb_config,\n",
    "    device_map=\"auto\",            # 让库自动把层拆分到 CPU/GPU\n",
    "    trust_remote_code=True\n",
    ")"
   ]
  },
  {
   "cell_type": "code",
   "execution_count": 6,
   "id": "2fc3eefa-c5f7-49c6-9c16-c351f3444be5",
   "metadata": {
    "jupyter": {
     "source_hidden": true
    }
   },
   "outputs": [
    {
     "name": "stdout",
     "output_type": "stream",
     "text": [
      "7.99560546875 GB\n"
     ]
    }
   ],
   "source": [
    "import torch\n",
    "print(torch.cuda.get_device_properties(0).total_memory / 1024**3, \"GB\")   # GPU 总容量"
   ]
  },
  {
   "cell_type": "code",
   "execution_count": 7,
   "id": "b384ab79-74d2-44cd-9964-d1dc6d1ac3a4",
   "metadata": {
    "scrolled": true
   },
   "outputs": [
    {
     "name": "stdout",
     "output_type": "stream",
     "text": [
      "Qwen2ForCausalLM(\n",
      "  (model): Qwen2Model(\n",
      "    (embed_tokens): Embedding(152064, 3584)\n",
      "    (layers): ModuleList(\n",
      "      (0-27): 28 x Qwen2DecoderLayer(\n",
      "        (self_attn): Qwen2Attention(\n",
      "          (q_proj): Linear4bit(in_features=3584, out_features=3584, bias=True)\n",
      "          (k_proj): Linear4bit(in_features=3584, out_features=512, bias=True)\n",
      "          (v_proj): Linear4bit(in_features=3584, out_features=512, bias=True)\n",
      "          (o_proj): Linear4bit(in_features=3584, out_features=3584, bias=False)\n",
      "        )\n",
      "        (mlp): Qwen2MLP(\n",
      "          (gate_proj): Linear4bit(in_features=3584, out_features=18944, bias=False)\n",
      "          (up_proj): Linear4bit(in_features=3584, out_features=18944, bias=False)\n",
      "          (down_proj): Linear4bit(in_features=18944, out_features=3584, bias=False)\n",
      "          (act_fn): SiLU()\n",
      "        )\n",
      "        (input_layernorm): Qwen2RMSNorm((3584,), eps=1e-06)\n",
      "        (post_attention_layernorm): Qwen2RMSNorm((3584,), eps=1e-06)\n",
      "      )\n",
      "    )\n",
      "    (norm): Qwen2RMSNorm((3584,), eps=1e-06)\n",
      "    (rotary_emb): Qwen2RotaryEmbedding()\n",
      "  )\n",
      "  (lm_head): Linear(in_features=3584, out_features=152064, bias=False)\n",
      ")\n"
     ]
    }
   ],
   "source": [
    "print(model_DS)"
   ]
  },
  {
   "cell_type": "code",
   "execution_count": 8,
   "id": "3e85f85b-ae79-4ac6-b22e-c16ef8e22643",
   "metadata": {},
   "outputs": [
    {
     "data": {
      "text/plain": [
       "{'bos_token': '<｜begin▁of▁sentence｜>',\n",
       " 'eos_token': '<｜end▁of▁sentence｜>',\n",
       " 'pad_token': '<｜end▁of▁sentence｜>'}"
      ]
     },
     "execution_count": 8,
     "metadata": {},
     "output_type": "execute_result"
    }
   ],
   "source": [
    "from transformers import AutoTokenizer\n",
    "\n",
    "tokenizer = AutoTokenizer.from_pretrained(model_name)\n",
    "tokenizer.special_tokens_map"
   ]
  },
  {
   "cell_type": "code",
   "execution_count": 9,
   "id": "8a3f2e4c-2ef8-4a9e-81fd-6f0339f8c1ce",
   "metadata": {},
   "outputs": [
    {
     "data": {
      "text/plain": [
       "{'input_ids': tensor([[151646, 108965,  61443, 104191, 101915,  90286,   3837, 101915,  46590,\n",
       "          99329, 113794,   1773]], device='cuda:0'), 'attention_mask': tensor([[1, 1, 1, 1, 1, 1, 1, 1, 1, 1, 1, 1]], device='cuda:0')}"
      ]
     },
     "execution_count": 9,
     "metadata": {},
     "output_type": "execute_result"
    }
   ],
   "source": [
    "prompt = '帮我写一份申请书，申请steam游戏退款。'\n",
    "inputs = tokenizer(prompt, return_tensors='pt').to(model_DS.device)\n",
    "\n",
    "inputs"
   ]
  },
  {
   "cell_type": "code",
   "execution_count": 10,
   "id": "5c028075-bfe4-42cc-8dba-61790ecad12c",
   "metadata": {
    "scrolled": true
   },
   "outputs": [
    {
     "name": "stderr",
     "output_type": "stream",
     "text": [
      "The attention mask and the pad token id were not set. As a consequence, you may observe unexpected behavior. Please pass your input's `attention_mask` to obtain reliable results.\n",
      "Setting `pad_token_id` to `eos_token_id`:151643 for open-end generation.\n",
      "The attention mask is not set and cannot be inferred from input because pad token is same as eos token. As a consequence, you may observe unexpected behavior. Please pass your input's `attention_mask` to obtain reliable results.\n",
      "C:\\Users\\hhm18\\miniconda3\\envs\\env_LLM\\lib\\site-packages\\transformers\\integrations\\sdpa_attention.py:89: UserWarning: 1Torch was not compiled with flash attention. (Triggered internally at C:\\actions-runner\\_work\\pytorch\\pytorch\\builder\\windows\\pytorch\\aten\\src\\ATen\\native\\transformers\\cuda\\sdp_utils.cpp:455.)\n",
      "  attn_output = torch.nn.functional.scaled_dot_product_attention(\n"
     ]
    }
   ],
   "source": [
    "generation_output = model_DS.generate(\n",
    "    input_ids = inputs.input_ids,\n",
    "    max_new_tokens = 128, \n",
    ")"
   ]
  },
  {
   "cell_type": "code",
   "execution_count": 11,
   "id": "2d04c04f-5aa2-4193-9f8b-40a70d8ab85e",
   "metadata": {},
   "outputs": [
    {
     "name": "stdout",
     "output_type": "stream",
     "text": [
      "帮我写一份申请书，申请steam游戏退款。我的情况是，我在购买了游戏后，发现这个游戏是中文版，而原版是英文的，导致我无法理解游戏的内容，影响了游戏体验。所以，我想申请退款。\n",
      "\n",
      "我需要这份申请书的模板，最好能用中文写，结构清晰，容易填写。然后，我还要写一份致 steam 官方的感谢信，表达我的感谢和请求。\n",
      "\n",
      "最后，如果可能的话，提供一个英文版的游戏退款申请模板，方便我用英文发送给国外的客服。如果有，就写在最后面。如果有其他建议，也可以提出来。\n",
      "\n",
      "好的，现在我需要\n"
     ]
    }
   ],
   "source": [
    "print(tokenizer.decode(generation_output[0],\n",
    "                       skip_special_tokens=True))"
   ]
  },
  {
   "cell_type": "code",
   "execution_count": 12,
   "id": "a2480ff6-225f-4ed8-85ef-7856cd7dc8d7",
   "metadata": {},
   "outputs": [
    {
     "data": {
      "text/plain": [
       "tensor([[151646, 108965,  61443, 104191, 101915,  90286,   3837, 101915,  46590,\n",
       "          99329, 113794,   1773]], device='cuda:0')"
      ]
     },
     "execution_count": 12,
     "metadata": {},
     "output_type": "execute_result"
    }
   ],
   "source": [
    "inputs.input_ids"
   ]
  },
  {
   "cell_type": "code",
   "execution_count": 13,
   "id": "0ed5c6ab-f554-4e37-a1e4-93d58f95afa0",
   "metadata": {},
   "outputs": [
    {
     "name": "stdout",
     "output_type": "stream",
     "text": [
      "<｜begin▁of▁sentence｜>\n",
      "帮我\n",
      "写\n",
      "一份\n",
      "申请\n",
      "书\n",
      "，\n",
      "申请\n",
      "steam\n",
      "游戏\n",
      "退款\n",
      "。\n"
     ]
    }
   ],
   "source": [
    "for id_ in inputs.input_ids[0]:\n",
    "    print(tokenizer.decode(id_))"
   ]
  },
  {
   "cell_type": "code",
   "execution_count": 14,
   "id": "ff683e13-acc2-4acd-bace-19df8892ea31",
   "metadata": {},
   "outputs": [
    {
     "name": "stdout",
     "output_type": "stream",
     "text": [
      "<｜begin▁of▁sentence｜>\n",
      "Trip\n",
      " data\n",
      " is\n",
      " published\n",
      " monthly\n",
      " on\n",
      " this\n",
      " website\n",
      ",\n",
      " typically\n",
      " with\n",
      " a\n",
      " two\n",
      "-month\n",
      " delay\n",
      " to\n",
      " allow\n",
      " time\n",
      " for\n",
      " full\n",
      " vendor\n",
      " submissions\n",
      ".\n"
     ]
    }
   ],
   "source": [
    "prompt2 = 'Trip data is published monthly on this website, typically with a two-month delay to allow time for full vendor submissions.'\n",
    "input_ids = tokenizer(prompt2, return_tensors='pt').input_ids.to('cuda')\n",
    "for id_ in input_ids[0]:\n",
    "    print(tokenizer.decode(id_))"
   ]
  },
  {
   "cell_type": "markdown",
   "id": "6ea999af-1ecf-4a11-aa6f-3f7f789175b1",
   "metadata": {},
   "source": [
    "不同的模型分词的结果也会有所不同"
   ]
  },
  {
   "cell_type": "markdown",
   "id": "8d7a5236-64fc-4723-9d78-460f3418e342",
   "metadata": {},
   "source": [
    "# 2Embeding 部分"
   ]
  },
  {
   "cell_type": "markdown",
   "id": "80a61dc4-4fdf-4736-9b8f-3b332ccfba33",
   "metadata": {},
   "source": [
    "## 2.1上下文相关的Embd"
   ]
  },
  {
   "cell_type": "code",
   "execution_count": 15,
   "id": "f774b261-3d22-4388-9489-e5156c517f02",
   "metadata": {},
   "outputs": [],
   "source": [
    "from transformers import AutoTokenizer, AutoModel"
   ]
  },
  {
   "cell_type": "code",
   "execution_count": 16,
   "id": "e63caef6-f383-4612-a5e7-77b6613bafe7",
   "metadata": {
    "scrolled": true
   },
   "outputs": [],
   "source": [
    "tokenizer = AutoTokenizer.from_pretrained('bert-base-uncased')\n",
    "model = AutoModel.from_pretrained('bert-base-uncased')\n",
    "prompt = 'Hello World! I love U'\n",
    "tokens = tokenizer(prompt, return_tensors='pt')\n",
    "output = model(**tokens)[0]"
   ]
  },
  {
   "cell_type": "code",
   "execution_count": 17,
   "id": "c5fe330e-a04f-487c-9681-dafa8433e53a",
   "metadata": {},
   "outputs": [
    {
     "data": {
      "text/plain": [
       "torch.Size([1, 8, 768])"
      ]
     },
     "execution_count": 17,
     "metadata": {},
     "output_type": "execute_result"
    }
   ],
   "source": [
    "output.shape"
   ]
  },
  {
   "cell_type": "code",
   "execution_count": 18,
   "id": "a266235a-b539-4252-8574-db30d1733925",
   "metadata": {},
   "outputs": [
    {
     "data": {
      "text/plain": [
       "{'input_ids': tensor([[ 101, 7592, 2088,  999, 1045, 2293, 1057,  102]]), 'token_type_ids': tensor([[0, 0, 0, 0, 0, 0, 0, 0]]), 'attention_mask': tensor([[1, 1, 1, 1, 1, 1, 1, 1]])}"
      ]
     },
     "execution_count": 18,
     "metadata": {},
     "output_type": "execute_result"
    }
   ],
   "source": [
    "tokens"
   ]
  },
  {
   "cell_type": "code",
   "execution_count": 19,
   "id": "ae0f30fb-d559-4076-ae7a-404494fb9032",
   "metadata": {},
   "outputs": [
    {
     "name": "stdout",
     "output_type": "stream",
     "text": [
      "[CLS]\n",
      "hello\n",
      "world\n",
      "!\n",
      "i\n",
      "love\n",
      "u\n",
      "[SEP]\n"
     ]
    }
   ],
   "source": [
    "for token in tokens['input_ids'][0]:\n",
    "    print(tokenizer.decode(token))"
   ]
  },
  {
   "cell_type": "markdown",
   "id": "d695fd2f-03a7-4c48-8abf-ffa37e4a193c",
   "metadata": {},
   "source": [
    "## 2.2文本向量（句向量）"
   ]
  },
  {
   "cell_type": "code",
   "execution_count": 20,
   "id": "92bda6fa-abdb-4f8f-acb6-2ab2dbc90833",
   "metadata": {
    "scrolled": true
   },
   "outputs": [
    {
     "name": "stdout",
     "output_type": "stream",
     "text": [
      "Looking in indexes: https://pypi.tuna.tsinghua.edu.cn/simple\n",
      "Requirement already satisfied: sentence-transformers in c:\\users\\hhm18\\miniconda3\\envs\\env_llm\\lib\\site-packages (5.1.0)\n",
      "Requirement already satisfied: transformers<5.0.0,>=4.41.0 in c:\\users\\hhm18\\miniconda3\\envs\\env_llm\\lib\\site-packages (from sentence-transformers) (4.55.0)\n",
      "Requirement already satisfied: tqdm in c:\\users\\hhm18\\miniconda3\\envs\\env_llm\\lib\\site-packages (from sentence-transformers) (4.67.1)\n",
      "Requirement already satisfied: torch>=1.11.0 in c:\\users\\hhm18\\miniconda3\\envs\\env_llm\\lib\\site-packages (from sentence-transformers) (2.3.1+cu118)\n",
      "Requirement already satisfied: scikit-learn in c:\\users\\hhm18\\miniconda3\\envs\\env_llm\\lib\\site-packages (from sentence-transformers) (1.6.1)\n",
      "Requirement already satisfied: scipy in c:\\users\\hhm18\\miniconda3\\envs\\env_llm\\lib\\site-packages (from sentence-transformers) (1.13.1)\n",
      "Requirement already satisfied: huggingface-hub>=0.20.0 in c:\\users\\hhm18\\miniconda3\\envs\\env_llm\\lib\\site-packages (from sentence-transformers) (0.34.4)\n",
      "Requirement already satisfied: Pillow in c:\\users\\hhm18\\miniconda3\\envs\\env_llm\\lib\\site-packages (from sentence-transformers) (11.3.0)\n",
      "Requirement already satisfied: typing_extensions>=4.5.0 in c:\\users\\hhm18\\miniconda3\\envs\\env_llm\\lib\\site-packages (from sentence-transformers) (4.12.2)\n",
      "Requirement already satisfied: filelock in c:\\users\\hhm18\\miniconda3\\envs\\env_llm\\lib\\site-packages (from transformers<5.0.0,>=4.41.0->sentence-transformers) (3.18.0)\n",
      "Requirement already satisfied: numpy>=1.17 in c:\\users\\hhm18\\miniconda3\\envs\\env_llm\\lib\\site-packages (from transformers<5.0.0,>=4.41.0->sentence-transformers) (1.26.4)\n",
      "Requirement already satisfied: packaging>=20.0 in c:\\users\\hhm18\\miniconda3\\envs\\env_llm\\lib\\site-packages (from transformers<5.0.0,>=4.41.0->sentence-transformers) (25.0)\n",
      "Requirement already satisfied: pyyaml>=5.1 in c:\\users\\hhm18\\miniconda3\\envs\\env_llm\\lib\\site-packages (from transformers<5.0.0,>=4.41.0->sentence-transformers) (6.0.2)\n",
      "Requirement already satisfied: regex!=2019.12.17 in c:\\users\\hhm18\\miniconda3\\envs\\env_llm\\lib\\site-packages (from transformers<5.0.0,>=4.41.0->sentence-transformers) (2025.7.34)\n",
      "Requirement already satisfied: requests in c:\\users\\hhm18\\miniconda3\\envs\\env_llm\\lib\\site-packages (from transformers<5.0.0,>=4.41.0->sentence-transformers) (2.32.4)\n",
      "Requirement already satisfied: tokenizers<0.22,>=0.21 in c:\\users\\hhm18\\miniconda3\\envs\\env_llm\\lib\\site-packages (from transformers<5.0.0,>=4.41.0->sentence-transformers) (0.21.4)\n",
      "Requirement already satisfied: safetensors>=0.4.3 in c:\\users\\hhm18\\miniconda3\\envs\\env_llm\\lib\\site-packages (from transformers<5.0.0,>=4.41.0->sentence-transformers) (0.6.2)\n",
      "Requirement already satisfied: fsspec>=2023.5.0 in c:\\users\\hhm18\\miniconda3\\envs\\env_llm\\lib\\site-packages (from huggingface-hub>=0.20.0->sentence-transformers) (2025.3.0)\n",
      "Requirement already satisfied: sympy in c:\\users\\hhm18\\miniconda3\\envs\\env_llm\\lib\\site-packages (from torch>=1.11.0->sentence-transformers) (1.14.0)\n",
      "Requirement already satisfied: networkx in c:\\users\\hhm18\\miniconda3\\envs\\env_llm\\lib\\site-packages (from torch>=1.11.0->sentence-transformers) (3.2.1)\n",
      "Requirement already satisfied: jinja2 in c:\\users\\hhm18\\miniconda3\\envs\\env_llm\\lib\\site-packages (from torch>=1.11.0->sentence-transformers) (3.1.6)\n",
      "Requirement already satisfied: mkl<=2021.4.0,>=2021.1.1 in c:\\users\\hhm18\\miniconda3\\envs\\env_llm\\lib\\site-packages (from torch>=1.11.0->sentence-transformers) (2021.4.0)\n",
      "Requirement already satisfied: intel-openmp==2021.* in c:\\users\\hhm18\\miniconda3\\envs\\env_llm\\lib\\site-packages (from mkl<=2021.4.0,>=2021.1.1->torch>=1.11.0->sentence-transformers) (2021.4.0)\n",
      "Requirement already satisfied: tbb==2021.* in c:\\users\\hhm18\\miniconda3\\envs\\env_llm\\lib\\site-packages (from mkl<=2021.4.0,>=2021.1.1->torch>=1.11.0->sentence-transformers) (2021.13.1)\n",
      "Requirement already satisfied: colorama in c:\\users\\hhm18\\miniconda3\\envs\\env_llm\\lib\\site-packages (from tqdm->sentence-transformers) (0.4.6)\n",
      "Requirement already satisfied: MarkupSafe>=2.0 in c:\\users\\hhm18\\miniconda3\\envs\\env_llm\\lib\\site-packages (from jinja2->torch>=1.11.0->sentence-transformers) (3.0.2)\n",
      "Requirement already satisfied: charset_normalizer<4,>=2 in c:\\users\\hhm18\\miniconda3\\envs\\env_llm\\lib\\site-packages (from requests->transformers<5.0.0,>=4.41.0->sentence-transformers) (3.3.2)\n",
      "Requirement already satisfied: idna<4,>=2.5 in c:\\users\\hhm18\\miniconda3\\envs\\env_llm\\lib\\site-packages (from requests->transformers<5.0.0,>=4.41.0->sentence-transformers) (3.10)\n",
      "Requirement already satisfied: urllib3<3,>=1.21.1 in c:\\users\\hhm18\\miniconda3\\envs\\env_llm\\lib\\site-packages (from requests->transformers<5.0.0,>=4.41.0->sentence-transformers) (2.5.0)\n",
      "Requirement already satisfied: certifi>=2017.4.17 in c:\\users\\hhm18\\miniconda3\\envs\\env_llm\\lib\\site-packages (from requests->transformers<5.0.0,>=4.41.0->sentence-transformers) (2025.8.3)\n",
      "Requirement already satisfied: joblib>=1.2.0 in c:\\users\\hhm18\\miniconda3\\envs\\env_llm\\lib\\site-packages (from scikit-learn->sentence-transformers) (1.5.1)\n",
      "Requirement already satisfied: threadpoolctl>=3.1.0 in c:\\users\\hhm18\\miniconda3\\envs\\env_llm\\lib\\site-packages (from scikit-learn->sentence-transformers) (3.6.0)\n",
      "Requirement already satisfied: mpmath<1.4,>=1.1.0 in c:\\users\\hhm18\\miniconda3\\envs\\env_llm\\lib\\site-packages (from sympy->torch>=1.11.0->sentence-transformers) (1.3.0)\n"
     ]
    }
   ],
   "source": [
    "!pip install sentence-transformers"
   ]
  },
  {
   "cell_type": "code",
   "execution_count": 21,
   "id": "649700e6-ca68-4efa-97f8-dfd2dfc2fa71",
   "metadata": {
    "scrolled": true
   },
   "outputs": [],
   "source": [
    "from sentence_transformers import SentenceTransformer\n",
    "\n",
    "model = SentenceTransformer(\n",
    "    'sentence-transformers/all-distilroberta-v1'\n",
    ")"
   ]
  },
  {
   "cell_type": "code",
   "execution_count": 22,
   "id": "95156dff-64c2-4854-aa36-53e2258d7968",
   "metadata": {},
   "outputs": [],
   "source": [
    "vector_hello = model.encode('Hello world!')"
   ]
  },
  {
   "cell_type": "code",
   "execution_count": 23,
   "id": "addde646-a392-4177-8d37-0c6f228d88fd",
   "metadata": {},
   "outputs": [
    {
     "data": {
      "text/plain": [
       "(768,)"
      ]
     },
     "execution_count": 23,
     "metadata": {},
     "output_type": "execute_result"
    }
   ],
   "source": [
    "vector_hello.shape"
   ]
  },
  {
   "cell_type": "code",
   "execution_count": 24,
   "id": "dd5d8b89-ee12-4d58-ba29-b383515bcc62",
   "metadata": {
    "scrolled": true
   },
   "outputs": [
    {
     "data": {
      "text/plain": [
       "array([ 1.69184674e-02, -3.36312056e-02, -3.10999062e-02, -4.66779470e-02,\n",
       "        4.25718687e-02, -4.39484529e-02,  6.37702225e-03, -1.34819616e-02,\n",
       "        3.60154291e-03,  7.28878751e-03,  6.12260425e-04,  3.17114182e-02,\n",
       "        2.55764928e-02, -3.38461362e-02, -3.70591581e-02, -1.08320937e-02,\n",
       "       -2.09056325e-02, -5.27956523e-02, -5.32541536e-02, -3.20068337e-02,\n",
       "        1.11168891e-03,  7.08929636e-03, -2.89082900e-02, -4.09262400e-04,\n",
       "        5.24733216e-02,  7.05229864e-02, -5.47245890e-03, -5.43525927e-02,\n",
       "        4.72666658e-02,  3.61847207e-02,  2.13295799e-02, -5.09397574e-02,\n",
       "       -4.36914563e-02, -2.49673482e-02, -6.53974265e-02, -1.34584950e-02,\n",
       "        1.49979591e-02, -3.51658650e-02,  5.61910197e-02,  2.04538535e-02,\n",
       "        1.92342885e-02, -2.02605650e-02,  3.84667069e-02,  1.69377942e-02,\n",
       "       -2.73476709e-02, -2.15194263e-02, -2.46427488e-02, -8.07106495e-02,\n",
       "       -5.95961465e-03,  6.77485168e-02, -1.43193472e-02, -6.93320669e-03,\n",
       "       -3.91897187e-02,  6.73095137e-03,  3.54402252e-02,  4.20714915e-02,\n",
       "       -4.34836894e-02,  6.72819391e-02,  2.63123773e-02, -3.25326212e-02,\n",
       "        3.34466025e-02,  7.88036920e-03, -1.58542525e-02,  4.81586419e-02,\n",
       "        2.01354455e-03, -2.58107297e-02, -2.78511830e-02, -5.16019054e-02,\n",
       "        2.74617528e-03, -2.93019079e-02, -1.32895363e-02, -1.49021503e-02,\n",
       "        3.59612517e-02, -4.40569893e-02, -2.58134454e-02, -2.57802233e-02,\n",
       "       -3.00321914e-02,  7.33752130e-03,  1.41349351e-02,  7.91624282e-03,\n",
       "       -3.92875783e-02,  9.00186226e-03,  1.62265319e-02,  9.12380069e-02,\n",
       "        1.06305536e-02,  7.10313916e-02, -6.80127461e-03,  4.27705329e-03,\n",
       "        2.93080788e-02, -4.15369682e-03,  3.47344615e-02, -9.40429512e-03,\n",
       "        2.71304548e-02, -4.86059487e-02,  3.93337272e-02,  1.51150499e-03,\n",
       "       -1.56023828e-02,  4.77131195e-02, -1.92776378e-02, -1.12805543e-02,\n",
       "       -3.16126868e-02, -1.36278318e-02, -8.81695673e-02, -2.09981780e-02,\n",
       "       -1.71534847e-02, -1.11490702e-02, -3.07329209e-03, -4.06869687e-02,\n",
       "        1.66652855e-02, -1.65663864e-02,  7.67309293e-02,  8.58206823e-02,\n",
       "       -5.53206317e-02,  5.02140773e-03, -2.00720951e-02,  1.75819732e-02,\n",
       "       -1.89215839e-02, -2.02043671e-02,  6.70793932e-03,  6.55222535e-02,\n",
       "       -1.99394803e-02, -3.42503600e-02, -7.23579824e-02, -5.57945333e-02,\n",
       "       -3.26519422e-02, -2.63260351e-03, -3.25646363e-02, -8.97298008e-03,\n",
       "       -6.75911382e-02, -1.23697678e-02, -1.05884047e-02, -2.07178984e-02,\n",
       "       -3.00464667e-02,  1.19952131e-02,  7.31015801e-02, -3.37977223e-02,\n",
       "        1.62133723e-02,  4.89886813e-02, -1.91532075e-02, -2.92274300e-02,\n",
       "       -5.38352579e-02, -2.33800653e-02, -4.13702317e-02,  4.60665300e-02,\n",
       "        8.85015447e-03,  1.59530509e-02, -1.61525328e-02,  1.81275308e-02,\n",
       "        4.28302437e-02, -1.89417712e-02, -4.24867719e-02, -1.00482162e-02,\n",
       "        3.16083767e-02, -2.39515696e-02, -4.45600338e-02,  3.53302760e-03,\n",
       "        1.43097797e-02, -1.10254735e-02,  4.75393757e-02,  2.28295717e-02,\n",
       "        5.87250590e-02,  5.29089710e-03,  3.97856236e-02,  7.06452830e-03,\n",
       "       -2.69868225e-02, -4.76468243e-02, -7.37220189e-03,  6.83374004e-03,\n",
       "       -6.74299663e-03,  9.18036420e-03, -1.47454010e-03,  4.23879027e-02,\n",
       "        1.00076422e-02, -1.66626237e-02,  7.05954283e-02,  1.63945556e-02,\n",
       "       -5.25273755e-02,  4.26751859e-02,  2.07602847e-02,  4.55774926e-02,\n",
       "       -4.83721830e-02,  1.41300336e-02, -1.54578276e-02, -3.30220945e-02,\n",
       "        2.60665119e-02, -2.43133996e-02,  9.82095255e-04,  6.56786636e-02,\n",
       "       -2.71749478e-02,  2.60439795e-03, -2.18519904e-02,  1.39221083e-02,\n",
       "       -2.43016053e-03,  6.30419776e-02,  2.45985505e-03, -5.19814622e-03,\n",
       "        9.23758186e-03, -1.29282745e-02,  2.60346979e-02,  1.96377784e-02,\n",
       "        4.19066697e-02,  1.80036668e-02,  8.81182849e-02, -7.92476758e-02,\n",
       "        3.46002541e-02, -2.58909781e-02, -2.37142369e-02, -4.47719060e-02,\n",
       "        1.88966040e-02,  4.02898388e-03, -4.29082289e-02, -3.81400576e-04,\n",
       "       -1.47852143e-02, -2.44301111e-02,  3.29658538e-02, -4.82528806e-02,\n",
       "        1.31655335e-02,  1.83987636e-02, -7.79828280e-02,  6.52481103e-03,\n",
       "       -9.17500351e-03, -2.49542203e-02,  7.73673356e-02,  3.38528343e-02,\n",
       "       -4.36747354e-03,  6.75808713e-02, -1.04676187e-02, -1.60767287e-02,\n",
       "        1.49685331e-02,  1.33575285e-02,  2.24919841e-02,  1.65684577e-02,\n",
       "        3.51387784e-02,  4.48140316e-03, -9.66316741e-03, -4.63349223e-02,\n",
       "       -5.62804891e-03,  6.16187565e-02, -2.64766952e-03, -5.80122583e-02,\n",
       "        1.27015514e-02,  5.84829524e-02,  5.04724346e-02,  2.85331486e-03,\n",
       "       -1.34408670e-02, -5.66479973e-02, -7.18053244e-03, -4.37562391e-02,\n",
       "       -1.46484803e-02, -5.87516204e-02, -4.55725379e-03, -4.11294103e-02,\n",
       "       -9.60946642e-03, -7.27935415e-03,  3.75788100e-03, -8.91634729e-03,\n",
       "       -2.08508652e-02,  6.81114383e-03, -2.67093498e-02,  3.23567470e-03,\n",
       "        2.20856238e-02,  7.46053178e-03,  2.20437385e-02,  4.73525934e-02,\n",
       "       -5.12493290e-02,  2.56778039e-02,  3.92735451e-02, -3.25522907e-02,\n",
       "        2.69634295e-02,  4.00043931e-03, -7.34481886e-02,  2.07189228e-02,\n",
       "        9.99092534e-02, -3.78360646e-03, -2.74696480e-02,  1.25991898e-02,\n",
       "        2.39909831e-02,  3.95771675e-03, -3.12387198e-02,  1.41387917e-02,\n",
       "       -2.20043901e-02,  2.43494064e-02,  1.07345879e-01, -5.32556847e-02,\n",
       "        2.47819629e-02, -4.49771844e-02, -4.94688936e-02, -2.35178638e-02,\n",
       "        6.91437814e-03,  2.33037528e-02,  4.45073657e-02,  6.51326180e-02,\n",
       "        2.88978815e-02,  2.34283973e-02,  9.87994019e-03, -7.53347874e-02,\n",
       "        3.86380521e-03,  6.61411136e-02,  1.35647729e-02, -7.18156323e-02,\n",
       "       -1.44523652e-02,  2.06751414e-02, -2.32034270e-03, -1.44140702e-02,\n",
       "        1.08975340e-02, -5.19377775e-02, -7.91924819e-02,  5.55863120e-02,\n",
       "        2.40979735e-02,  5.01825698e-02, -1.13662158e-04,  6.65235333e-03,\n",
       "        3.02658905e-03,  1.29785044e-02, -1.10117914e-02, -1.73886809e-02,\n",
       "        2.75017563e-02,  3.07332017e-02,  1.68143846e-02, -3.01267635e-02,\n",
       "       -9.50053986e-03, -1.13514310e-04, -2.22777091e-02, -1.34581272e-02,\n",
       "       -9.97156021e-04,  3.87528837e-02,  5.65727614e-03,  3.67443934e-02,\n",
       "       -1.99422315e-02, -1.22823864e-02, -7.06639439e-02, -1.17686577e-01,\n",
       "       -1.89789068e-02,  5.66883199e-03, -2.32650619e-02, -1.83416959e-02,\n",
       "        3.65309119e-02,  2.20212969e-03,  2.03152653e-02, -3.35986307e-03,\n",
       "       -3.05691548e-02, -6.67466372e-02, -9.38681699e-03,  3.01830471e-03,\n",
       "       -2.26759701e-03, -4.64919694e-02, -8.69343465e-04, -1.44881718e-02,\n",
       "        7.32777128e-03,  1.48108210e-02,  1.88716650e-02,  1.79075263e-02,\n",
       "       -4.60897246e-03, -4.10565883e-02, -3.38305831e-02,  3.15736718e-02,\n",
       "       -6.72530755e-03,  9.23175961e-02, -3.88379209e-03, -3.56843919e-02,\n",
       "        5.38682379e-03,  1.80956498e-02, -7.90083222e-03,  3.27913277e-02,\n",
       "        1.65519733e-02, -2.86951605e-02, -4.45586629e-03, -3.55526097e-02,\n",
       "       -2.28589717e-02,  1.18921325e-02,  6.76032528e-03, -1.28686279e-02,\n",
       "       -1.28394319e-02, -4.75006970e-03, -3.36604938e-02,  2.07452476e-02,\n",
       "        5.77674061e-03,  2.91953771e-03,  4.82882373e-02,  1.85693931e-02,\n",
       "       -1.27877686e-02, -1.35953911e-02, -2.44020838e-02,  2.77207028e-02,\n",
       "        7.33724609e-02, -9.07110050e-02, -1.05065126e-04, -6.48339316e-02,\n",
       "        9.20844227e-02, -4.89886142e-02,  5.00379987e-02,  7.46757016e-02,\n",
       "       -1.38131538e-02, -4.30602543e-02, -6.18231157e-03, -4.86855507e-02,\n",
       "       -4.74756844e-02, -4.12903680e-03, -1.64904818e-02, -1.67476777e-02,\n",
       "       -1.90359056e-02,  1.92138739e-02,  3.63144167e-02,  4.53633368e-02,\n",
       "        2.05809474e-02,  3.02121881e-02, -3.38957608e-02, -1.26732299e-02,\n",
       "       -7.79589117e-02, -6.28122538e-02,  6.33020047e-03,  3.28495838e-02,\n",
       "        2.94491574e-02, -8.49679559e-02,  6.83896290e-03, -1.02751311e-02,\n",
       "       -1.53576778e-02, -6.87060654e-02, -1.34274224e-02,  1.53973689e-02,\n",
       "        1.19743887e-02,  1.51366545e-02, -1.50438100e-02, -3.60070243e-02,\n",
       "        2.14220546e-02,  2.27932427e-02,  5.78860417e-02, -3.33468877e-02,\n",
       "        3.01674809e-02, -6.31459616e-03,  2.36838069e-02,  4.31986079e-02,\n",
       "       -2.95772925e-02, -2.99591608e-02,  5.54658137e-02, -3.46793495e-02,\n",
       "        5.13808802e-02, -2.31971289e-03,  3.05042099e-02,  7.33486935e-02,\n",
       "        4.27720137e-02,  4.27221274e-03,  2.87249256e-02, -3.13741267e-02,\n",
       "       -1.64752454e-02,  3.19857672e-02, -4.53349389e-03,  6.30300958e-03,\n",
       "        2.87239980e-02,  1.23277277e-01,  2.91999299e-02,  1.36361513e-02,\n",
       "        1.78355929e-02, -5.05377352e-02, -2.88473833e-02,  6.40081912e-02,\n",
       "       -3.70154865e-02, -2.49274038e-02, -4.85000666e-03, -5.94395883e-02,\n",
       "       -4.25889827e-02, -1.27832852e-02,  4.87152440e-03, -2.47375965e-02,\n",
       "        3.73388976e-02,  3.24577838e-02,  6.16382668e-03, -2.68128142e-03,\n",
       "       -4.83309813e-02,  1.21162105e-02, -3.77743170e-02, -2.39334724e-04,\n",
       "        3.01926266e-02, -2.88843811e-02, -6.05013780e-03, -2.27174424e-02,\n",
       "        1.23996278e-02,  5.75018674e-03,  9.93947778e-03, -5.77312075e-02,\n",
       "       -3.80323417e-02,  5.45654222e-02, -1.04111126e-02,  1.41461827e-02,\n",
       "        3.40934359e-02, -1.06125567e-02, -2.89307963e-02, -5.71594760e-03,\n",
       "        1.59626603e-02, -3.27476189e-02,  1.98424142e-02, -6.90856308e-04,\n",
       "       -4.28438000e-02,  3.51473369e-04,  1.82547146e-33,  1.36219477e-02,\n",
       "        4.08489443e-02, -3.36779207e-02,  4.24172133e-02, -1.20725743e-02,\n",
       "        3.13598663e-02,  6.48650574e-03,  1.06259592e-01,  4.32160124e-02,\n",
       "        3.15432213e-02,  2.52913088e-02, -1.42782961e-03,  9.53543372e-03,\n",
       "       -1.84425190e-02, -2.76211482e-02, -3.52549627e-02,  7.17737600e-02,\n",
       "        5.59804887e-02,  1.72522981e-02, -2.35994756e-02,  4.50232178e-02,\n",
       "       -8.06505159e-02, -3.76602374e-02,  2.77589411e-02,  4.63985689e-02,\n",
       "       -5.63617572e-02,  1.07748015e-02,  1.25154778e-02,  2.01086365e-02,\n",
       "       -3.66820581e-02,  1.25604146e-03,  5.87335080e-02,  5.91433458e-02,\n",
       "       -4.92959023e-02,  3.63320410e-02,  2.40747863e-03,  1.19533306e-02,\n",
       "       -2.96295490e-02, -1.27000790e-02, -5.42514473e-02,  2.08114032e-02,\n",
       "       -5.12555577e-02, -1.32118342e-02,  4.35634516e-02,  4.37060185e-02,\n",
       "        8.02119821e-03,  1.16792498e-02,  7.99132064e-02, -2.19882224e-02,\n",
       "        2.79813055e-02,  5.49525488e-03,  1.33891031e-03,  3.74261886e-02,\n",
       "       -1.92513447e-02, -2.62211841e-02,  9.20057576e-03, -1.53439259e-02,\n",
       "        1.39061138e-02,  6.02003038e-02, -1.37685621e-02,  1.80643587e-03,\n",
       "       -2.63318662e-02,  3.84762161e-03,  7.72654498e-03,  5.75698055e-02,\n",
       "       -6.68484671e-03, -2.61513307e-03,  3.68360840e-02,  6.54980615e-02,\n",
       "       -3.11556030e-02, -2.29743421e-02, -1.83145180e-02,  3.03057767e-03,\n",
       "       -1.59962047e-02, -2.33318144e-03,  7.59854820e-03, -4.45077755e-02,\n",
       "       -1.13903787e-02, -8.44212249e-02,  5.64600434e-03, -7.88381964e-04,\n",
       "        3.64523083e-02, -1.74573623e-02, -1.57254804e-02,  4.64740992e-02,\n",
       "       -2.53396202e-03,  6.65232260e-03,  6.33112788e-02, -2.00250521e-02,\n",
       "       -2.66576242e-02, -8.20481870e-03,  5.15648350e-02, -4.29379009e-02,\n",
       "       -7.90750550e-04, -1.40032098e-02,  3.09829451e-02,  2.87940502e-02,\n",
       "       -1.89049225e-02, -2.01443564e-02, -5.22520803e-02,  6.27715588e-02,\n",
       "       -3.16891223e-02, -1.38126276e-02,  4.38915230e-02, -2.00808011e-02,\n",
       "       -1.88112911e-02, -4.10676040e-02,  1.03491182e-02,  4.09156922e-03,\n",
       "        6.34132698e-03,  3.74539616e-03,  1.41355372e-03, -2.94312231e-05,\n",
       "        3.24896909e-02, -1.78394131e-02, -1.53255695e-02,  3.44698466e-02,\n",
       "       -5.79438061e-02, -1.08379563e-02,  1.48429889e-02, -3.47205959e-02,\n",
       "       -3.57587822e-02, -2.88722459e-02, -1.28381816e-03,  2.34324168e-02,\n",
       "        6.32519089e-03,  4.39528525e-02,  3.79988551e-02,  3.66288014e-02,\n",
       "       -5.94533607e-03, -1.24475537e-02, -2.05536298e-02,  3.31981778e-02,\n",
       "        4.99521680e-02,  1.32729858e-02,  3.17310318e-02, -8.76561389e-04,\n",
       "        1.98404957e-02,  9.18941200e-03, -2.28470676e-02,  1.88968908e-02,\n",
       "        2.82088481e-02, -1.15559697e-02,  9.94419493e-03,  1.26001900e-02,\n",
       "        3.33787426e-02,  9.25784186e-03, -2.85218712e-02, -1.53244697e-02,\n",
       "       -5.79606928e-02,  3.03109102e-02,  4.23930250e-02,  2.37503555e-05,\n",
       "        5.56633249e-02,  3.79399844e-02,  9.80158988e-03,  5.39546609e-02,\n",
       "       -2.39219069e-02, -2.80407351e-02,  3.14397551e-02,  5.57000563e-02,\n",
       "       -5.93660027e-02,  2.39378843e-03, -5.93152009e-02,  1.17195183e-02,\n",
       "       -5.72798215e-03,  4.15381510e-03, -1.14908963e-02,  2.29212847e-02,\n",
       "       -5.33920750e-02, -3.84634510e-02,  5.66369668e-03, -1.56147862e-02,\n",
       "       -2.32477989e-02,  6.25054613e-02,  3.34890932e-02,  2.45101452e-02,\n",
       "       -9.60100889e-02, -1.70864332e-02, -5.04874587e-02,  1.23996167e-02,\n",
       "       -2.61393059e-02,  6.94535226e-02, -4.36338745e-02,  2.30217278e-02,\n",
       "       -2.03146506e-02,  1.46950409e-03,  7.35538751e-02, -1.93993617e-02,\n",
       "        6.35959208e-02, -3.89496870e-02,  2.72253770e-02,  1.45235925e-03,\n",
       "       -6.84340894e-02, -2.55603157e-02, -5.49464934e-02, -3.37506528e-03,\n",
       "       -2.78483052e-02, -2.88456250e-02,  4.25682822e-03,  1.59486663e-02,\n",
       "        4.16947193e-02,  7.08276581e-04,  3.15862708e-03,  2.65066866e-02,\n",
       "       -2.96181478e-02,  5.22274710e-02, -7.30590746e-02,  1.02927452e-02,\n",
       "        6.19305782e-02,  4.60374318e-02, -2.97779590e-02, -6.27377927e-02,\n",
       "        6.19454496e-02,  7.52761215e-03, -1.53519129e-02,  2.22569481e-02,\n",
       "       -3.19109783e-02,  2.08494626e-03,  3.29807475e-02, -4.27050404e-02,\n",
       "       -6.43600477e-03, -3.43783498e-02, -1.89429391e-02, -5.14072664e-02,\n",
       "       -4.11675908e-02, -5.62754273e-03,  5.27106263e-02,  4.19317819e-02,\n",
       "       -1.51355676e-02, -5.86013049e-02,  1.09473569e-02,  3.34272580e-03,\n",
       "        1.47183868e-03,  1.38071720e-02,  8.55940580e-02,  3.86360809e-02,\n",
       "       -4.15309481e-02,  5.63503541e-02, -2.76040304e-02,  5.16185798e-02,\n",
       "       -5.48321269e-02, -7.23605454e-02, -3.86955142e-02,  2.46243384e-02,\n",
       "       -1.80495642e-02, -1.07383700e-02,  8.19021016e-02, -2.28714291e-03,\n",
       "       -5.74119836e-02, -4.99916151e-02,  1.33443289e-02,  3.10551859e-02,\n",
       "       -6.86927810e-02, -1.73329152e-02,  1.05943240e-01, -3.95203987e-03,\n",
       "        7.11122304e-02,  3.53960246e-02,  5.94670512e-02, -1.91844497e-02,\n",
       "        2.92335153e-02, -7.59117072e-04,  3.97887751e-02,  5.57170669e-03,\n",
       "       -1.12020792e-02,  1.19912913e-02,  2.97949966e-02,  3.67382951e-02,\n",
       "        5.25756553e-02, -2.62095667e-02, -3.58363688e-02,  5.32966852e-02],\n",
       "      dtype=float32)"
      ]
     },
     "execution_count": 24,
     "metadata": {},
     "output_type": "execute_result"
    }
   ],
   "source": [
    "vector_hello"
   ]
  },
  {
   "cell_type": "markdown",
   "id": "9f697379-ff08-43c6-b95a-50b83bc4826d",
   "metadata": {},
   "source": [
    "# C3.深入TransformerLLM\n",
    "* tansformer LLM不同输入和输出的区别\n",
    "* 不同的output可以有什么用\n",
    "* 了解RMSNorm, 和layerNorm的区别\n",
    "* 了解KVcache的原理，以及在推理的时候怎么使用"
   ]
  }
 ],
 "metadata": {
  "kernelspec": {
   "display_name": "Python 3 (ipykernel)",
   "language": "python",
   "name": "python3"
  },
  "language_info": {
   "codemirror_mode": {
    "name": "ipython",
    "version": 3
   },
   "file_extension": ".py",
   "mimetype": "text/x-python",
   "name": "python",
   "nbconvert_exporter": "python",
   "pygments_lexer": "ipython3",
   "version": "3.9.23"
  }
 },
 "nbformat": 4,
 "nbformat_minor": 5
}
