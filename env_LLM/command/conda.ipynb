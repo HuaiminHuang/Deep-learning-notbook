{
 "cells": [
  {
   "cell_type": "markdown",
   "id": "d4b127b3",
   "metadata": {},
   "source": [
    "# 常用的 conda command  "
   ]
  },
  {
   "cell_type": "markdown",
   "id": "98b58706",
   "metadata": {},
   "source": [
    "[conda官方](https://anaconda.org/anaconda/conda)  \n",
    "\n",
    "[github for conda](https://github.com/conda/conda)\n",
    "\n"
   ]
  },
  {
   "cell_type": "markdown",
   "id": "7f00377c",
   "metadata": {},
   "source": [
    "## 安装anaconda / miniconda 后常用的bash命令\n",
    "\n",
    "### 环境管理\n",
    "创建环境  \n",
    "`conda create -n < 环境名 > python=< 版本号 >`\n",
    " \n",
    "查看现有环境列表  \n",
    "`conda list` \\\n",
    "`conda info --list`\n",
    "\n",
    "\n",
    "进入和退出环境  \n",
    "`conda activate < 环境名 >`\\\n",
    "`conda deactivate`\n",
    "\n",
    "\n",
    "删除和克隆环境  \n",
    "`conda remove -n < 环境名 > --all`\\\n",
    "`conda create -n < 新的环境名 > --clone < 旧环境名 >`\n",
    "\n",
    "\n",
    "导出当前配置/跟据文件创建配置环境\n",
    "\n",
    "`conda env export > environment.yml`\\\n",
    "`conda env create -f environment.yml`"
   ]
  },
  {
   "cell_type": "markdown",
   "id": "2d988588",
   "metadata": {},
   "source": [
    "### 管理包的指令\n",
    "查看已安装\n",
    "`conda list`\\\n",
    "\n",
    "安装、更新、移除\n",
    "`conda install <包名>`\n",
    "`conda install <包名>=<版本号>`\\\n",
    "\n",
    "`conda update <包名>`\n",
    "`conda update <包名> --all`\\\n",
    "\n",
    "`conda remove <包名>`\\\n",
    "`conda search <包名>` #搜索某个包的可用版本"
   ]
  },
  {
   "cell_type": "markdown",
   "id": "4c42d32c",
   "metadata": {},
   "source": [
    "### 镜像源配置（国内）\n",
    "\n",
    "`conda config --show channels`\n",
    "\n",
    "`conda config --add channels <镜像地址>`\n",
    "\n",
    "`conda config --remove channels <镜像地址>`\n",
    "\n",
    "`conda config --set show_channel_urls yes`\n",
    "\n",
    "常用镜像：\n",
    "[清华:](https://mirrors.tuna.tsinghua.edu.cn/anaconda/pkgs/main)\n",
    "[中科大](https://mirrors.ustc.edu.cn/anaconda/pkgs/main)\n",
    "[阿里云](https://mirrors.ustc.edu.cn/anaconda/pkgs/main)"
   ]
  },
  {
   "cell_type": "markdown",
   "id": "044385bd",
   "metadata": {
    "vscode": {
     "languageId": "plaintext"
    }
   },
   "source": [
    "### 其他\n",
    "\n",
    "版本号：`conda --version`\\\n",
    "配置信息：`conda info`\\\n",
    "清除无用缓存包：`conda clean --all`\\\n",
    "查看GPU使用情况: `nvidia-smi`\\ \n",
    "检查pytorch是否能使用GPU：`python -c \"import torch; print(torch.cuda.is_available())\"`\n",
    "\n",
    "```python\n",
    "\n",
    "import torch\n",
    "a = torch.arange(3).cuda(0)\n",
    "print(\"a: \", a, \"\\n3a: \", a + a*2)\n",
    "\n",
    "output:\n",
    "a:  tensor([0, 1, 2], device='cuda:0') \n",
    "3*a:  tensor([0, 3, 6], device='cuda:0')\n",
    "```"
   ]
  },
  {
   "cell_type": "code",
   "execution_count": null,
   "id": "12a687f2",
   "metadata": {},
   "outputs": [
    {
     "name": "stdout",
     "output_type": "stream",
     "text": [
      "a:  tensor([0, 1, 2], device='cuda:0') \n",
      "3a:  tensor([0, 3, 6], device='cuda:0')\n"
     ]
    }
   ],
   "source": [
    "\n"
   ]
  },
  {
   "cell_type": "code",
   "execution_count": null,
   "id": "82231d03",
   "metadata": {},
   "outputs": [],
   "source": []
  }
 ],
 "metadata": {
  "kernelspec": {
   "display_name": "Python 3 (ipykernel)",
   "language": "python",
   "name": "python3"
  },
  "language_info": {
   "codemirror_mode": {
    "name": "ipython",
    "version": 3
   },
   "file_extension": ".py",
   "mimetype": "text/x-python",
   "name": "python",
   "nbconvert_exporter": "python",
   "pygments_lexer": "ipython3",
   "version": "3.9.23"
  }
 },
 "nbformat": 4,
 "nbformat_minor": 5
}
