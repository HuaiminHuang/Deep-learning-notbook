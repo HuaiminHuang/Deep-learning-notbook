{
 "cells": [
  {
   "cell_type": "markdown",
   "id": "f39af821",
   "metadata": {},
   "source": [
    "# Git 常用指令"
   ]
  },
  {
   "cell_type": "markdown",
   "id": "a2cc717d",
   "metadata": {},
   "source": [
    "官方文档：(https://git-scm.com/doc)"
   ]
  },
  {
   "cell_type": "markdown",
   "id": "dc09c473",
   "metadata": {},
   "source": [
    "## 开始使用\n",
    "版本号`git --version`\n",
    "\n",
    "初始化`git init`\n",
    "\n",
    "配置用户信息\n",
    "`git config --global user.name \"Your name\"`\\\n",
    "`git config --global user.name \"your email\"`\n",
    "\n",
    "生成SSH密钥\n",
    "`ssh-keygen -t ed25519 -C \"your.email@example.com\"`\n",
    "一路按回车即可\n",
    "\n",
    "查看公钥并复制\n",
    "`cat ~/.ssh/id_ed25519.pub`\n",
    "登录GitHub，进入settings-->SSH and GPG key --> new SSH key 粘贴进去即可\n",
    "\n",
    "克隆远程仓库\n",
    "Code --> copy SSH\n",
    "`git clone git@github.com:your username/your repository name.git`\n",
    "`cd your repository name ` 进入个人项目 "
   ]
  },
  {
   "cell_type": "markdown",
   "id": "5c91a759",
   "metadata": {},
   "source": [
    "## 日常使用\n",
    "1. 拉取最新更新（pull）\n",
    "`git pull origin main`\n",
    "\n",
    "\n",
    "2. 检查文件状态（status）\n",
    "`git status`\n",
    "\n",
    "3. 添加文件到暂存区（add）\n",
    "`git add .` ---当前文件夹全部 \\\n",
    "`git add path/to/your/document.md`\n",
    "\n",
    "4. 提交变更到本地仓库\n",
    "`git commit -m \"docs: 更新用户API接口文档说明\"`\n",
    "提交格式的建议：<类型>: <简短描述>\\\n",
    "- 常见类型\n",
    "    - `feat`:新功能\n",
    "    - `fix`: 修复\n",
    "    - `docs`: 文档更新\n",
    "    - `style`: 格式调整\n",
    "    - `refactor`: 重构\n",
    "\n",
    "5. 推送到远程仓库\n",
    "`git push origin main`\n",
    "* 注意：请确保 'main' 是您的目标分支名称\n",
    "* 这条命令等价于：`git push --set-upstream origin main`"
   ]
  },
  {
   "cell_type": "markdown",
   "id": "7acf2e16",
   "metadata": {},
   "source": [
    "## 文件的增删除修改\n",
    "\n",
    "1. 移除跟踪\\\n",
    "`git rm --cached < 文件路径 >`\n",
    "* 文件从git的索引（暂存区）中移除，停止跟踪保留本地文件。\n",
    "\n",
    "2. 提交变更和推送给远程\\\n",
    "`git commit -m \"说明信息\"`\\\n",
    "`git push origin <分支名>`\\\n",
    "\n",
    "3. 可选操作\\\n",
    "`echo \"<文件路径>\" >> .gitignore`\\\n",
    "`git add .gitignore`\n",
    "`git commit -m \"ignore Xxxx\"`\n",
    "`git psuh `\n"
   ]
  },
  {
   "cell_type": "markdown",
   "id": "e32fc8c3",
   "metadata": {},
   "source": [
    "* 一次性安装  \n",
    "`pip install git-filter-repo `       # Win/Mac 通用\n",
    "\n",
    "* 抹掉指定文件  \n",
    "`git filter-repo --path <文件/文件夹> --invert-paths --force`\n",
    "\n",
    "* `git filter-repo` 默认会把远程地址（origin）一并删掉\n",
    "* 重新绑定远程并强推  \n",
    "`git remote add origin git@github.com:<user>/<repo>.git`\\\n",
    "`git push origin main --force`"
   ]
  },
  {
   "cell_type": "markdown",
   "id": "7eaebd0d",
   "metadata": {
    "vscode": {
     "languageId": "ini"
    }
   },
   "source": [
    "## 添加文件\n",
    "\n",
    "- 进入你的项目根目录  \n",
    "`cd path/to/your/repository`\n",
    "\n",
    "- 切换到你的工作分支（这里以 main 为例，也可能是 master 或其他分支）  \n",
    "`git checkout main`\n",
    "\n",
    "- 拉取远程仓库的最新更改，确保你的本地仓库是最新的  \n",
    "`git pull origin main`\n",
    "\n",
    "- 添加单个特定文件（推荐，更精确）  \n",
    "`git add docs/guides/my-new-file.md`\n",
    "\n",
    "- 或者添加 docs/guides 文件夹下的所有新文件  \n",
    "`git add docs/guides/`\n",
    "\n",
    "- 或者添加所有变化（包括新文件和修改的文件，需谨慎）  \n",
    "`git add .`\n",
    "- commit and push\n",
    "`git commit -m \"docs: 在 guides 文件夹中添加新文档 my-new-file.md\"`"
   ]
  },
  {
   "cell_type": "markdown",
   "id": "6623e34d",
   "metadata": {},
   "source": []
  }
 ],
 "metadata": {
  "kernelspec": {
   "display_name": "Python 3 (ipykernel)",
   "language": "python",
   "name": "python3"
  },
  "language_info": {
   "codemirror_mode": {
    "name": "ipython",
    "version": 3
   },
   "file_extension": ".py",
   "mimetype": "text/x-python",
   "name": "python",
   "nbconvert_exporter": "python",
   "pygments_lexer": "ipython3",
   "version": "3.9.23"
  }
 },
 "nbformat": 4,
 "nbformat_minor": 5
}
