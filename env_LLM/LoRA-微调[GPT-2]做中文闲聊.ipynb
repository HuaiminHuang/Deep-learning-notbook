{
 "cells": [
  {
   "cell_type": "code",
   "execution_count": 1,
   "id": "9363a102-24c0-4071-b6e1-1ff7fdcf2caf",
   "metadata": {
    "scrolled": true
   },
   "outputs": [],
   "source": [
    "# !pip install torch transformers datasets peft accelerate"
   ]
  },
  {
   "cell_type": "code",
   "execution_count": 2,
   "id": "caf40e05-44d9-462d-b1cd-be358265244f",
   "metadata": {},
   "outputs": [],
   "source": [
    "from datasets import load_dataset\n",
    "from transformers import (\n",
    "    AutoTokenizer,\n",
    "    AutoModelForCausalLM,\n",
    "    DataCollatorForLanguageModeling,\n",
    "    Trainer,\n",
    "    TrainingArguments,\n",
    ")\n",
    "from peft import LoraConfig, get_peft_model, TaskType"
   ]
  },
  {
   "cell_type": "code",
   "execution_count": 3,
   "id": "a36b35a1-7cb7-436d-9a19-4d3076db8cf2",
   "metadata": {
    "scrolled": true
   },
   "outputs": [],
   "source": [
    "# 指定本地路径\n",
    "local_model_path = './gpt2'\n",
    "\n",
    "tokenizer = AutoTokenizer.from_pretrained(local_model_path)\n",
    "# GPT-2 没有 pad_token，沿用旧写法\n",
    "tokenizer.pad_token = tokenizer.eos_token\n",
    "\n",
    "# 加载本地文件作为训练集\n",
    "from datasets import concatenate_datasets\n",
    "\n",
    "# 读出三个 split\n",
    "ds = load_dataset(\n",
    "    \"json\",\n",
    "    data_files={\n",
    "        \"train\": \"dataset/qingyun.jsonl\",\n",
    "        \"valid\": \"dataset/tieba.jsonl\",\n",
    "        \"test\":  \"dataset/chat.jsonl\"\n",
    "    }\n",
    ")\n",
    "\n",
    "# 合并成一份大训练集\n",
    "all_train_ds = concatenate_datasets([ds[\"train\"]])"
   ]
  },
  {
   "cell_type": "code",
   "execution_count": 4,
   "id": "09574714-3ab5-4ff8-afc5-76069fa69e3c",
   "metadata": {
    "scrolled": true
   },
   "outputs": [
    {
     "data": {
      "text/plain": [
       "{'query': '说不粗来', 'response': '乱什么呢?'}"
      ]
     },
     "execution_count": 4,
     "metadata": {},
     "output_type": "execute_result"
    }
   ],
   "source": [
    "all_train_ds[10]"
   ]
  },
  {
   "cell_type": "code",
   "execution_count": 5,
   "id": "b9df9e0d-66d6-468e-88d6-09fd66532af4",
   "metadata": {},
   "outputs": [],
   "source": [
    "# 配置lora\n",
    "lora_config = LoraConfig(\n",
    "    task_type=TaskType.CAUSAL_LM,\n",
    "    r = 8,\n",
    "    lora_alpha=32,\n",
    "    lora_dropout=0.05,\n",
    "    target_modules=['c_attn', 'c_proj']\n",
    ")"
   ]
  },
  {
   "cell_type": "code",
   "execution_count": 6,
   "id": "d536259b-cede-474f-93fc-f2119eaabfef",
   "metadata": {
    "scrolled": true
   },
   "outputs": [
    {
     "data": {
      "application/vnd.jupyter.widget-view+json": {
       "model_id": "3d1a4c333c104b1ab42d1e6d5ba150c3",
       "version_major": 2,
       "version_minor": 0
      },
      "text/plain": [
       "Map:   0%|          | 0/117528 [00:00<?, ? examples/s]"
      ]
     },
     "metadata": {},
     "output_type": "display_data"
    }
   ],
   "source": [
    "MAX_LEN = 256\n",
    "def tokenize(batch):\n",
    "    texts = [f\"问：{q} \\n答：{r}\" for q, r in zip(batch[\"query\"], batch[\"response\"])]\n",
    "    out = tokenizer(\n",
    "        texts,\n",
    "        truncation=True,\n",
    "        padding=\"max_length\",\n",
    "        max_length=MAX_LEN,\n",
    "    )\n",
    "    out[\"labels\"] = out[\"input_ids\"].copy()\n",
    "    return out\n",
    "\n",
    "all_train_ds = all_train_ds.map(tokenize, batched=True, \n",
    "                                remove_columns=all_train_ds.column_names)"
   ]
  },
  {
   "cell_type": "code",
   "execution_count": 7,
   "id": "18471aad-03bc-4026-969c-d225a9a72e9c",
   "metadata": {},
   "outputs": [
    {
     "name": "stdout",
     "output_type": "stream",
     "text": [
      "trainable params: 811,008 || all params: 125,250,816 || trainable%: 0.6475\n"
     ]
    },
    {
     "name": "stderr",
     "output_type": "stream",
     "text": [
      "C:\\Users\\hhm18\\miniconda3\\envs\\DP_learn\\lib\\site-packages\\peft\\tuners\\lora\\layer.py:2156: UserWarning: fan_in_fan_out is set to False but the target module is `Conv1D`. Setting fan_in_fan_out to True.\n",
      "  warnings.warn(\n"
     ]
    }
   ],
   "source": [
    "# 加载本地模型\n",
    "model = AutoModelForCausalLM.from_pretrained(local_model_path)\n",
    "model = get_peft_model(model, lora_config)\n",
    "model.print_trainable_parameters()"
   ]
  },
  {
   "cell_type": "code",
   "execution_count": 8,
   "id": "d8fcbdb3-6bf2-4898-9026-800a1fecdc13",
   "metadata": {},
   "outputs": [],
   "source": [
    "args = TrainingArguments(\n",
    "    output_dir='./lora_gpt2',           # 保存路径\n",
    "    per_device_train_batch_size=2,      # 单个核心上的batch_size\n",
    "    gradient_accumulation_steps=4,      # 梯度累计步数，实际的全局B = 2*4\n",
    "    num_train_epochs=1,                 # 训练周期lora建议1-3（防止过拟合）\n",
    "    learning_rate=1e-3,                 # 优化器的学习率（默认AdamW：1e-4 ~ 1e-5）\n",
    "    fp16=True,                          # 混合精度训练（前向反向用float16）\n",
    ")"
   ]
  },
  {
   "cell_type": "code",
   "execution_count": 9,
   "id": "093ebca1-2ab3-4a1a-a1d2-4ec4075e75cd",
   "metadata": {
    "scrolled": true
   },
   "outputs": [
    {
     "name": "stderr",
     "output_type": "stream",
     "text": [
      "`loss_type=None` was set in the config but it is unrecognised.Using the default loss: `ForCausalLMLoss`.\n"
     ]
    },
    {
     "data": {
      "text/html": [
       "\n",
       "    <div>\n",
       "      \n",
       "      <progress value='14691' max='14691' style='width:300px; height:20px; vertical-align: middle;'></progress>\n",
       "      [14691/14691 2:29:27, Epoch 1/1]\n",
       "    </div>\n",
       "    <table border=\"1\" class=\"dataframe\">\n",
       "  <thead>\n",
       " <tr style=\"text-align: left;\">\n",
       "      <th>Step</th>\n",
       "      <th>Training Loss</th>\n",
       "    </tr>\n",
       "  </thead>\n",
       "  <tbody>\n",
       "    <tr>\n",
       "      <td>500</td>\n",
       "      <td>2.212200</td>\n",
       "    </tr>\n",
       "    <tr>\n",
       "      <td>1000</td>\n",
       "      <td>1.949700</td>\n",
       "    </tr>\n",
       "    <tr>\n",
       "      <td>1500</td>\n",
       "      <td>1.851600</td>\n",
       "    </tr>\n",
       "    <tr>\n",
       "      <td>2000</td>\n",
       "      <td>1.761000</td>\n",
       "    </tr>\n",
       "    <tr>\n",
       "      <td>2500</td>\n",
       "      <td>1.720800</td>\n",
       "    </tr>\n",
       "    <tr>\n",
       "      <td>3000</td>\n",
       "      <td>1.684100</td>\n",
       "    </tr>\n",
       "    <tr>\n",
       "      <td>3500</td>\n",
       "      <td>1.639100</td>\n",
       "    </tr>\n",
       "    <tr>\n",
       "      <td>4000</td>\n",
       "      <td>1.639800</td>\n",
       "    </tr>\n",
       "    <tr>\n",
       "      <td>4500</td>\n",
       "      <td>1.621200</td>\n",
       "    </tr>\n",
       "    <tr>\n",
       "      <td>5000</td>\n",
       "      <td>1.616500</td>\n",
       "    </tr>\n",
       "    <tr>\n",
       "      <td>5500</td>\n",
       "      <td>1.581200</td>\n",
       "    </tr>\n",
       "    <tr>\n",
       "      <td>6000</td>\n",
       "      <td>1.563800</td>\n",
       "    </tr>\n",
       "    <tr>\n",
       "      <td>6500</td>\n",
       "      <td>1.583200</td>\n",
       "    </tr>\n",
       "    <tr>\n",
       "      <td>7000</td>\n",
       "      <td>1.559400</td>\n",
       "    </tr>\n",
       "    <tr>\n",
       "      <td>7500</td>\n",
       "      <td>1.539700</td>\n",
       "    </tr>\n",
       "    <tr>\n",
       "      <td>8000</td>\n",
       "      <td>1.534600</td>\n",
       "    </tr>\n",
       "    <tr>\n",
       "      <td>8500</td>\n",
       "      <td>1.513400</td>\n",
       "    </tr>\n",
       "    <tr>\n",
       "      <td>9000</td>\n",
       "      <td>1.499500</td>\n",
       "    </tr>\n",
       "    <tr>\n",
       "      <td>9500</td>\n",
       "      <td>1.495200</td>\n",
       "    </tr>\n",
       "    <tr>\n",
       "      <td>10000</td>\n",
       "      <td>1.502900</td>\n",
       "    </tr>\n",
       "    <tr>\n",
       "      <td>10500</td>\n",
       "      <td>1.471200</td>\n",
       "    </tr>\n",
       "    <tr>\n",
       "      <td>11000</td>\n",
       "      <td>1.484200</td>\n",
       "    </tr>\n",
       "    <tr>\n",
       "      <td>11500</td>\n",
       "      <td>1.461100</td>\n",
       "    </tr>\n",
       "    <tr>\n",
       "      <td>12000</td>\n",
       "      <td>1.471100</td>\n",
       "    </tr>\n",
       "    <tr>\n",
       "      <td>12500</td>\n",
       "      <td>1.439200</td>\n",
       "    </tr>\n",
       "    <tr>\n",
       "      <td>13000</td>\n",
       "      <td>1.451200</td>\n",
       "    </tr>\n",
       "    <tr>\n",
       "      <td>13500</td>\n",
       "      <td>1.459200</td>\n",
       "    </tr>\n",
       "    <tr>\n",
       "      <td>14000</td>\n",
       "      <td>1.444800</td>\n",
       "    </tr>\n",
       "    <tr>\n",
       "      <td>14500</td>\n",
       "      <td>1.451800</td>\n",
       "    </tr>\n",
       "  </tbody>\n",
       "</table><p>"
      ],
      "text/plain": [
       "<IPython.core.display.HTML object>"
      ]
     },
     "metadata": {},
     "output_type": "display_data"
    },
    {
     "data": {
      "text/plain": [
       "TrainOutput(global_step=14691, training_loss=1.5912364554384115, metrics={'train_runtime': 8968.9404, 'train_samples_per_second': 13.104, 'train_steps_per_second': 1.638, 'total_flos': 1.5500970572120064e+16, 'train_loss': 1.5912364554384115, 'epoch': 1.0})"
      ]
     },
     "execution_count": 9,
     "metadata": {},
     "output_type": "execute_result"
    }
   ],
   "source": [
    "# 训练\n",
    "trainer = Trainer(model = model, args=args, \n",
    "    train_dataset=all_train_ds, data_collator=DataCollatorForLanguageModeling(tokenizer, mlm=False))\n",
    "trainer.train()"
   ]
  },
  {
   "cell_type": "code",
   "execution_count": 19,
   "id": "f957c3f1-6008-4156-a299-c86b7b966a3c",
   "metadata": {
    "scrolled": true
   },
   "outputs": [
    {
     "name": "stdout",
     "output_type": "stream",
     "text": [
      "用户：请问你是谁\n",
      "助手：走长空默银和人！嘎嘎嘎�\n"
     ]
    }
   ],
   "source": [
    "# 如果前面已经 import 过，下面这一行可省\n",
    "from transformers import AutoTokenizer\n",
    "\n",
    "# 1. 构造 prompt\n",
    "prompt = \"用户：请问你是谁\\n助手：\"\n",
    "\n",
    "# 2. 编码\n",
    "inputs = tokenizer(prompt, return_tensors=\"pt\")\n",
    "inputs = {k: v.to(model.device) for k, v in inputs.items()}   # 确保与模型同设备\n",
    "\n",
    "# 3. 生成\n",
    "out = model.generate(\n",
    "    **inputs,\n",
    "    max_new_tokens=32,\n",
    "    do_sample=True,\n",
    "    top_p=0.9,\n",
    "    pad_token_id=tokenizer.eos_token_id   # 防止警告\n",
    ")\n",
    "\n",
    "# 4. 解码打印\n",
    "print(tokenizer.decode(out[0], skip_special_tokens=True))"
   ]
  },
  {
   "cell_type": "code",
   "execution_count": 3,
   "id": "0c4b6575-eb72-4c50-b36f-5962aad90a4e",
   "metadata": {},
   "outputs": [
    {
     "data": {
      "text/plain": [
       "'\\\\mathrm{solve}(a, b, c) = \\\\frac{-b + \\\\sqrt{ b^{2} - 4 a c }}{2 a}'"
      ]
     },
     "execution_count": 3,
     "metadata": {},
     "output_type": "execute_result"
    }
   ],
   "source": [
    "import latexify\n",
    "import math\n",
    "\n",
    "@latexify.get_latex\n",
    "def solve(a, b, c):\n",
    "    return (-b + math.sqrt(b**2 - 4*a*c)) / (2*a)\n",
    "\n",
    "solve  # 直接输出单元格，会显示 LaTeX 公式"
   ]
  },
  {
   "cell_type": "markdown",
   "id": "000f21e7-c0d2-4c9b-9fa3-2667302094d0",
   "metadata": {},
   "source": [
    "$$\n",
    "\\begin{algorithmic}[1]\n",
    "\\Procedure{Euclid}{$a, b$} \\Comment{计算最大公约数}\n",
    "\\State $r \\gets a \\bmod b$\n",
    "\\While{$r \\neq 0$}\n",
    "\\State $a \\gets b$\n",
    "\\State $b \\gets r$\n",
    "\\State $r \\gets a \\bmod b$\n",
    "\\EndWhile\n",
    "\\State \\textbf{return} $b$\n",
    "\\EndProcedure\n",
    "\\end{algorithmic}\n",
    "$$"
   ]
  },
  {
   "cell_type": "code",
   "execution_count": null,
   "id": "93b27831-f019-41a3-a474-3e59f3ecc52a",
   "metadata": {},
   "outputs": [],
   "source": []
  }
 ],
 "metadata": {
  "kernelspec": {
   "display_name": "Python 3 (ipykernel)",
   "language": "python",
   "name": "python3"
  },
  "language_info": {
   "codemirror_mode": {
    "name": "ipython",
    "version": 3
   },
   "file_extension": ".py",
   "mimetype": "text/x-python",
   "name": "python",
   "nbconvert_exporter": "python",
   "pygments_lexer": "ipython3",
   "version": "3.9.23"
  }
 },
 "nbformat": 4,
 "nbformat_minor": 5
}
